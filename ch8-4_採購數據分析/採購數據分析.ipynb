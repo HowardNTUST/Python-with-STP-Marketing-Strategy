{
 "metadata": {
  "language_info": {
   "codemirror_mode": {
    "name": "ipython",
    "version": 3
   },
   "file_extension": ".py",
   "mimetype": "text/x-python",
   "name": "python",
   "nbconvert_exporter": "python",
   "pygments_lexer": "ipython3",
   "version": "3.6.6-final"
  },
  "orig_nbformat": 2,
  "kernelspec": {
   "name": "python_defaultSpec_1600112600419",
   "display_name": "Python 3.7.7 64-bit ('anaconda3': virtualenv)"
  }
 },
 "nbformat": 4,
 "nbformat_minor": 2,
 "cells": [
  {
   "cell_type": "markdown",
   "metadata": {},
   "source": [
    "# STP 行銷策略之 Python 商業應用實戰專書\n",
    "# 章節 8-4 採購數據分析\n",
    "\n",
    "- 作者: [鍾皓軒](https://tmrmds.co/about/)與楊超霆\n",
    "- 建議讀者可以配合[STP 行銷策略之 Python 商業應用實戰](https://www.tenlong.com.tw/products/9789865025878?list_name=b-r7-zh_tw)專書的章節 8-4 採購數據分析一同參考，效果會更好\n",
    "- 本章節含有動態圖表建議可以查看本[notebook](https://nbviewer.jupyter.org/github/HowardNTUST/Python-with-STP-Marketing-Strategy/blob/master/ch8-4_%E6%8E%A1%E8%B3%BC%E6%95%B8%E6%93%9A%E5%88%86%E6%9E%90/%E6%8E%A1%E8%B3%BC%E6%95%B8%E6%93%9A%E5%88%86%E6%9E%90%20-%20nb.ipynb)取得更好的閱讀效果"
   ]
  },
  {
   "source": [
    "## 事前準備\n",
    "- 取得[蝦皮_ 運動內衣_教學用【處理後】留言資料.csv](https://drive.google.com/file/d/1rrOSCjcu0lOdEq8OoKrHNLWzJu8R9eQc/view?usp=sharing)\n"
   ],
   "cell_type": "markdown",
   "metadata": {}
  },
  {
   "cell_type": "code",
   "execution_count": 2,
   "metadata": {},
   "outputs": [],
   "source": [
    "\n",
    "import pandas as pd\n",
    "\n",
    "# 讀取檔案\n",
    "# 實際操作的時候要放「 蝦皮_運動內衣_【處理後】留言資料.csv 」\n",
    "comment_Data = pd.read_csv('蝦皮_運動內衣_教學用【處理後】留言資料.csv', encoding='utf-8-sig',engine='python')\n"
   ]
  },
  {
   "source": [
    "## 統一Size 與顏色"
   ],
   "cell_type": "markdown",
   "metadata": {}
  },
  {
   "cell_type": "code",
   "execution_count": 3,
   "metadata": {},
   "outputs": [],
   "source": [
    "#先取代全形字母\n",
    "comment_Data['商品規格'] = comment_Data['商品規格'].str.replace('Ｓ','S')\n",
    "comment_Data['商品規格'] = comment_Data['商品規格'].str.replace('Ｍ','M')\n",
    "comment_Data['商品規格'] = comment_Data['商品規格'].str.replace('Ｌ','L')\n",
    "\n",
    "#從最大的開始取代（大尺碼）\n",
    "# 原因：後續計算L的時候，會將2L、3L都計算進去，所以先使用@替代\n",
    "comment_Data['商品規格'] = comment_Data['商品規格'].str.replace('XXXXXXXXL','8@')\n",
    "comment_Data['商品規格'] = comment_Data['商品規格'].str.replace('8XL','8@')\n",
    "comment_Data['商品規格'] = comment_Data['商品規格'].str.replace('XXXXXXXL','7@')\n",
    "comment_Data['商品規格'] = comment_Data['商品規格'].str.replace('7XL','7@')\n",
    "comment_Data['商品規格'] = comment_Data['商品規格'].str.replace('XXXXXXL','6@')\n",
    "comment_Data['商品規格'] = comment_Data['商品規格'].str.replace('6XL','6@')\n",
    "comment_Data['商品規格'] = comment_Data['商品規格'].str.replace('XXXXXL','5@')\n",
    "comment_Data['商品規格'] = comment_Data['商品規格'].str.replace('5XL','5@')\n",
    "comment_Data['商品規格'] = comment_Data['商品規格'].str.replace('XXXXL','4@')\n",
    "comment_Data['商品規格'] = comment_Data['商品規格'].str.replace('4XL','4@')\n",
    "comment_Data['商品規格'] = comment_Data['商品規格'].str.replace('XXXL','3@')\n",
    "comment_Data['商品規格'] = comment_Data['商品規格'].str.replace('3XL','3@')\n",
    "comment_Data['商品規格'] = comment_Data['商品規格'].str.replace('XXL','2@')\n",
    "comment_Data['商品規格'] = comment_Data['商品規格'].str.replace('2XL','2@')\n",
    "comment_Data['商品規格'] = comment_Data['商品規格'].str.replace('XL','1@')\n",
    "\n",
    "#從最小的開始取代（小尺碼）\n",
    "comment_Data['商品規格'] = comment_Data['商品規格'].str.replace('XXS','3~')\n",
    "comment_Data['商品規格'] = comment_Data['商品規格'].str.replace('3XS','3~')\n",
    "comment_Data['商品規格'] = comment_Data['商品規格'].str.replace('XS','2~')\n",
    "\n",
    "#取代特殊顏色\n",
    "comment_Data['商品規格'] = comment_Data['商品規格'].str.replace('深灰','1#')\n",
    "comment_Data['商品規格'] = comment_Data['商品規格'].str.replace('熒光綠','2#')\n",
    "comment_Data['商品規格'] = comment_Data['商品規格'].str.replace('軍綠色','3#')\n",
    "comment_Data['商品規格'] = comment_Data['商品規格'].str.replace('酒紅','4#')\n",
    "comment_Data['商品規格'] = comment_Data['商品規格'].str.replace('深藍','5#')\n",
    "comment_Data['商品規格'] = comment_Data['商品規格'].str.replace('墨綠','6#')\n",
    "comment_Data['商品規格'] = comment_Data['商品規格'].str.replace('粉橘','7#')\n",
    "comment_Data['商品規格'] = comment_Data['商品規格'].str.replace('紫粉','8#')\n",
    "comment_Data['商品規格'] = comment_Data['商品規格'].str.replace('棗紅','9#')\n",
    "comment_Data['商品規格'] = comment_Data['商品規格'].str.replace('寶藍','10#')\n",
    "\n",
    "comment_Data['商品規格'] = comment_Data['商品規格'].str.replace('桃紅','桃')\n",
    "\n",
    "color = ['黑','白','灰','綠','粉色','膚','橘','藍','紫色','咖啡色','焦糖','桃','紅'\n",
    "         ,'黃','藏青','1#','2#','3#','4#','5#','6#','7#','8#','9#','10#']\n",
    "size = ['8@','7@','6@','5@','4@','3@','2@','1@','L','M','S','2~','3~']\n",
    "\n",
    "def evaluation(thestr):\n",
    "    return eval(thestr)\n",
    "\n",
    "\n"
   ]
  },
  {
   "cell_type": "code",
   "execution_count": 4,
   "metadata": {
    "tags": []
   },
   "outputs": [
    {
     "output_type": "stream",
     "name": "stdout",
     "text": "['黑色M', '黑色S']\n<class 'str'>\n"
    }
   ],
   "source": [
    "\n",
    "# 我們要將「商品規格」轉換成list\n",
    "\n",
    "# 還沒有eval之前，是str\n",
    "print(comment_Data['商品規格'][0])\n",
    "print(type(comment_Data['商品規格'][0]))"
   ]
  },
  {
   "cell_type": "code",
   "execution_count": 5,
   "metadata": {
    "tags": []
   },
   "outputs": [
    {
     "output_type": "stream",
     "name": "stdout",
     "text": "['黑色M', '黑色S']\n"
    },
    {
     "output_type": "execute_result",
     "data": {
      "text/plain": "list"
     },
     "metadata": {},
     "execution_count": 5
    }
   ],
   "source": [
    "# eval之後，就是list\n",
    "print(eval(comment_Data['商品規格'][0]))\n",
    "type(eval(comment_Data['商品規格'][0]))\n"
   ]
  },
  {
   "cell_type": "code",
   "execution_count": 6,
   "metadata": {},
   "outputs": [],
   "source": [
    "\n",
    "# 把欄位的內容放入evaluation方法進行轉換\n",
    "# apply：pandas的for 迴圈\n",
    "comment_Data['商品規格'] = comment_Data['商品規格'].apply(evaluation)\n",
    "comment_Data['商品規格']\n",
    "comment_Data['商品規格'][0]\n",
    "\n",
    "# 將SKU結果單獨分開\n",
    "# 舉例：[ [黑色M, 黑色S] ]--> \n",
    "# ['黑色M', \n",
    "# '黑色S']\n",
    "all_single_divide_product = comment_Data['商品規格'].sum()\n",
    "all_single_divide_product[0:2] \n",
    "\n",
    "# 轉變成data frame\n",
    "all_single_divide_product = pd.DataFrame(all_single_divide_product)\n",
    "\n",
    "# 將NAN剔除\n",
    "all_single_divide_product = all_single_divide_product.dropna()\n",
    "\n",
    "# 將sku計算表的名稱命名為SKU\n",
    "all_single_divide_product.columns = ['SKU']\n"
   ]
  },
  {
   "source": [
    "# 創造市場SKU統計表"
   ],
   "cell_type": "markdown",
   "metadata": {}
  },
  {
   "cell_type": "code",
   "execution_count": 7,
   "metadata": {
    "tags": []
   },
   "outputs": [
    {
     "output_type": "stream",
     "name": "stdout",
     "text": "黑 與 8@\n黑 與 7@\n黑 與 6@\n黑 與 5@\n黑 與 4@\n黑 與 3@\n黑 與 2@\n黑 與 1@\n黑 與 L\n黑 與 M\n黑 與 S\n黑 與 2~\n黑 與 3~\n白 與 8@\n白 與 7@\n白 與 6@\n白 與 5@\n白 與 4@\n白 與 3@\n白 與 2@\n白 與 1@\n白 與 L\n白 與 M\n白 與 S\n白 與 2~\n白 與 3~\n灰 與 8@\n灰 與 7@\n灰 與 6@\n灰 與 5@\n灰 與 4@\n灰 與 3@\n灰 與 2@\n灰 與 1@\n灰 與 L\n灰 與 M\n灰 與 S\n灰 與 2~\n灰 與 3~\n綠 與 8@\n綠 與 7@\n綠 與 6@\n綠 與 5@\n綠 與 4@\n綠 與 3@\n綠 與 2@\n綠 與 1@\n綠 與 L\n綠 與 M\n綠 與 S\n綠 與 2~\n綠 與 3~\n粉色 與 8@\n粉色 與 7@\n粉色 與 6@\n粉色 與 5@\n粉色 與 4@\n粉色 與 3@\n粉色 與 2@\n粉色 與 1@\n粉色 與 L\n粉色 與 M\n粉色 與 S\n粉色 與 2~\n粉色 與 3~\n膚 與 8@\n膚 與 7@\n膚 與 6@\n膚 與 5@\n膚與 4@\n膚 與 3@\n膚 與 2@\n膚 與 1@\n膚 與 L\n膚 與 M\n膚 與 S\n膚與 2~\n膚 與 3~\n橘 與 8@\n橘 與 7@\n橘 與 6@\n橘 與 5@\n橘 與 4@\n橘 與 3@\n橘 與 2@\n橘 與 1@\n橘 與 L\n橘 與 M\n橘 與 S\n橘 與 2~\n橘 與 3~\n藍 與 8@\n藍 與 7@\n藍 與 6@\n藍 與 5@\n藍 與 4@\n藍 與 3@\n藍 與 2@\n藍 與 1@\n藍 與 L\n藍 與 M\n藍 與 S\n藍 與 2~\n藍 與 3~\n紫色 與 8@\n紫色 與 7@\n紫色 與 6@\n紫色 與 5@\n紫色 與 4@\n紫色 與 3@\n紫色 與 2@\n紫色 與 1@\n紫色 與 L\n紫色 與 M\n紫色 與 S\n紫色 與 2~\n紫色 與 3~\n咖啡色 與 8@\n咖啡色 與 7@\n咖啡色 與 6@\n咖啡色 與 5@\n咖啡色 與 4@\n咖啡色 與 3@\n咖啡色 與 2@\n咖啡色與 1@\n咖啡色 與 L\n咖啡色 與 M\n咖啡色 與 S\n咖啡色 與 2~\n咖啡色 與 3~\n焦糖 與 8@\n焦糖 與 7@\n焦糖 與 6@\n焦糖 與 5@\n焦糖 與 4@\n焦糖 與 3@\n焦糖 與 2@\n焦糖 與 1@\n焦糖 與 L\n焦糖 與 M\n焦糖 與 S\n焦糖 與 2~\n焦糖 與 3~\n桃 與 8@\n桃 與 7@\n桃 與 6@\n桃 與 5@\n桃 與 4@\n桃 與 3@\n桃 與2@\n桃 與 1@\n桃 與 L\n桃 與 M\n桃 與 S\n桃 與 2~\n桃 與 3~\n紅 與 8@\n紅 與 7@\n紅 與 6@\n紅 與 5@\n紅 與 4@\n紅 與 3@\n紅 與 2@\n紅 與 1@\n紅 與 L\n紅 與 M\n紅 與 S\n紅 與 2~\n紅 與 3~\n黃 與 8@\n黃 與 7@\n黃 與 6@\n黃 與 5@\n黃 與 4@\n黃 與 3@\n黃 與 2@\n黃 與 1@\n黃 與 L\n黃 與 M\n黃 與 S\n黃 與 2~\n黃 與 3~\n藏青 與 8@\n藏青 與 7@\n藏青 與 6@\n藏青 與 5@\n藏青 與 4@\n藏青 與 3@\n藏青 與 2@\n藏青 與 1@\n藏青 與 L\n藏青 與 M\n藏青 與 S\n藏青 與 2~\n藏青 與 3~\n1# 與 8@\n1# 與 7@\n1# 與 6@\n1# 與 5@\n1# 與 4@\n1# 與 3@\n1# 與 2@\n1# 與 1@\n1# 與 L\n1# 與 M\n1# 與 S\n1# 與 2~\n1# 與 3~\n2# 與 8@\n2# 與 7@\n2# 與 6@\n2# 與 5@\n2# 與 4@\n2#與 3@\n2# 與 2@\n2# 與 1@\n2# 與 L\n2# 與 M\n2# 與 S\n2# 與 2~\n2# 與 3~\n3# 與 8@\n3# 與 7@\n3# 與 6@\n3# 與 5@\n3# 與 4@\n3# 與 3@\n3# 與 2@\n3# 與 1@\n3# 與 L\n3# 與 M\n3# 與 S\n3# 與 2~\n3# 與 3~\n4# 與 8@\n4# 與 7@\n4# 與 6@\n4# 與 5@\n4# 與 4@\n4# 與 3@\n4# 與 2@\n4# 與 1@\n4# 與 L\n4# 與 M\n4# 與 S\n4# 與 2~\n4# 與 3~\n5# 與 8@\n5# 與 7@\n5# 與 6@\n5# 與 5@\n5# 與 4@\n5# 與 3@\n5# 與 2@\n5# 與 1@\n5# 與 L\n5# 與 M\n5# 與 S\n5# 與 2~\n5# 與 3~\n6# 與 8@\n6# 與 7@\n6# 與 6@\n6# 與 5@\n6# 與 4@\n6# 與 3@\n6# 與 2@\n6# 與 1@\n6# 與 L\n6# 與 M\n6# 與 S\n6# 與 2~\n6# 與 3~\n7# 與 8@\n7# 與 7@\n7# 與 6@\n7# 與 5@\n7# 與 4@\n7# 與 3@\n7# 與 2@\n7# 與1@\n7# 與 L\n7# 與 M\n7# 與 S\n7# 與 2~\n7# 與 3~\n8# 與 8@\n8# 與 7@\n8# 與 6@\n8# 與 5@\n8# 與 4@\n8# 與 3@\n8# 與 2@\n8# 與 1@\n8# 與 L\n8# 與 M\n8# 與 S\n8# 與 2~\n8# 與 3~\n9# 與 8@\n9# 與 7@\n9# 與 6@\n9# 與 5@\n9# 與 4@\n9# 與 3@\n9# 與 2@\n9# 與 1@\n9# 與 L\n9# 與 M\n9# 與 S\n9# 與 2~\n9# 與 3~\n10# 與 8@\n10# 與 7@\n10# 與 6@\n10# 與 5@\n10# 與 4@\n10# 與 3@\n10# 與 2@\n10# 與 1@\n10# 與 L\n10# 與 M\n10# 與 S\n10# 與 2~\n10# 與 3~\n"
    }
   ],
   "source": [
    "\n",
    "# sku統計表function\n",
    "def sku_table_fun(all_single_divide_product,color, size):\n",
    "    matrix=[]\n",
    "    for c in color:\n",
    "        container=[]\n",
    "        for s in size:\n",
    "            print(c, '與', s)\n",
    "            container.append(\n",
    "                len(all_single_divide_product[ all_single_divide_product['SKU'].str.contains(c) &\n",
    "                            all_single_divide_product['SKU'].str.contains(s)\n",
    "                        ])\n",
    "                )\n",
    "        matrix.append(container)\n",
    "    return matrix\n",
    "\n",
    "matrix = sku_table_fun(all_single_divide_product, color, size)\n",
    "\n",
    "buyer = pd.DataFrame(matrix)\n",
    "buyer.columns = ['8XL','7XL','6XL','5XL','4XL','3XL','2XL','XL','L','M','S','XS','2XS']\n",
    "buyer.index = ['黑','白','灰','綠','粉色','膚','橘','藍','紫色','咖啡色','焦糖','桃','紅','黃','藏青',\n",
    "         '深灰','熒光綠','軍綠色','酒紅','深藍','墨綠','粉橘','紫粉','棗紅','寶藍']\n",
    "\n",
    "buyer.to_csv('01_市場SKU統計表.csv', encoding= 'UTF-8-sig')\n"
   ]
  },
  {
   "cell_type": "code",
   "execution_count": 8,
   "metadata": {},
   "outputs": [
    {
     "output_type": "execute_result",
     "data": {
      "text/plain": "     8XL  7XL  6XL  5XL  4XL  3XL   2XL    XL      L      M     S   XS  2XS\n黑      0   33   85  322  402  754  2254  6467  10276  11343  6087  205    0\n白      0    0    6   40   57  101   465  1184   2158   2513  1610   67    0\n灰      0    0   45  183  160  190  1210  2974   4555   4980  2777  132    0\n綠      0    0    0    0   27   22   114   420    813    920   494   10    0\n粉色     0    0    0    0   17   33   261  1222   1738   1988   829    8    0\n膚      0    4   16   51   64  156   452  1929   2443   2486  1002    9    0\n橘      0    0    0    0    1   21   101   133    352    330   207    0    0\n藍      0    5   46   29   49  127   657  1583   2582   2552  1071   34    0\n紫色     0    0    9   31   23   75   169   411    900    906   455    5    0\n咖啡色    0    0    0    0    0    0     8     1      2      4     0    0    0\n焦糖     0    0    0    0    0    0     1    22     87    107    29    0    0\n桃      0    0    0    2    2   25   117   256    402    335   126    0    0\n紅      0    2    4   47   86  225   378   763   1169   1180   757   29    0\n黃      0    0    0    0    0    1    73    68    174    142    70    4    0\n藏青     0    0    0    0    0    6    56   121    192    203    35    4    0\n深灰     0    0    4    3    1    3    42    95    327    331   283    1    0\n熒光綠    0    0    0    0    0    0     6    17     26     27    15    0    0\n軍綠色    0    0    0    0    0    0     0     7      9     21    23    0    0\n酒紅     0    0    0    0    5    7   161   160    185    276   310    5    0\n深藍     0    0    0    0    0   23    71   174    224    268   119    7    0\n墨綠     0    0    0    0    0    0     6    19     63     91    48    0    0\n粉橘     0    0    0    0    0    3    34    25     35     59    21    2    0\n紫粉     0    0    0    0    0    0     4     3     24     24    22    1    0\n棗紅     0    0    0    0    0    0     0    74     71     91    52    1    0\n寶藍     0    0    0    0    1   13    35    54     69     59    56    0    0",
      "text/html": "<div>\n<style scoped>\n    .dataframe tbody tr th:only-of-type {\n        vertical-align: middle;\n    }\n\n    .dataframe tbody tr th {\n        vertical-align: top;\n    }\n\n    .dataframe thead th {\n        text-align: right;\n    }\n</style>\n<table border=\"1\" class=\"dataframe\">\n  <thead>\n    <tr style=\"text-align: right;\">\n      <th></th>\n      <th>8XL</th>\n      <th>7XL</th>\n      <th>6XL</th>\n      <th>5XL</th>\n      <th>4XL</th>\n      <th>3XL</th>\n      <th>2XL</th>\n      <th>XL</th>\n      <th>L</th>\n      <th>M</th>\n      <th>S</th>\n      <th>XS</th>\n      <th>2XS</th>\n    </tr>\n  </thead>\n  <tbody>\n    <tr>\n      <th>黑</th>\n      <td>0</td>\n      <td>33</td>\n      <td>85</td>\n      <td>322</td>\n      <td>402</td>\n      <td>754</td>\n      <td>2254</td>\n      <td>6467</td>\n      <td>10276</td>\n      <td>11343</td>\n      <td>6087</td>\n      <td>205</td>\n      <td>0</td>\n    </tr>\n    <tr>\n      <th>白</th>\n      <td>0</td>\n      <td>0</td>\n      <td>6</td>\n      <td>40</td>\n      <td>57</td>\n      <td>101</td>\n      <td>465</td>\n      <td>1184</td>\n      <td>2158</td>\n      <td>2513</td>\n      <td>1610</td>\n      <td>67</td>\n      <td>0</td>\n    </tr>\n    <tr>\n      <th>灰</th>\n      <td>0</td>\n      <td>0</td>\n      <td>45</td>\n      <td>183</td>\n      <td>160</td>\n      <td>190</td>\n      <td>1210</td>\n      <td>2974</td>\n      <td>4555</td>\n      <td>4980</td>\n      <td>2777</td>\n      <td>132</td>\n      <td>0</td>\n    </tr>\n    <tr>\n      <th>綠</th>\n      <td>0</td>\n      <td>0</td>\n      <td>0</td>\n      <td>0</td>\n      <td>27</td>\n      <td>22</td>\n      <td>114</td>\n      <td>420</td>\n      <td>813</td>\n      <td>920</td>\n      <td>494</td>\n      <td>10</td>\n      <td>0</td>\n    </tr>\n    <tr>\n      <th>粉色</th>\n      <td>0</td>\n      <td>0</td>\n      <td>0</td>\n      <td>0</td>\n      <td>17</td>\n      <td>33</td>\n      <td>261</td>\n      <td>1222</td>\n      <td>1738</td>\n      <td>1988</td>\n      <td>829</td>\n      <td>8</td>\n      <td>0</td>\n    </tr>\n    <tr>\n      <th>膚</th>\n      <td>0</td>\n      <td>4</td>\n      <td>16</td>\n      <td>51</td>\n      <td>64</td>\n      <td>156</td>\n      <td>452</td>\n      <td>1929</td>\n      <td>2443</td>\n      <td>2486</td>\n      <td>1002</td>\n      <td>9</td>\n      <td>0</td>\n    </tr>\n    <tr>\n      <th>橘</th>\n      <td>0</td>\n      <td>0</td>\n      <td>0</td>\n      <td>0</td>\n      <td>1</td>\n      <td>21</td>\n      <td>101</td>\n      <td>133</td>\n      <td>352</td>\n      <td>330</td>\n      <td>207</td>\n      <td>0</td>\n      <td>0</td>\n    </tr>\n    <tr>\n      <th>藍</th>\n      <td>0</td>\n      <td>5</td>\n      <td>46</td>\n      <td>29</td>\n      <td>49</td>\n      <td>127</td>\n      <td>657</td>\n      <td>1583</td>\n      <td>2582</td>\n      <td>2552</td>\n      <td>1071</td>\n      <td>34</td>\n      <td>0</td>\n    </tr>\n    <tr>\n      <th>紫色</th>\n      <td>0</td>\n      <td>0</td>\n      <td>9</td>\n      <td>31</td>\n      <td>23</td>\n      <td>75</td>\n      <td>169</td>\n      <td>411</td>\n      <td>900</td>\n      <td>906</td>\n      <td>455</td>\n      <td>5</td>\n      <td>0</td>\n    </tr>\n    <tr>\n      <th>咖啡色</th>\n      <td>0</td>\n      <td>0</td>\n      <td>0</td>\n      <td>0</td>\n      <td>0</td>\n      <td>0</td>\n      <td>8</td>\n      <td>1</td>\n      <td>2</td>\n      <td>4</td>\n      <td>0</td>\n      <td>0</td>\n      <td>0</td>\n    </tr>\n    <tr>\n      <th>焦糖</th>\n      <td>0</td>\n      <td>0</td>\n      <td>0</td>\n      <td>0</td>\n      <td>0</td>\n      <td>0</td>\n      <td>1</td>\n      <td>22</td>\n      <td>87</td>\n      <td>107</td>\n      <td>29</td>\n      <td>0</td>\n      <td>0</td>\n    </tr>\n    <tr>\n      <th>桃</th>\n      <td>0</td>\n      <td>0</td>\n      <td>0</td>\n      <td>2</td>\n      <td>2</td>\n      <td>25</td>\n      <td>117</td>\n      <td>256</td>\n      <td>402</td>\n      <td>335</td>\n      <td>126</td>\n      <td>0</td>\n      <td>0</td>\n    </tr>\n    <tr>\n      <th>紅</th>\n      <td>0</td>\n      <td>2</td>\n      <td>4</td>\n      <td>47</td>\n      <td>86</td>\n      <td>225</td>\n      <td>378</td>\n      <td>763</td>\n      <td>1169</td>\n      <td>1180</td>\n      <td>757</td>\n      <td>29</td>\n      <td>0</td>\n    </tr>\n    <tr>\n      <th>黃</th>\n      <td>0</td>\n      <td>0</td>\n      <td>0</td>\n      <td>0</td>\n      <td>0</td>\n      <td>1</td>\n      <td>73</td>\n      <td>68</td>\n      <td>174</td>\n      <td>142</td>\n      <td>70</td>\n      <td>4</td>\n      <td>0</td>\n    </tr>\n    <tr>\n      <th>藏青</th>\n      <td>0</td>\n      <td>0</td>\n      <td>0</td>\n      <td>0</td>\n      <td>0</td>\n      <td>6</td>\n      <td>56</td>\n      <td>121</td>\n      <td>192</td>\n      <td>203</td>\n      <td>35</td>\n      <td>4</td>\n      <td>0</td>\n    </tr>\n    <tr>\n      <th>深灰</th>\n      <td>0</td>\n      <td>0</td>\n      <td>4</td>\n      <td>3</td>\n      <td>1</td>\n      <td>3</td>\n      <td>42</td>\n      <td>95</td>\n      <td>327</td>\n      <td>331</td>\n      <td>283</td>\n      <td>1</td>\n      <td>0</td>\n    </tr>\n    <tr>\n      <th>熒光綠</th>\n      <td>0</td>\n      <td>0</td>\n      <td>0</td>\n      <td>0</td>\n      <td>0</td>\n      <td>0</td>\n      <td>6</td>\n      <td>17</td>\n      <td>26</td>\n      <td>27</td>\n      <td>15</td>\n      <td>0</td>\n      <td>0</td>\n    </tr>\n    <tr>\n      <th>軍綠色</th>\n      <td>0</td>\n      <td>0</td>\n      <td>0</td>\n      <td>0</td>\n      <td>0</td>\n      <td>0</td>\n      <td>0</td>\n      <td>7</td>\n      <td>9</td>\n      <td>21</td>\n      <td>23</td>\n      <td>0</td>\n      <td>0</td>\n    </tr>\n    <tr>\n      <th>酒紅</th>\n      <td>0</td>\n      <td>0</td>\n      <td>0</td>\n      <td>0</td>\n      <td>5</td>\n      <td>7</td>\n      <td>161</td>\n      <td>160</td>\n      <td>185</td>\n      <td>276</td>\n      <td>310</td>\n      <td>5</td>\n      <td>0</td>\n    </tr>\n    <tr>\n      <th>深藍</th>\n      <td>0</td>\n      <td>0</td>\n      <td>0</td>\n      <td>0</td>\n      <td>0</td>\n      <td>23</td>\n      <td>71</td>\n      <td>174</td>\n      <td>224</td>\n      <td>268</td>\n      <td>119</td>\n      <td>7</td>\n      <td>0</td>\n    </tr>\n    <tr>\n      <th>墨綠</th>\n      <td>0</td>\n      <td>0</td>\n      <td>0</td>\n      <td>0</td>\n      <td>0</td>\n      <td>0</td>\n      <td>6</td>\n      <td>19</td>\n      <td>63</td>\n      <td>91</td>\n      <td>48</td>\n      <td>0</td>\n      <td>0</td>\n    </tr>\n    <tr>\n      <th>粉橘</th>\n      <td>0</td>\n      <td>0</td>\n      <td>0</td>\n      <td>0</td>\n      <td>0</td>\n      <td>3</td>\n      <td>34</td>\n      <td>25</td>\n      <td>35</td>\n      <td>59</td>\n      <td>21</td>\n      <td>2</td>\n      <td>0</td>\n    </tr>\n    <tr>\n      <th>紫粉</th>\n      <td>0</td>\n      <td>0</td>\n      <td>0</td>\n      <td>0</td>\n      <td>0</td>\n      <td>0</td>\n      <td>4</td>\n      <td>3</td>\n      <td>24</td>\n      <td>24</td>\n      <td>22</td>\n      <td>1</td>\n      <td>0</td>\n    </tr>\n    <tr>\n      <th>棗紅</th>\n      <td>0</td>\n      <td>0</td>\n      <td>0</td>\n      <td>0</td>\n      <td>0</td>\n      <td>0</td>\n      <td>0</td>\n      <td>74</td>\n      <td>71</td>\n      <td>91</td>\n      <td>52</td>\n      <td>1</td>\n      <td>0</td>\n    </tr>\n    <tr>\n      <th>寶藍</th>\n      <td>0</td>\n      <td>0</td>\n      <td>0</td>\n      <td>0</td>\n      <td>1</td>\n      <td>13</td>\n      <td>35</td>\n      <td>54</td>\n      <td>69</td>\n      <td>59</td>\n      <td>56</td>\n      <td>0</td>\n      <td>0</td>\n    </tr>\n  </tbody>\n</table>\n</div>"
     },
     "metadata": {},
     "execution_count": 8
    }
   ],
   "source": [
    "buyer"
   ]
  },
  {
   "source": [
    "## SKU尺寸百分比 "
   ],
   "cell_type": "markdown",
   "metadata": {}
  },
  {
   "cell_type": "code",
   "execution_count": 9,
   "metadata": {},
   "outputs": [
    {
     "output_type": "execute_result",
     "data": {
      "text/plain": "     顏色  8XL   7XL   6XL   5XL   4XL   3XL   2XL    XL     L     M     S  \\\n0     黑  NaN  0.75  0.40  0.45  0.45  0.42  0.34  0.36  0.36  0.36  0.37   \n1     白  NaN  0.00  0.03  0.06  0.06  0.06  0.07  0.07  0.07  0.08  0.10   \n2     灰  NaN  0.00  0.21  0.26  0.18  0.11  0.18  0.16  0.16  0.16  0.17   \n3     綠  NaN  0.00  0.00  0.00  0.03  0.01  0.02  0.02  0.03  0.03  0.03   \n4    粉色  NaN  0.00  0.00  0.00  0.02  0.02  0.04  0.07  0.06  0.06  0.05   \n5     膚  NaN  0.09  0.07  0.07  0.07  0.09  0.07  0.11  0.08  0.08  0.06   \n6     橘  NaN  0.00  0.00  0.00  0.00  0.01  0.02  0.01  0.01  0.01  0.01   \n7     藍  NaN  0.11  0.21  0.04  0.05  0.07  0.10  0.09  0.09  0.08  0.06   \n8    紫色  NaN  0.00  0.04  0.04  0.03  0.04  0.03  0.02  0.03  0.03  0.03   \n9   咖啡色  NaN  0.00  0.00  0.00  0.00  0.00  0.00  0.00  0.00  0.00  0.00   \n10   焦糖  NaN  0.00  0.00  0.00  0.00  0.00  0.00  0.00  0.00  0.00  0.00   \n11    桃  NaN  0.00  0.00  0.00  0.00  0.01  0.02  0.01  0.01  0.01  0.01   \n12    紅  NaN  0.05  0.02  0.07  0.10  0.13  0.06  0.04  0.04  0.04  0.05   \n13    黃  NaN  0.00  0.00  0.00  0.00  0.00  0.01  0.00  0.01  0.00  0.00   \n14   藏青  NaN  0.00  0.00  0.00  0.00  0.00  0.01  0.01  0.01  0.01  0.00   \n15   深灰  NaN  0.00  0.02  0.00  0.00  0.00  0.01  0.01  0.01  0.01  0.02   \n16  熒光綠  NaN  0.00  0.00  0.00  0.00  0.00  0.00  0.00  0.00  0.00  0.00   \n17  軍綠色  NaN  0.00  0.00  0.00  0.00  0.00  0.00  0.00  0.00  0.00  0.00   \n18   酒紅  NaN  0.00  0.00  0.00  0.01  0.00  0.02  0.01  0.01  0.01  0.02   \n19   深藍  NaN  0.00  0.00  0.00  0.00  0.01  0.01  0.01  0.01  0.01  0.01   \n20   墨綠  NaN  0.00  0.00  0.00  0.00  0.00  0.00  0.00  0.00  0.00  0.00   \n21   粉橘  NaN  0.00  0.00  0.00  0.00  0.00  0.01  0.00  0.00  0.00  0.00   \n22   紫粉  NaN  0.00  0.00  0.00  0.00  0.00  0.00  0.00  0.00  0.00  0.00   \n23   棗紅  NaN  0.00  0.00  0.00  0.00  0.00  0.00  0.00  0.00  0.00  0.00   \n24   寶藍  NaN  0.00  0.00  0.00  0.00  0.01  0.01  0.00  0.00  0.00  0.00   \n\n      XS  2XS  \n0   0.39  NaN  \n1   0.13  NaN  \n2   0.25  NaN  \n3   0.02  NaN  \n4   0.02  NaN  \n5   0.02  NaN  \n6   0.00  NaN  \n7   0.06  NaN  \n8   0.01  NaN  \n9   0.00  NaN  \n10  0.00  NaN  \n11  0.00  NaN  \n12  0.06  NaN  \n13  0.01  NaN  \n14  0.01  NaN  \n15  0.00  NaN  \n16  0.00  NaN  \n17  0.00  NaN  \n18  0.01  NaN  \n19  0.01  NaN  \n20  0.00  NaN  \n21  0.00  NaN  \n22  0.00  NaN  \n23  0.00  NaN  \n24  0.00  NaN  ",
      "text/html": "<div>\n<style scoped>\n    .dataframe tbody tr th:only-of-type {\n        vertical-align: middle;\n    }\n\n    .dataframe tbody tr th {\n        vertical-align: top;\n    }\n\n    .dataframe thead th {\n        text-align: right;\n    }\n</style>\n<table border=\"1\" class=\"dataframe\">\n  <thead>\n    <tr style=\"text-align: right;\">\n      <th></th>\n      <th>顏色</th>\n      <th>8XL</th>\n      <th>7XL</th>\n      <th>6XL</th>\n      <th>5XL</th>\n      <th>4XL</th>\n      <th>3XL</th>\n      <th>2XL</th>\n      <th>XL</th>\n      <th>L</th>\n      <th>M</th>\n      <th>S</th>\n      <th>XS</th>\n      <th>2XS</th>\n    </tr>\n  </thead>\n  <tbody>\n    <tr>\n      <th>0</th>\n      <td>黑</td>\n      <td>NaN</td>\n      <td>0.75</td>\n      <td>0.40</td>\n      <td>0.45</td>\n      <td>0.45</td>\n      <td>0.42</td>\n      <td>0.34</td>\n      <td>0.36</td>\n      <td>0.36</td>\n      <td>0.36</td>\n      <td>0.37</td>\n      <td>0.39</td>\n      <td>NaN</td>\n    </tr>\n    <tr>\n      <th>1</th>\n      <td>白</td>\n      <td>NaN</td>\n      <td>0.00</td>\n      <td>0.03</td>\n      <td>0.06</td>\n      <td>0.06</td>\n      <td>0.06</td>\n      <td>0.07</td>\n      <td>0.07</td>\n      <td>0.07</td>\n      <td>0.08</td>\n      <td>0.10</td>\n      <td>0.13</td>\n      <td>NaN</td>\n    </tr>\n    <tr>\n      <th>2</th>\n      <td>灰</td>\n      <td>NaN</td>\n      <td>0.00</td>\n      <td>0.21</td>\n      <td>0.26</td>\n      <td>0.18</td>\n      <td>0.11</td>\n      <td>0.18</td>\n      <td>0.16</td>\n      <td>0.16</td>\n      <td>0.16</td>\n      <td>0.17</td>\n      <td>0.25</td>\n      <td>NaN</td>\n    </tr>\n    <tr>\n      <th>3</th>\n      <td>綠</td>\n      <td>NaN</td>\n      <td>0.00</td>\n      <td>0.00</td>\n      <td>0.00</td>\n      <td>0.03</td>\n      <td>0.01</td>\n      <td>0.02</td>\n      <td>0.02</td>\n      <td>0.03</td>\n      <td>0.03</td>\n      <td>0.03</td>\n      <td>0.02</td>\n      <td>NaN</td>\n    </tr>\n    <tr>\n      <th>4</th>\n      <td>粉色</td>\n      <td>NaN</td>\n      <td>0.00</td>\n      <td>0.00</td>\n      <td>0.00</td>\n      <td>0.02</td>\n      <td>0.02</td>\n      <td>0.04</td>\n      <td>0.07</td>\n      <td>0.06</td>\n      <td>0.06</td>\n      <td>0.05</td>\n      <td>0.02</td>\n      <td>NaN</td>\n    </tr>\n    <tr>\n      <th>5</th>\n      <td>膚</td>\n      <td>NaN</td>\n      <td>0.09</td>\n      <td>0.07</td>\n      <td>0.07</td>\n      <td>0.07</td>\n      <td>0.09</td>\n      <td>0.07</td>\n      <td>0.11</td>\n      <td>0.08</td>\n      <td>0.08</td>\n      <td>0.06</td>\n      <td>0.02</td>\n      <td>NaN</td>\n    </tr>\n    <tr>\n      <th>6</th>\n      <td>橘</td>\n      <td>NaN</td>\n      <td>0.00</td>\n      <td>0.00</td>\n      <td>0.00</td>\n      <td>0.00</td>\n      <td>0.01</td>\n      <td>0.02</td>\n      <td>0.01</td>\n      <td>0.01</td>\n      <td>0.01</td>\n      <td>0.01</td>\n      <td>0.00</td>\n      <td>NaN</td>\n    </tr>\n    <tr>\n      <th>7</th>\n      <td>藍</td>\n      <td>NaN</td>\n      <td>0.11</td>\n      <td>0.21</td>\n      <td>0.04</td>\n      <td>0.05</td>\n      <td>0.07</td>\n      <td>0.10</td>\n      <td>0.09</td>\n      <td>0.09</td>\n      <td>0.08</td>\n      <td>0.06</td>\n      <td>0.06</td>\n      <td>NaN</td>\n    </tr>\n    <tr>\n      <th>8</th>\n      <td>紫色</td>\n      <td>NaN</td>\n      <td>0.00</td>\n      <td>0.04</td>\n      <td>0.04</td>\n      <td>0.03</td>\n      <td>0.04</td>\n      <td>0.03</td>\n      <td>0.02</td>\n      <td>0.03</td>\n      <td>0.03</td>\n      <td>0.03</td>\n      <td>0.01</td>\n      <td>NaN</td>\n    </tr>\n    <tr>\n      <th>9</th>\n      <td>咖啡色</td>\n      <td>NaN</td>\n      <td>0.00</td>\n      <td>0.00</td>\n      <td>0.00</td>\n      <td>0.00</td>\n      <td>0.00</td>\n      <td>0.00</td>\n      <td>0.00</td>\n      <td>0.00</td>\n      <td>0.00</td>\n      <td>0.00</td>\n      <td>0.00</td>\n      <td>NaN</td>\n    </tr>\n    <tr>\n      <th>10</th>\n      <td>焦糖</td>\n      <td>NaN</td>\n      <td>0.00</td>\n      <td>0.00</td>\n      <td>0.00</td>\n      <td>0.00</td>\n      <td>0.00</td>\n      <td>0.00</td>\n      <td>0.00</td>\n      <td>0.00</td>\n      <td>0.00</td>\n      <td>0.00</td>\n      <td>0.00</td>\n      <td>NaN</td>\n    </tr>\n    <tr>\n      <th>11</th>\n      <td>桃</td>\n      <td>NaN</td>\n      <td>0.00</td>\n      <td>0.00</td>\n      <td>0.00</td>\n      <td>0.00</td>\n      <td>0.01</td>\n      <td>0.02</td>\n      <td>0.01</td>\n      <td>0.01</td>\n      <td>0.01</td>\n      <td>0.01</td>\n      <td>0.00</td>\n      <td>NaN</td>\n    </tr>\n    <tr>\n      <th>12</th>\n      <td>紅</td>\n      <td>NaN</td>\n      <td>0.05</td>\n      <td>0.02</td>\n      <td>0.07</td>\n      <td>0.10</td>\n      <td>0.13</td>\n      <td>0.06</td>\n      <td>0.04</td>\n      <td>0.04</td>\n      <td>0.04</td>\n      <td>0.05</td>\n      <td>0.06</td>\n      <td>NaN</td>\n    </tr>\n    <tr>\n      <th>13</th>\n      <td>黃</td>\n      <td>NaN</td>\n      <td>0.00</td>\n      <td>0.00</td>\n      <td>0.00</td>\n      <td>0.00</td>\n      <td>0.00</td>\n      <td>0.01</td>\n      <td>0.00</td>\n      <td>0.01</td>\n      <td>0.00</td>\n      <td>0.00</td>\n      <td>0.01</td>\n      <td>NaN</td>\n    </tr>\n    <tr>\n      <th>14</th>\n      <td>藏青</td>\n      <td>NaN</td>\n      <td>0.00</td>\n      <td>0.00</td>\n      <td>0.00</td>\n      <td>0.00</td>\n      <td>0.00</td>\n      <td>0.01</td>\n      <td>0.01</td>\n      <td>0.01</td>\n      <td>0.01</td>\n      <td>0.00</td>\n      <td>0.01</td>\n      <td>NaN</td>\n    </tr>\n    <tr>\n      <th>15</th>\n      <td>深灰</td>\n      <td>NaN</td>\n      <td>0.00</td>\n      <td>0.02</td>\n      <td>0.00</td>\n      <td>0.00</td>\n      <td>0.00</td>\n      <td>0.01</td>\n      <td>0.01</td>\n      <td>0.01</td>\n      <td>0.01</td>\n      <td>0.02</td>\n      <td>0.00</td>\n      <td>NaN</td>\n    </tr>\n    <tr>\n      <th>16</th>\n      <td>熒光綠</td>\n      <td>NaN</td>\n      <td>0.00</td>\n      <td>0.00</td>\n      <td>0.00</td>\n      <td>0.00</td>\n      <td>0.00</td>\n      <td>0.00</td>\n      <td>0.00</td>\n      <td>0.00</td>\n      <td>0.00</td>\n      <td>0.00</td>\n      <td>0.00</td>\n      <td>NaN</td>\n    </tr>\n    <tr>\n      <th>17</th>\n      <td>軍綠色</td>\n      <td>NaN</td>\n      <td>0.00</td>\n      <td>0.00</td>\n      <td>0.00</td>\n      <td>0.00</td>\n      <td>0.00</td>\n      <td>0.00</td>\n      <td>0.00</td>\n      <td>0.00</td>\n      <td>0.00</td>\n      <td>0.00</td>\n      <td>0.00</td>\n      <td>NaN</td>\n    </tr>\n    <tr>\n      <th>18</th>\n      <td>酒紅</td>\n      <td>NaN</td>\n      <td>0.00</td>\n      <td>0.00</td>\n      <td>0.00</td>\n      <td>0.01</td>\n      <td>0.00</td>\n      <td>0.02</td>\n      <td>0.01</td>\n      <td>0.01</td>\n      <td>0.01</td>\n      <td>0.02</td>\n      <td>0.01</td>\n      <td>NaN</td>\n    </tr>\n    <tr>\n      <th>19</th>\n      <td>深藍</td>\n      <td>NaN</td>\n      <td>0.00</td>\n      <td>0.00</td>\n      <td>0.00</td>\n      <td>0.00</td>\n      <td>0.01</td>\n      <td>0.01</td>\n      <td>0.01</td>\n      <td>0.01</td>\n      <td>0.01</td>\n      <td>0.01</td>\n      <td>0.01</td>\n      <td>NaN</td>\n    </tr>\n    <tr>\n      <th>20</th>\n      <td>墨綠</td>\n      <td>NaN</td>\n      <td>0.00</td>\n      <td>0.00</td>\n      <td>0.00</td>\n      <td>0.00</td>\n      <td>0.00</td>\n      <td>0.00</td>\n      <td>0.00</td>\n      <td>0.00</td>\n      <td>0.00</td>\n      <td>0.00</td>\n      <td>0.00</td>\n      <td>NaN</td>\n    </tr>\n    <tr>\n      <th>21</th>\n      <td>粉橘</td>\n      <td>NaN</td>\n      <td>0.00</td>\n      <td>0.00</td>\n      <td>0.00</td>\n      <td>0.00</td>\n      <td>0.00</td>\n      <td>0.01</td>\n      <td>0.00</td>\n      <td>0.00</td>\n      <td>0.00</td>\n      <td>0.00</td>\n      <td>0.00</td>\n      <td>NaN</td>\n    </tr>\n    <tr>\n      <th>22</th>\n      <td>紫粉</td>\n      <td>NaN</td>\n      <td>0.00</td>\n      <td>0.00</td>\n      <td>0.00</td>\n      <td>0.00</td>\n      <td>0.00</td>\n      <td>0.00</td>\n      <td>0.00</td>\n      <td>0.00</td>\n      <td>0.00</td>\n      <td>0.00</td>\n      <td>0.00</td>\n      <td>NaN</td>\n    </tr>\n    <tr>\n      <th>23</th>\n      <td>棗紅</td>\n      <td>NaN</td>\n      <td>0.00</td>\n      <td>0.00</td>\n      <td>0.00</td>\n      <td>0.00</td>\n      <td>0.00</td>\n      <td>0.00</td>\n      <td>0.00</td>\n      <td>0.00</td>\n      <td>0.00</td>\n      <td>0.00</td>\n      <td>0.00</td>\n      <td>NaN</td>\n    </tr>\n    <tr>\n      <th>24</th>\n      <td>寶藍</td>\n      <td>NaN</td>\n      <td>0.00</td>\n      <td>0.00</td>\n      <td>0.00</td>\n      <td>0.00</td>\n      <td>0.01</td>\n      <td>0.01</td>\n      <td>0.00</td>\n      <td>0.00</td>\n      <td>0.00</td>\n      <td>0.00</td>\n      <td>0.00</td>\n      <td>NaN</td>\n    </tr>\n  </tbody>\n</table>\n</div>"
     },
     "metadata": {},
     "execution_count": 9
    }
   ],
   "source": [
    "buyer_percent = buyer.copy()\n",
    "for i in buyer.columns:\n",
    "    buyer_percent[i] = buyer_percent[i] / buyer_percent.sum(axis = 0)[i] \n",
    "\n",
    "buyer_percent = round(buyer_percent, 2)\n",
    "\n",
    "# Reset index\n",
    "buyer_percent = buyer_percent.reset_index()\n",
    "\n",
    "# 重新命名index為顏色\n",
    "buyer_percent = buyer_percent.rename( columns={'index' : '顏色'}   )\n",
    "\n",
    "buyer_percent.to_csv('01_市場SKU百分比統計表.csv', encoding= 'UTF-8-sig')\n",
    "\n",
    "buyer_percent\n"
   ]
  },
  {
   "source": [
    "## SKU尺寸繪圖 - 資料處理 "
   ],
   "cell_type": "markdown",
   "metadata": {}
  },
  {
   "cell_type": "code",
   "execution_count": 15,
   "metadata": {},
   "outputs": [],
   "source": [
    "buyer_percent_all = buyer.sum(axis = 0)/buyer.sum(axis = 0).sum()\n",
    "buyer_percent_all = pd.DataFrame(buyer_percent_all,columns = ['SKU尺寸百分比'])\n",
    "\n",
    "\n",
    "# 照SKU尺寸百分比由大到小排序並【存成sizes】 --> 覆蓋回buyer_percent_all\n",
    "buyer_percent_all = buyer_percent_all.sort_values('SKU尺寸百分比', \n",
    "                                                  ascending=False)\n",
    "\n",
    "# 將【SKU尺寸百分比】沒有具任何百分比的尺寸刪除\n",
    "buyer_percent_all = buyer_percent_all[buyer_percent_all['SKU尺寸百分比'] != 0 ]\n",
    "\n",
    "# reset index\n",
    "buyer_percent_all = buyer_percent_all.reset_index()\n",
    "\n",
    "# 命名index為尺寸\n",
    "buyer_percent_all = buyer_percent_all.rename(columns={'index':'尺寸'})\n",
    "\n"
   ]
  },
  {
   "cell_type": "code",
   "execution_count": 16,
   "metadata": {},
   "outputs": [
    {
     "output_type": "execute_result",
     "data": {
      "text/plain": "     尺寸  SKU尺寸百分比\n0     M  0.295689\n1     L  0.273349\n2    XL  0.172116\n3     S  0.156175\n4   2XL  0.063187\n5   3XL  0.016897\n6   4XL  0.008472\n7   5XL  0.006702\n8    XS  0.004960\n9   6XL  0.002035\n10  7XL  0.000417",
      "text/html": "<div>\n<style scoped>\n    .dataframe tbody tr th:only-of-type {\n        vertical-align: middle;\n    }\n\n    .dataframe tbody tr th {\n        vertical-align: top;\n    }\n\n    .dataframe thead th {\n        text-align: right;\n    }\n</style>\n<table border=\"1\" class=\"dataframe\">\n  <thead>\n    <tr style=\"text-align: right;\">\n      <th></th>\n      <th>尺寸</th>\n      <th>SKU尺寸百分比</th>\n    </tr>\n  </thead>\n  <tbody>\n    <tr>\n      <th>0</th>\n      <td>M</td>\n      <td>0.295689</td>\n    </tr>\n    <tr>\n      <th>1</th>\n      <td>L</td>\n      <td>0.273349</td>\n    </tr>\n    <tr>\n      <th>2</th>\n      <td>XL</td>\n      <td>0.172116</td>\n    </tr>\n    <tr>\n      <th>3</th>\n      <td>S</td>\n      <td>0.156175</td>\n    </tr>\n    <tr>\n      <th>4</th>\n      <td>2XL</td>\n      <td>0.063187</td>\n    </tr>\n    <tr>\n      <th>5</th>\n      <td>3XL</td>\n      <td>0.016897</td>\n    </tr>\n    <tr>\n      <th>6</th>\n      <td>4XL</td>\n      <td>0.008472</td>\n    </tr>\n    <tr>\n      <th>7</th>\n      <td>5XL</td>\n      <td>0.006702</td>\n    </tr>\n    <tr>\n      <th>8</th>\n      <td>XS</td>\n      <td>0.004960</td>\n    </tr>\n    <tr>\n      <th>9</th>\n      <td>6XL</td>\n      <td>0.002035</td>\n    </tr>\n    <tr>\n      <th>10</th>\n      <td>7XL</td>\n      <td>0.000417</td>\n    </tr>\n  </tbody>\n</table>\n</div>"
     },
     "metadata": {},
     "execution_count": 16
    }
   ],
   "source": [
    "buyer_percent_all"
   ]
  },
  {
   "source": [
    "## SKU尺寸繪圖 - 繪圖 \n",
    "下含動態圖表建議可以查看本[notebook](https://nbviewer.jupyter.org/github/HowardNTUST/Python-with-STP-Marketing-Strategy/blob/master/ch8-4_%E6%8E%A1%E8%B3%BC%E6%95%B8%E6%93%9A%E5%88%86%E6%9E%90/%E6%8E%A1%E8%B3%BC%E6%95%B8%E6%93%9A%E5%88%86%E6%9E%90%20-%20nb.ipynb)取得更好的閱讀效果"
   ],
   "cell_type": "markdown",
   "metadata": {}
  },
  {
   "cell_type": "code",
   "execution_count": 12,
   "metadata": {},
   "outputs": [
    {
     "output_type": "error",
     "ename": "KeyError",
     "evalue": "'尺寸'",
     "traceback": [
      "\u001b[1;31m---------------------------------------------------------------------------\u001b[0m",
      "\u001b[1;31mKeyError\u001b[0m                                  Traceback (most recent call last)",
      "\u001b[1;32m~\\Anaconda3\\lib\\site-packages\\pandas\\core\\indexes\\base.py\u001b[0m in \u001b[0;36mget_loc\u001b[1;34m(self, key, method, tolerance)\u001b[0m\n\u001b[0;32m   3062\u001b[0m             \u001b[1;32mtry\u001b[0m\u001b[1;33m:\u001b[0m\u001b[1;33m\u001b[0m\u001b[0m\n\u001b[1;32m-> 3063\u001b[1;33m                 \u001b[1;32mreturn\u001b[0m \u001b[0mself\u001b[0m\u001b[1;33m.\u001b[0m\u001b[0m_engine\u001b[0m\u001b[1;33m.\u001b[0m\u001b[0mget_loc\u001b[0m\u001b[1;33m(\u001b[0m\u001b[0mkey\u001b[0m\u001b[1;33m)\u001b[0m\u001b[1;33m\u001b[0m\u001b[0m\n\u001b[0m\u001b[0;32m   3064\u001b[0m             \u001b[1;32mexcept\u001b[0m \u001b[0mKeyError\u001b[0m\u001b[1;33m:\u001b[0m\u001b[1;33m\u001b[0m\u001b[0m\n",
      "\u001b[1;32mpandas\\_libs\\index.pyx\u001b[0m in \u001b[0;36mpandas._libs.index.IndexEngine.get_loc\u001b[1;34m()\u001b[0m\n",
      "\u001b[1;32mpandas\\_libs\\index.pyx\u001b[0m in \u001b[0;36mpandas._libs.index.IndexEngine.get_loc\u001b[1;34m()\u001b[0m\n",
      "\u001b[1;32mpandas\\_libs\\hashtable_class_helper.pxi\u001b[0m in \u001b[0;36mpandas._libs.hashtable.PyObjectHashTable.get_item\u001b[1;34m()\u001b[0m\n",
      "\u001b[1;32mpandas\\_libs\\hashtable_class_helper.pxi\u001b[0m in \u001b[0;36mpandas._libs.hashtable.PyObjectHashTable.get_item\u001b[1;34m()\u001b[0m\n",
      "\u001b[1;31mKeyError\u001b[0m: '尺寸'",
      "\nDuring handling of the above exception, another exception occurred:\n",
      "\u001b[1;31mKeyError\u001b[0m                                  Traceback (most recent call last)",
      "\u001b[1;32m<ipython-input-12-051def76ee04>\u001b[0m in \u001b[0;36m<module>\u001b[1;34m\u001b[0m\n\u001b[0;32m      2\u001b[0m \u001b[1;31m# 範例\u001b[0m\u001b[1;33m\u001b[0m\u001b[1;33m\u001b[0m\u001b[0m\n\u001b[0;32m      3\u001b[0m \u001b[1;31m# 將其中的一個尺寸抓出來繪圖\u001b[0m\u001b[1;33m\u001b[0m\u001b[1;33m\u001b[0m\u001b[0m\n\u001b[1;32m----> 4\u001b[1;33m \u001b[0mi\u001b[0m \u001b[1;33m=\u001b[0m \u001b[0mbuyer_percent_all\u001b[0m\u001b[1;33m[\u001b[0m\u001b[1;34m'尺寸'\u001b[0m\u001b[1;33m]\u001b[0m\u001b[1;33m[\u001b[0m\u001b[1;36m0\u001b[0m\u001b[1;33m]\u001b[0m\u001b[1;33m\u001b[0m\u001b[0m\n\u001b[0m\u001b[0;32m      5\u001b[0m \u001b[1;33m\u001b[0m\u001b[0m\n\u001b[0;32m      6\u001b[0m \u001b[1;31m# 問題：根據i，將特定尺寸中的顏色百分比由大到小排序\u001b[0m\u001b[1;33m\u001b[0m\u001b[1;33m\u001b[0m\u001b[0m\n",
      "\u001b[1;32m~\\Anaconda3\\lib\\site-packages\\pandas\\core\\frame.py\u001b[0m in \u001b[0;36m__getitem__\u001b[1;34m(self, key)\u001b[0m\n\u001b[0;32m   2683\u001b[0m             \u001b[1;32mreturn\u001b[0m \u001b[0mself\u001b[0m\u001b[1;33m.\u001b[0m\u001b[0m_getitem_multilevel\u001b[0m\u001b[1;33m(\u001b[0m\u001b[0mkey\u001b[0m\u001b[1;33m)\u001b[0m\u001b[1;33m\u001b[0m\u001b[0m\n\u001b[0;32m   2684\u001b[0m         \u001b[1;32melse\u001b[0m\u001b[1;33m:\u001b[0m\u001b[1;33m\u001b[0m\u001b[0m\n\u001b[1;32m-> 2685\u001b[1;33m             \u001b[1;32mreturn\u001b[0m \u001b[0mself\u001b[0m\u001b[1;33m.\u001b[0m\u001b[0m_getitem_column\u001b[0m\u001b[1;33m(\u001b[0m\u001b[0mkey\u001b[0m\u001b[1;33m)\u001b[0m\u001b[1;33m\u001b[0m\u001b[0m\n\u001b[0m\u001b[0;32m   2686\u001b[0m \u001b[1;33m\u001b[0m\u001b[0m\n\u001b[0;32m   2687\u001b[0m     \u001b[1;32mdef\u001b[0m \u001b[0m_getitem_column\u001b[0m\u001b[1;33m(\u001b[0m\u001b[0mself\u001b[0m\u001b[1;33m,\u001b[0m \u001b[0mkey\u001b[0m\u001b[1;33m)\u001b[0m\u001b[1;33m:\u001b[0m\u001b[1;33m\u001b[0m\u001b[0m\n",
      "\u001b[1;32m~\\Anaconda3\\lib\\site-packages\\pandas\\core\\frame.py\u001b[0m in \u001b[0;36m_getitem_column\u001b[1;34m(self, key)\u001b[0m\n\u001b[0;32m   2690\u001b[0m         \u001b[1;31m# get column\u001b[0m\u001b[1;33m\u001b[0m\u001b[1;33m\u001b[0m\u001b[0m\n\u001b[0;32m   2691\u001b[0m         \u001b[1;32mif\u001b[0m \u001b[0mself\u001b[0m\u001b[1;33m.\u001b[0m\u001b[0mcolumns\u001b[0m\u001b[1;33m.\u001b[0m\u001b[0mis_unique\u001b[0m\u001b[1;33m:\u001b[0m\u001b[1;33m\u001b[0m\u001b[0m\n\u001b[1;32m-> 2692\u001b[1;33m             \u001b[1;32mreturn\u001b[0m \u001b[0mself\u001b[0m\u001b[1;33m.\u001b[0m\u001b[0m_get_item_cache\u001b[0m\u001b[1;33m(\u001b[0m\u001b[0mkey\u001b[0m\u001b[1;33m)\u001b[0m\u001b[1;33m\u001b[0m\u001b[0m\n\u001b[0m\u001b[0;32m   2693\u001b[0m \u001b[1;33m\u001b[0m\u001b[0m\n\u001b[0;32m   2694\u001b[0m         \u001b[1;31m# duplicate columns & possible reduce dimensionality\u001b[0m\u001b[1;33m\u001b[0m\u001b[1;33m\u001b[0m\u001b[0m\n",
      "\u001b[1;32m~\\Anaconda3\\lib\\site-packages\\pandas\\core\\generic.py\u001b[0m in \u001b[0;36m_get_item_cache\u001b[1;34m(self, item)\u001b[0m\n\u001b[0;32m   2484\u001b[0m         \u001b[0mres\u001b[0m \u001b[1;33m=\u001b[0m \u001b[0mcache\u001b[0m\u001b[1;33m.\u001b[0m\u001b[0mget\u001b[0m\u001b[1;33m(\u001b[0m\u001b[0mitem\u001b[0m\u001b[1;33m)\u001b[0m\u001b[1;33m\u001b[0m\u001b[0m\n\u001b[0;32m   2485\u001b[0m         \u001b[1;32mif\u001b[0m \u001b[0mres\u001b[0m \u001b[1;32mis\u001b[0m \u001b[1;32mNone\u001b[0m\u001b[1;33m:\u001b[0m\u001b[1;33m\u001b[0m\u001b[0m\n\u001b[1;32m-> 2486\u001b[1;33m             \u001b[0mvalues\u001b[0m \u001b[1;33m=\u001b[0m \u001b[0mself\u001b[0m\u001b[1;33m.\u001b[0m\u001b[0m_data\u001b[0m\u001b[1;33m.\u001b[0m\u001b[0mget\u001b[0m\u001b[1;33m(\u001b[0m\u001b[0mitem\u001b[0m\u001b[1;33m)\u001b[0m\u001b[1;33m\u001b[0m\u001b[0m\n\u001b[0m\u001b[0;32m   2487\u001b[0m             \u001b[0mres\u001b[0m \u001b[1;33m=\u001b[0m \u001b[0mself\u001b[0m\u001b[1;33m.\u001b[0m\u001b[0m_box_item_values\u001b[0m\u001b[1;33m(\u001b[0m\u001b[0mitem\u001b[0m\u001b[1;33m,\u001b[0m \u001b[0mvalues\u001b[0m\u001b[1;33m)\u001b[0m\u001b[1;33m\u001b[0m\u001b[0m\n\u001b[0;32m   2488\u001b[0m             \u001b[0mcache\u001b[0m\u001b[1;33m[\u001b[0m\u001b[0mitem\u001b[0m\u001b[1;33m]\u001b[0m \u001b[1;33m=\u001b[0m \u001b[0mres\u001b[0m\u001b[1;33m\u001b[0m\u001b[0m\n",
      "\u001b[1;32m~\\Anaconda3\\lib\\site-packages\\pandas\\core\\internals.py\u001b[0m in \u001b[0;36mget\u001b[1;34m(self, item, fastpath)\u001b[0m\n\u001b[0;32m   4113\u001b[0m \u001b[1;33m\u001b[0m\u001b[0m\n\u001b[0;32m   4114\u001b[0m             \u001b[1;32mif\u001b[0m \u001b[1;32mnot\u001b[0m \u001b[0misna\u001b[0m\u001b[1;33m(\u001b[0m\u001b[0mitem\u001b[0m\u001b[1;33m)\u001b[0m\u001b[1;33m:\u001b[0m\u001b[1;33m\u001b[0m\u001b[0m\n\u001b[1;32m-> 4115\u001b[1;33m                 \u001b[0mloc\u001b[0m \u001b[1;33m=\u001b[0m \u001b[0mself\u001b[0m\u001b[1;33m.\u001b[0m\u001b[0mitems\u001b[0m\u001b[1;33m.\u001b[0m\u001b[0mget_loc\u001b[0m\u001b[1;33m(\u001b[0m\u001b[0mitem\u001b[0m\u001b[1;33m)\u001b[0m\u001b[1;33m\u001b[0m\u001b[0m\n\u001b[0m\u001b[0;32m   4116\u001b[0m             \u001b[1;32melse\u001b[0m\u001b[1;33m:\u001b[0m\u001b[1;33m\u001b[0m\u001b[0m\n\u001b[0;32m   4117\u001b[0m                 \u001b[0mindexer\u001b[0m \u001b[1;33m=\u001b[0m \u001b[0mnp\u001b[0m\u001b[1;33m.\u001b[0m\u001b[0marange\u001b[0m\u001b[1;33m(\u001b[0m\u001b[0mlen\u001b[0m\u001b[1;33m(\u001b[0m\u001b[0mself\u001b[0m\u001b[1;33m.\u001b[0m\u001b[0mitems\u001b[0m\u001b[1;33m)\u001b[0m\u001b[1;33m)\u001b[0m\u001b[1;33m[\u001b[0m\u001b[0misna\u001b[0m\u001b[1;33m(\u001b[0m\u001b[0mself\u001b[0m\u001b[1;33m.\u001b[0m\u001b[0mitems\u001b[0m\u001b[1;33m)\u001b[0m\u001b[1;33m]\u001b[0m\u001b[1;33m\u001b[0m\u001b[0m\n",
      "\u001b[1;32m~\\Anaconda3\\lib\\site-packages\\pandas\\core\\indexes\\base.py\u001b[0m in \u001b[0;36mget_loc\u001b[1;34m(self, key, method, tolerance)\u001b[0m\n\u001b[0;32m   3063\u001b[0m                 \u001b[1;32mreturn\u001b[0m \u001b[0mself\u001b[0m\u001b[1;33m.\u001b[0m\u001b[0m_engine\u001b[0m\u001b[1;33m.\u001b[0m\u001b[0mget_loc\u001b[0m\u001b[1;33m(\u001b[0m\u001b[0mkey\u001b[0m\u001b[1;33m)\u001b[0m\u001b[1;33m\u001b[0m\u001b[0m\n\u001b[0;32m   3064\u001b[0m             \u001b[1;32mexcept\u001b[0m \u001b[0mKeyError\u001b[0m\u001b[1;33m:\u001b[0m\u001b[1;33m\u001b[0m\u001b[0m\n\u001b[1;32m-> 3065\u001b[1;33m                 \u001b[1;32mreturn\u001b[0m \u001b[0mself\u001b[0m\u001b[1;33m.\u001b[0m\u001b[0m_engine\u001b[0m\u001b[1;33m.\u001b[0m\u001b[0mget_loc\u001b[0m\u001b[1;33m(\u001b[0m\u001b[0mself\u001b[0m\u001b[1;33m.\u001b[0m\u001b[0m_maybe_cast_indexer\u001b[0m\u001b[1;33m(\u001b[0m\u001b[0mkey\u001b[0m\u001b[1;33m)\u001b[0m\u001b[1;33m)\u001b[0m\u001b[1;33m\u001b[0m\u001b[0m\n\u001b[0m\u001b[0;32m   3066\u001b[0m \u001b[1;33m\u001b[0m\u001b[0m\n\u001b[0;32m   3067\u001b[0m         \u001b[0mindexer\u001b[0m \u001b[1;33m=\u001b[0m \u001b[0mself\u001b[0m\u001b[1;33m.\u001b[0m\u001b[0mget_indexer\u001b[0m\u001b[1;33m(\u001b[0m\u001b[1;33m[\u001b[0m\u001b[0mkey\u001b[0m\u001b[1;33m]\u001b[0m\u001b[1;33m,\u001b[0m \u001b[0mmethod\u001b[0m\u001b[1;33m=\u001b[0m\u001b[0mmethod\u001b[0m\u001b[1;33m,\u001b[0m \u001b[0mtolerance\u001b[0m\u001b[1;33m=\u001b[0m\u001b[0mtolerance\u001b[0m\u001b[1;33m)\u001b[0m\u001b[1;33m\u001b[0m\u001b[0m\n",
      "\u001b[1;32mpandas\\_libs\\index.pyx\u001b[0m in \u001b[0;36mpandas._libs.index.IndexEngine.get_loc\u001b[1;34m()\u001b[0m\n",
      "\u001b[1;32mpandas\\_libs\\index.pyx\u001b[0m in \u001b[0;36mpandas._libs.index.IndexEngine.get_loc\u001b[1;34m()\u001b[0m\n",
      "\u001b[1;32mpandas\\_libs\\hashtable_class_helper.pxi\u001b[0m in \u001b[0;36mpandas._libs.hashtable.PyObjectHashTable.get_item\u001b[1;34m()\u001b[0m\n",
      "\u001b[1;32mpandas\\_libs\\hashtable_class_helper.pxi\u001b[0m in \u001b[0;36mpandas._libs.hashtable.PyObjectHashTable.get_item\u001b[1;34m()\u001b[0m\n",
      "\u001b[1;31mKeyError\u001b[0m: '尺寸'"
     ]
    }
   ],
   "source": [
    "import plotly.express as px\n",
    "import plotly.offline as pyo\n",
    "pyo.init_notebook_mode()\n",
    "import os\n",
    "\n",
    "# 範例\n",
    "# 將其中的一個尺寸抓出來繪圖\n",
    "i = buyer_percent_all['尺寸'][0]\n",
    "\n",
    "# 問題：根據i，將特定尺寸中的顏色百分比由大到小排序\n",
    "buyer_percent = buyer_percent.sort_values(i , ascending=False) # i 代表的是 'M' 的尺寸\n",
    "\n",
    "# 繪圖\n",
    "fig = px.bar(buyer_percent,\n",
    "            x = '顏色',\n",
    "            y=i,\n",
    "            color=i,\n",
    "            labels = {i:'比例'},\n",
    "            title = '運動內衣('+ i +')與購買顏色比例圖')\n",
    "\n",
    "# 先註解掉，讀者若要自己線下使用時，請在啟動下述的程式碼\n",
    "# pyo.iplot(fig,filename = '市場SKU_運動內衣（'+ i +'）與購買顏色比例圖.html')\n",
    "\n"
   ]
  },
  {
   "cell_type": "code",
   "execution_count": 13,
   "metadata": {},
   "outputs": [
    {
     "output_type": "error",
     "ename": "KeyError",
     "evalue": "'尺寸'",
     "traceback": [
      "\u001b[1;31m---------------------------------------------------------------------------\u001b[0m",
      "\u001b[1;31mKeyError\u001b[0m                                  Traceback (most recent call last)",
      "\u001b[1;32m~\\Anaconda3\\lib\\site-packages\\pandas\\core\\indexes\\base.py\u001b[0m in \u001b[0;36mget_loc\u001b[1;34m(self, key, method, tolerance)\u001b[0m\n\u001b[0;32m   3062\u001b[0m             \u001b[1;32mtry\u001b[0m\u001b[1;33m:\u001b[0m\u001b[1;33m\u001b[0m\u001b[0m\n\u001b[1;32m-> 3063\u001b[1;33m                 \u001b[1;32mreturn\u001b[0m \u001b[0mself\u001b[0m\u001b[1;33m.\u001b[0m\u001b[0m_engine\u001b[0m\u001b[1;33m.\u001b[0m\u001b[0mget_loc\u001b[0m\u001b[1;33m(\u001b[0m\u001b[0mkey\u001b[0m\u001b[1;33m)\u001b[0m\u001b[1;33m\u001b[0m\u001b[0m\n\u001b[0m\u001b[0;32m   3064\u001b[0m             \u001b[1;32mexcept\u001b[0m \u001b[0mKeyError\u001b[0m\u001b[1;33m:\u001b[0m\u001b[1;33m\u001b[0m\u001b[0m\n",
      "\u001b[1;32mpandas\\_libs\\index.pyx\u001b[0m in \u001b[0;36mpandas._libs.index.IndexEngine.get_loc\u001b[1;34m()\u001b[0m\n",
      "\u001b[1;32mpandas\\_libs\\index.pyx\u001b[0m in \u001b[0;36mpandas._libs.index.IndexEngine.get_loc\u001b[1;34m()\u001b[0m\n",
      "\u001b[1;32mpandas\\_libs\\hashtable_class_helper.pxi\u001b[0m in \u001b[0;36mpandas._libs.hashtable.PyObjectHashTable.get_item\u001b[1;34m()\u001b[0m\n",
      "\u001b[1;32mpandas\\_libs\\hashtable_class_helper.pxi\u001b[0m in \u001b[0;36mpandas._libs.hashtable.PyObjectHashTable.get_item\u001b[1;34m()\u001b[0m\n",
      "\u001b[1;31mKeyError\u001b[0m: '尺寸'",
      "\nDuring handling of the above exception, another exception occurred:\n",
      "\u001b[1;31mKeyError\u001b[0m                                  Traceback (most recent call last)",
      "\u001b[1;32m<ipython-input-13-9eac649047a2>\u001b[0m in \u001b[0;36m<module>\u001b[1;34m\u001b[0m\n\u001b[0;32m      3\u001b[0m \u001b[0mcount\u001b[0m \u001b[1;33m=\u001b[0m \u001b[1;36m0\u001b[0m\u001b[1;33m\u001b[0m\u001b[0m\n\u001b[0;32m      4\u001b[0m \u001b[1;33m\u001b[0m\u001b[0m\n\u001b[1;32m----> 5\u001b[1;33m \u001b[1;32mfor\u001b[0m \u001b[0mi\u001b[0m \u001b[1;32min\u001b[0m \u001b[0mbuyer_percent_all\u001b[0m\u001b[1;33m[\u001b[0m\u001b[1;34m'尺寸'\u001b[0m\u001b[1;33m]\u001b[0m\u001b[1;33m:\u001b[0m \u001b[1;31m# 除掉百分比為0的尺寸(2XS、8XL)\u001b[0m\u001b[1;33m\u001b[0m\u001b[0m\n\u001b[0m\u001b[0;32m      6\u001b[0m \u001b[1;33m\u001b[0m\u001b[0m\n\u001b[0;32m      7\u001b[0m     \u001b[1;31m# 將特定尺寸中的顏色百分比由大到小排序\u001b[0m\u001b[1;33m\u001b[0m\u001b[1;33m\u001b[0m\u001b[0m\n",
      "\u001b[1;32m~\\Anaconda3\\lib\\site-packages\\pandas\\core\\frame.py\u001b[0m in \u001b[0;36m__getitem__\u001b[1;34m(self, key)\u001b[0m\n\u001b[0;32m   2683\u001b[0m             \u001b[1;32mreturn\u001b[0m \u001b[0mself\u001b[0m\u001b[1;33m.\u001b[0m\u001b[0m_getitem_multilevel\u001b[0m\u001b[1;33m(\u001b[0m\u001b[0mkey\u001b[0m\u001b[1;33m)\u001b[0m\u001b[1;33m\u001b[0m\u001b[0m\n\u001b[0;32m   2684\u001b[0m         \u001b[1;32melse\u001b[0m\u001b[1;33m:\u001b[0m\u001b[1;33m\u001b[0m\u001b[0m\n\u001b[1;32m-> 2685\u001b[1;33m             \u001b[1;32mreturn\u001b[0m \u001b[0mself\u001b[0m\u001b[1;33m.\u001b[0m\u001b[0m_getitem_column\u001b[0m\u001b[1;33m(\u001b[0m\u001b[0mkey\u001b[0m\u001b[1;33m)\u001b[0m\u001b[1;33m\u001b[0m\u001b[0m\n\u001b[0m\u001b[0;32m   2686\u001b[0m \u001b[1;33m\u001b[0m\u001b[0m\n\u001b[0;32m   2687\u001b[0m     \u001b[1;32mdef\u001b[0m \u001b[0m_getitem_column\u001b[0m\u001b[1;33m(\u001b[0m\u001b[0mself\u001b[0m\u001b[1;33m,\u001b[0m \u001b[0mkey\u001b[0m\u001b[1;33m)\u001b[0m\u001b[1;33m:\u001b[0m\u001b[1;33m\u001b[0m\u001b[0m\n",
      "\u001b[1;32m~\\Anaconda3\\lib\\site-packages\\pandas\\core\\frame.py\u001b[0m in \u001b[0;36m_getitem_column\u001b[1;34m(self, key)\u001b[0m\n\u001b[0;32m   2690\u001b[0m         \u001b[1;31m# get column\u001b[0m\u001b[1;33m\u001b[0m\u001b[1;33m\u001b[0m\u001b[0m\n\u001b[0;32m   2691\u001b[0m         \u001b[1;32mif\u001b[0m \u001b[0mself\u001b[0m\u001b[1;33m.\u001b[0m\u001b[0mcolumns\u001b[0m\u001b[1;33m.\u001b[0m\u001b[0mis_unique\u001b[0m\u001b[1;33m:\u001b[0m\u001b[1;33m\u001b[0m\u001b[0m\n\u001b[1;32m-> 2692\u001b[1;33m             \u001b[1;32mreturn\u001b[0m \u001b[0mself\u001b[0m\u001b[1;33m.\u001b[0m\u001b[0m_get_item_cache\u001b[0m\u001b[1;33m(\u001b[0m\u001b[0mkey\u001b[0m\u001b[1;33m)\u001b[0m\u001b[1;33m\u001b[0m\u001b[0m\n\u001b[0m\u001b[0;32m   2693\u001b[0m \u001b[1;33m\u001b[0m\u001b[0m\n\u001b[0;32m   2694\u001b[0m         \u001b[1;31m# duplicate columns & possible reduce dimensionality\u001b[0m\u001b[1;33m\u001b[0m\u001b[1;33m\u001b[0m\u001b[0m\n",
      "\u001b[1;32m~\\Anaconda3\\lib\\site-packages\\pandas\\core\\generic.py\u001b[0m in \u001b[0;36m_get_item_cache\u001b[1;34m(self, item)\u001b[0m\n\u001b[0;32m   2484\u001b[0m         \u001b[0mres\u001b[0m \u001b[1;33m=\u001b[0m \u001b[0mcache\u001b[0m\u001b[1;33m.\u001b[0m\u001b[0mget\u001b[0m\u001b[1;33m(\u001b[0m\u001b[0mitem\u001b[0m\u001b[1;33m)\u001b[0m\u001b[1;33m\u001b[0m\u001b[0m\n\u001b[0;32m   2485\u001b[0m         \u001b[1;32mif\u001b[0m \u001b[0mres\u001b[0m \u001b[1;32mis\u001b[0m \u001b[1;32mNone\u001b[0m\u001b[1;33m:\u001b[0m\u001b[1;33m\u001b[0m\u001b[0m\n\u001b[1;32m-> 2486\u001b[1;33m             \u001b[0mvalues\u001b[0m \u001b[1;33m=\u001b[0m \u001b[0mself\u001b[0m\u001b[1;33m.\u001b[0m\u001b[0m_data\u001b[0m\u001b[1;33m.\u001b[0m\u001b[0mget\u001b[0m\u001b[1;33m(\u001b[0m\u001b[0mitem\u001b[0m\u001b[1;33m)\u001b[0m\u001b[1;33m\u001b[0m\u001b[0m\n\u001b[0m\u001b[0;32m   2487\u001b[0m             \u001b[0mres\u001b[0m \u001b[1;33m=\u001b[0m \u001b[0mself\u001b[0m\u001b[1;33m.\u001b[0m\u001b[0m_box_item_values\u001b[0m\u001b[1;33m(\u001b[0m\u001b[0mitem\u001b[0m\u001b[1;33m,\u001b[0m \u001b[0mvalues\u001b[0m\u001b[1;33m)\u001b[0m\u001b[1;33m\u001b[0m\u001b[0m\n\u001b[0;32m   2488\u001b[0m             \u001b[0mcache\u001b[0m\u001b[1;33m[\u001b[0m\u001b[0mitem\u001b[0m\u001b[1;33m]\u001b[0m \u001b[1;33m=\u001b[0m \u001b[0mres\u001b[0m\u001b[1;33m\u001b[0m\u001b[0m\n",
      "\u001b[1;32m~\\Anaconda3\\lib\\site-packages\\pandas\\core\\internals.py\u001b[0m in \u001b[0;36mget\u001b[1;34m(self, item, fastpath)\u001b[0m\n\u001b[0;32m   4113\u001b[0m \u001b[1;33m\u001b[0m\u001b[0m\n\u001b[0;32m   4114\u001b[0m             \u001b[1;32mif\u001b[0m \u001b[1;32mnot\u001b[0m \u001b[0misna\u001b[0m\u001b[1;33m(\u001b[0m\u001b[0mitem\u001b[0m\u001b[1;33m)\u001b[0m\u001b[1;33m:\u001b[0m\u001b[1;33m\u001b[0m\u001b[0m\n\u001b[1;32m-> 4115\u001b[1;33m                 \u001b[0mloc\u001b[0m \u001b[1;33m=\u001b[0m \u001b[0mself\u001b[0m\u001b[1;33m.\u001b[0m\u001b[0mitems\u001b[0m\u001b[1;33m.\u001b[0m\u001b[0mget_loc\u001b[0m\u001b[1;33m(\u001b[0m\u001b[0mitem\u001b[0m\u001b[1;33m)\u001b[0m\u001b[1;33m\u001b[0m\u001b[0m\n\u001b[0m\u001b[0;32m   4116\u001b[0m             \u001b[1;32melse\u001b[0m\u001b[1;33m:\u001b[0m\u001b[1;33m\u001b[0m\u001b[0m\n\u001b[0;32m   4117\u001b[0m                 \u001b[0mindexer\u001b[0m \u001b[1;33m=\u001b[0m \u001b[0mnp\u001b[0m\u001b[1;33m.\u001b[0m\u001b[0marange\u001b[0m\u001b[1;33m(\u001b[0m\u001b[0mlen\u001b[0m\u001b[1;33m(\u001b[0m\u001b[0mself\u001b[0m\u001b[1;33m.\u001b[0m\u001b[0mitems\u001b[0m\u001b[1;33m)\u001b[0m\u001b[1;33m)\u001b[0m\u001b[1;33m[\u001b[0m\u001b[0misna\u001b[0m\u001b[1;33m(\u001b[0m\u001b[0mself\u001b[0m\u001b[1;33m.\u001b[0m\u001b[0mitems\u001b[0m\u001b[1;33m)\u001b[0m\u001b[1;33m]\u001b[0m\u001b[1;33m\u001b[0m\u001b[0m\n",
      "\u001b[1;32m~\\Anaconda3\\lib\\site-packages\\pandas\\core\\indexes\\base.py\u001b[0m in \u001b[0;36mget_loc\u001b[1;34m(self, key, method, tolerance)\u001b[0m\n\u001b[0;32m   3063\u001b[0m                 \u001b[1;32mreturn\u001b[0m \u001b[0mself\u001b[0m\u001b[1;33m.\u001b[0m\u001b[0m_engine\u001b[0m\u001b[1;33m.\u001b[0m\u001b[0mget_loc\u001b[0m\u001b[1;33m(\u001b[0m\u001b[0mkey\u001b[0m\u001b[1;33m)\u001b[0m\u001b[1;33m\u001b[0m\u001b[0m\n\u001b[0;32m   3064\u001b[0m             \u001b[1;32mexcept\u001b[0m \u001b[0mKeyError\u001b[0m\u001b[1;33m:\u001b[0m\u001b[1;33m\u001b[0m\u001b[0m\n\u001b[1;32m-> 3065\u001b[1;33m                 \u001b[1;32mreturn\u001b[0m \u001b[0mself\u001b[0m\u001b[1;33m.\u001b[0m\u001b[0m_engine\u001b[0m\u001b[1;33m.\u001b[0m\u001b[0mget_loc\u001b[0m\u001b[1;33m(\u001b[0m\u001b[0mself\u001b[0m\u001b[1;33m.\u001b[0m\u001b[0m_maybe_cast_indexer\u001b[0m\u001b[1;33m(\u001b[0m\u001b[0mkey\u001b[0m\u001b[1;33m)\u001b[0m\u001b[1;33m)\u001b[0m\u001b[1;33m\u001b[0m\u001b[0m\n\u001b[0m\u001b[0;32m   3066\u001b[0m \u001b[1;33m\u001b[0m\u001b[0m\n\u001b[0;32m   3067\u001b[0m         \u001b[0mindexer\u001b[0m \u001b[1;33m=\u001b[0m \u001b[0mself\u001b[0m\u001b[1;33m.\u001b[0m\u001b[0mget_indexer\u001b[0m\u001b[1;33m(\u001b[0m\u001b[1;33m[\u001b[0m\u001b[0mkey\u001b[0m\u001b[1;33m]\u001b[0m\u001b[1;33m,\u001b[0m \u001b[0mmethod\u001b[0m\u001b[1;33m=\u001b[0m\u001b[0mmethod\u001b[0m\u001b[1;33m,\u001b[0m \u001b[0mtolerance\u001b[0m\u001b[1;33m=\u001b[0m\u001b[0mtolerance\u001b[0m\u001b[1;33m)\u001b[0m\u001b[1;33m\u001b[0m\u001b[0m\n",
      "\u001b[1;32mpandas\\_libs\\index.pyx\u001b[0m in \u001b[0;36mpandas._libs.index.IndexEngine.get_loc\u001b[1;34m()\u001b[0m\n",
      "\u001b[1;32mpandas\\_libs\\index.pyx\u001b[0m in \u001b[0;36mpandas._libs.index.IndexEngine.get_loc\u001b[1;34m()\u001b[0m\n",
      "\u001b[1;32mpandas\\_libs\\hashtable_class_helper.pxi\u001b[0m in \u001b[0;36mpandas._libs.hashtable.PyObjectHashTable.get_item\u001b[1;34m()\u001b[0m\n",
      "\u001b[1;32mpandas\\_libs\\hashtable_class_helper.pxi\u001b[0m in \u001b[0;36mpandas._libs.hashtable.PyObjectHashTable.get_item\u001b[1;34m()\u001b[0m\n",
      "\u001b[1;31mKeyError\u001b[0m: '尺寸'"
     ]
    }
   ],
   "source": [
    "\n",
    "# 使用for迴圈來做全部\n",
    "count = 0\n",
    "\n",
    "for i in buyer_percent_all['尺寸']: # 除掉百分比為0的尺寸(2XS、8XL)\n",
    "    \n",
    "    # 將特定尺寸中的顏色百分比由大到小排序\n",
    "    buyer_percent = buyer_percent.sort_values(i, ascending = False)\n",
    "    \n",
    "    # 繪圖\n",
    "    fig = px.bar(buyer_percent,\n",
    "                x = '顏色',\n",
    "                y=i,\n",
    "                color=i,\n",
    "                labels = {i:'比例'},\n",
    "                title = '運動內衣('+ i +')與購買顏色比例圖')\n",
    "\n",
    "    count += 1\n",
    "    num = '0'+ str(count)\n",
    "\n",
    "    # 輸出檔案並放入SKU_plot資料夾中\n",
    "    # 先註解掉，讀者若要自己線下使用時，請在啟動下述的程式碼\n",
    "    # pyo.iplot(fig, filename = num[-2 :] + '_市場SKU_運動內衣（'+ i +'）與購買顏色比例圖.html')\n",
    "\n"
   ]
  },
  {
   "cell_type": "code",
   "execution_count": null,
   "metadata": {},
   "outputs": [],
   "source": []
  },
  {
   "cell_type": "code",
   "execution_count": null,
   "metadata": {},
   "outputs": [],
   "source": []
  },
  {
   "cell_type": "code",
   "execution_count": null,
   "metadata": {},
   "outputs": [],
   "source": []
  }
 ]
}