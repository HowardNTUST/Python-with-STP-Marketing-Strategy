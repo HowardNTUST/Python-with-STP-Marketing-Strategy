{
 "metadata": {
  "language_info": {
   "codemirror_mode": {
    "name": "ipython",
    "version": 3
   },
   "file_extension": ".py",
   "mimetype": "text/x-python",
   "name": "python",
   "nbconvert_exporter": "python",
   "pygments_lexer": "ipython3",
   "version": "3.7.7-final"
  },
  "orig_nbformat": 2,
  "kernelspec": {
   "name": "python_defaultSpec_1599656130774",
   "display_name": "Python 3.7.7 64-bit ('anaconda3': virtualenv)"
  }
 },
 "nbformat": 4,
 "nbformat_minor": 2,
 "cells": [
  {
   "cell_type": "markdown",
   "metadata": {},
   "source": [
    "\n",
    "# 章節 8-2 到蝦皮網站爬文\n",
    "\n",
    "作者: 鍾皓軒與楊超霆\n",
    "\n",
    "歡迎查看我們的[官網](https://tmrmds.co/)\n"
   ]
  },
  {
   "cell_type": "code",
   "execution_count": 5,
   "metadata": {},
   "outputs": [],
   "source": [
    "# 載入必要套件\n",
    "import requests\n",
    "from bs4 import BeautifulSoup\n",
    "import json\n",
    "import pandas as pd\n",
    "import time\n",
    "from tqdm import tqdm\n",
    "import time\n",
    "import re\n",
    "import random\n"
   ]
  },
  {
   "cell_type": "code",
   "execution_count": 6,
   "metadata": {},
   "outputs": [],
   "source": [
    "# 首先設定我們要的關鍵字\n",
    "keyword = '運動內衣'\n",
    "page = 1\n"
   ]
  },
  {
   "cell_type": "code",
   "execution_count": 7,
   "metadata": {},
   "outputs": [],
   "source": [
    "\n",
    "#封包標頭檔\n",
    "my_headers = {'authority' : 'shopee.tw',\n",
    "     'method': 'GET',\n",
    "     'path': '/api/v1/item_detail/?item_id=1147052312&shop_id=17400098',\n",
    "     'scheme': 'https',\n",
    "     'accept': '*/*',\n",
    "     'accept-encoding': 'gzip, deflate, br',\n",
    "     'accept-language': 'zh-TW,zh;q=0.9,en-US;q=0.8,en;q=0.7,ja;q=0.6',\n",
    "     'cookie': '_ga=GA1.2.1087113924.1519696808; SPC_IA=-1; SPC_F=SDsFai6wYMRFvHCNzyBRCvFIp92UnuU3; REC_T_ID=f2be85da-1b61-11e8-a60b-d09466041854; __BWfp=c1519696822183x3c2b15d09; __utmz=88845529.1521362936.1.1.utmcsr=(direct)|utmccn=(direct)|utmcmd=(none); _atrk_siteuid=HEgUlHUKcEXQZWpB; SPC_EC=-; SPC_U=-; SPC_T_ID=\"vBBUETICFqj4EWefxIdZzfzutfKhrgytH2wyevGxiObL3hFEfy0dpQSOM/yFzaGYQLUANrPe7QZ4hqLZotPs72MhLd8aK0qhIwD5fqDrlRs=\"; SPC_T_IV=\"IpxA2sGrOUQhMH4IaolDSA==\"; cto_lwid=2fc9d64c-3cfd-4cf9-9de7-a1516b03ed79; csrftoken=EDL9jQV76T97qmB7PaTPorKtfMlU7eUO; bannerShown=true; _gac_UA-61915057-6=1.1529645767.EAIaIQobChMIwvrkw8bm2wIVkBiPCh2bZAZgEAAYASAAEgIglPD_BwE; _gid=GA1.2.1275115921.1529896103; SPC_SI=2flgu0yh38oo0v2xyzns9a2sk6rz9ou8; __utma=88845529.1087113924.1519696808.1528465088.1529902919.7; __utmc=88845529; appier_utmz=%7B%22csr%22%3A%22(direct)%22%2C%22timestamp%22%3A1529902919%7D; _atrk_sync_cookie=true; _gat=1',\n",
    "     'if-none-match': \"55b03-9ff4fb127aff56426f5ec9022baec594\",\n",
    "     'referer': 'https://shopee.tw/6-9-%F0%9F%87%B0%F0%9F%87%B7%E9%9F%93%E5%9C%8B%E9%80%A3%E7%B7%9A-omg!%E6%96%B0%E8%89%B2%E7%99%BB%E5%A0%B4%F0%9F%94%A5%E4%BA%A4%E5%8F%89%E7%BE%8E%E8%83%8CBra%E5%BD%88%E5%8A%9B%E8%83%8C%E5%BF%83-i.17400098.1147052312',\n",
    "     'user-agent': 'Mozilla/5.0 (X11; Linux x86_64) AppleWebKit/537.36 (KHTML, like Gecko) Chrome/66.0.3359.139 Safari/537.36',\n",
    "     'x-api-source': 'pc',\n",
    "     'x-requested-with': 'XMLHttpRequest'\n",
    "      }   "
   ]
  },
  {
   "cell_type": "markdown",
   "metadata": {},
   "source": [
    "# 請求蝦皮的相關商品基本資料"
   ]
  },
  {
   "cell_type": "code",
   "execution_count": 8,
   "metadata": {},
   "outputs": [],
   "source": [
    "#專門用來請求蝦皮的相關商品基本資料\n",
    "def request_shopee(keyword, page):\n",
    "    url = 'https://shopee.tw/api/v2/search_items/?by=relevancy&keyword=' + keyword + '&limit=100&newest=' + str(page*100) + '&order=desc&page_type=search&version=2'\n",
    "    #開始請求\n",
    "    list_req = requests.get(url,headers = my_headers)\n",
    "    soup = BeautifulSoup(list_req.content, \"html.parser\")\n",
    "    #將扒下來的文字轉成Json\n",
    "    getjson=json.loads(soup.text)\n",
    "    \n",
    "    return getjson['items']\n"
   ]
  },
  {
   "cell_type": "markdown",
   "metadata": {},
   "source": [
    "## 首先設定我們要的關鍵字\n",
    "* keyword = '運動內衣'\n",
    "* page = 0 --> 代表第一頁的意思，會直接爬100項資料\n",
    "* 爬取頁面：讀者可以直接前往本網址 https://shopee.tw/search?keyword=運動內衣&page=1 ，爬得就是本頁的商品id與店家id\n"
   ]
  },
  {
   "cell_type": "code",
   "execution_count": 9,
   "metadata": {},
   "outputs": [],
   "source": [
    "# 使用方法\n",
    "items_json = request_shopee(keyword = '運動內衣', page = 0)\n"
   ]
  },
  {
   "cell_type": "code",
   "execution_count": 10,
   "metadata": {},
   "outputs": [],
   "source": [
    "# 轉換成data frame\n",
    "items=pd.DataFrame(items_json) \n"
   ]
  },
  {
   "cell_type": "code",
   "execution_count": 11,
   "metadata": {},
   "outputs": [
    {
     "output_type": "execute_result",
     "data": {
      "text/plain": "        itemid welcome_package_info  liked recommendation_info  \\\n0   4051604095                 None  False                None   \n1   1841542750                 None  False                None   \n2   7238844302                 None  False                None   \n3   7048070905                 None  False                None   \n4   3323393014                 None  False                None   \n..         ...                  ...    ...                 ...   \n95  3828752329                 None  False                None   \n96  1734695210                 None  False                None   \n97   246362668                 None  False                None   \n98  6149322138                 None  False                None   \n99  1265625063                 None  False                None   \n\n                                     bundle_deal_info  \\\n0                                                None   \n1   {'bundle_deal_id': 2417898, 'bundle_deal_label...   \n2                                                None   \n3                                                None   \n4   {'bundle_deal_id': 2591727, 'bundle_deal_label...   \n..                                                ...   \n95  {'bundle_deal_id': 2218330, 'bundle_deal_label...   \n96                                               None   \n97                                               None   \n98  {'bundle_deal_id': 2766365, 'bundle_deal_label...   \n99                                               None   \n\n    price_max_before_discount tracking_info                             image  \\\n0                          -1          None  a76cdc1e40a4118accb4f65c6a99a3c7   \n1                    75000000          None  efd7edfefcfb28654990cefba5f8a426   \n2                    35000000          None  40771d62ff7bfc9e10061c1c3a56e636   \n3                    21500000          None  288ab3037acddc62fe54cfdf998dd719   \n4                    53800000          None  397b854cf12755860fc2200aeeea519d   \n..                        ...           ...                               ...   \n95                  133200000          None  333998a56f6fe938ca16d19328f61467   \n96                   29000000          None  96a2adc0d3761809c8eaf68424dfe7ea   \n97                         -1          None  240a8e9bdba47d89a1bfac88a89bb4f2   \n98                   30000000          None  0519aa3e1a1bf725290a9bb2ce084cd6   \n99                   29800000          None  29610268fbed1c9ca6779c00402f024b   \n\n   recommendation_algorithm  is_cc_installment_payment_eligible  ...  \\\n0                      None                               False  ...   \n1                      None                               False  ...   \n2                      None                               False  ...   \n3                      None                               False  ...   \n4                      None                               False  ...   \n..                      ...                                 ...  ...   \n95                     None                               False  ...   \n96                     None                               False  ...   \n97                     None                               False  ...   \n98                     None                               False  ...   \n99                     None                               False  ...   \n\n    hidden_price_display                        size_chart item_type  \\\n0                   None                              None         0   \n1                   None  614fbc6397982f5d13e27232cf02b517         0   \n2                   None  b4b931df645171e9fc628e72521769ce         0   \n3                   None                              None         0   \n4                   None  e4c32f36dff280f490397c4102fd5c75         0   \n..                   ...                               ...       ...   \n95                  None                              None         0   \n96                  None                              None         0   \n97                  None                              None         0   \n98                  None                              None         0   \n99                  None                              None         0   \n\n   shipping_icon_type campaign_stock  \\\n0                None           None   \n1                None           None   \n2                None           None   \n3                None           None   \n4                None           None   \n..                ...            ...   \n95               None           None   \n96               None           None   \n97               None           None   \n98               None           None   \n99               None           None   \n\n                                            label_ids  service_by_shopee_flag  \\\n0                                                  []                       0   \n1             [1000399, 1000197, 25, 23, 1000381, 16]                       0   \n2   [1000364, 1000335, 16, 1000140, 25, 1000138, 1...                       0   \n3                                   [1000140, 16, 25]                       0   \n4   [1000364, 1000140, 1, 25, 1000335, 16, 1000139...                       0   \n..                                                ...                     ...   \n95                         [1000028, 16, 1000140, 25]                       0   \n96  [1000381, 16, 1000399, 1000197, 1000140, 25, 1...                       0   \n97  [16, 1000140, 25, 4, 1000197, 1000279, 1000381...                       0   \n98                         [1000140, 16, 1000363, 25]                       0   \n99  [1000028, 1000381, 16, 1000140, 1000296, 10002...                       0   \n\n   badge_icon_type historical_sold transparent_background_image  \n0                0               0                               \n1                0            4948                               \n2                0             498                               \n3                0               7                               \n4                0              98                               \n..             ...             ...                          ...  \n95               0             696                               \n96               0            6239                               \n97               0            3444                               \n98               0               0                               \n99               0           11227                               \n\n[100 rows x 83 columns]",
      "text/html": "<div>\n<style scoped>\n    .dataframe tbody tr th:only-of-type {\n        vertical-align: middle;\n    }\n\n    .dataframe tbody tr th {\n        vertical-align: top;\n    }\n\n    .dataframe thead th {\n        text-align: right;\n    }\n</style>\n<table border=\"1\" class=\"dataframe\">\n  <thead>\n    <tr style=\"text-align: right;\">\n      <th></th>\n      <th>itemid</th>\n      <th>welcome_package_info</th>\n      <th>liked</th>\n      <th>recommendation_info</th>\n      <th>bundle_deal_info</th>\n      <th>price_max_before_discount</th>\n      <th>tracking_info</th>\n      <th>image</th>\n      <th>recommendation_algorithm</th>\n      <th>is_cc_installment_payment_eligible</th>\n      <th>...</th>\n      <th>hidden_price_display</th>\n      <th>size_chart</th>\n      <th>item_type</th>\n      <th>shipping_icon_type</th>\n      <th>campaign_stock</th>\n      <th>label_ids</th>\n      <th>service_by_shopee_flag</th>\n      <th>badge_icon_type</th>\n      <th>historical_sold</th>\n      <th>transparent_background_image</th>\n    </tr>\n  </thead>\n  <tbody>\n    <tr>\n      <th>0</th>\n      <td>4051604095</td>\n      <td>None</td>\n      <td>False</td>\n      <td>None</td>\n      <td>None</td>\n      <td>-1</td>\n      <td>None</td>\n      <td>a76cdc1e40a4118accb4f65c6a99a3c7</td>\n      <td>None</td>\n      <td>False</td>\n      <td>...</td>\n      <td>None</td>\n      <td>None</td>\n      <td>0</td>\n      <td>None</td>\n      <td>None</td>\n      <td>[]</td>\n      <td>0</td>\n      <td>0</td>\n      <td>0</td>\n      <td></td>\n    </tr>\n    <tr>\n      <th>1</th>\n      <td>1841542750</td>\n      <td>None</td>\n      <td>False</td>\n      <td>None</td>\n      <td>{'bundle_deal_id': 2417898, 'bundle_deal_label...</td>\n      <td>75000000</td>\n      <td>None</td>\n      <td>efd7edfefcfb28654990cefba5f8a426</td>\n      <td>None</td>\n      <td>False</td>\n      <td>...</td>\n      <td>None</td>\n      <td>614fbc6397982f5d13e27232cf02b517</td>\n      <td>0</td>\n      <td>None</td>\n      <td>None</td>\n      <td>[1000399, 1000197, 25, 23, 1000381, 16]</td>\n      <td>0</td>\n      <td>0</td>\n      <td>4948</td>\n      <td></td>\n    </tr>\n    <tr>\n      <th>2</th>\n      <td>7238844302</td>\n      <td>None</td>\n      <td>False</td>\n      <td>None</td>\n      <td>None</td>\n      <td>35000000</td>\n      <td>None</td>\n      <td>40771d62ff7bfc9e10061c1c3a56e636</td>\n      <td>None</td>\n      <td>False</td>\n      <td>...</td>\n      <td>None</td>\n      <td>b4b931df645171e9fc628e72521769ce</td>\n      <td>0</td>\n      <td>None</td>\n      <td>None</td>\n      <td>[1000364, 1000335, 16, 1000140, 25, 1000138, 1...</td>\n      <td>0</td>\n      <td>0</td>\n      <td>498</td>\n      <td></td>\n    </tr>\n    <tr>\n      <th>3</th>\n      <td>7048070905</td>\n      <td>None</td>\n      <td>False</td>\n      <td>None</td>\n      <td>None</td>\n      <td>21500000</td>\n      <td>None</td>\n      <td>288ab3037acddc62fe54cfdf998dd719</td>\n      <td>None</td>\n      <td>False</td>\n      <td>...</td>\n      <td>None</td>\n      <td>None</td>\n      <td>0</td>\n      <td>None</td>\n      <td>None</td>\n      <td>[1000140, 16, 25]</td>\n      <td>0</td>\n      <td>0</td>\n      <td>7</td>\n      <td></td>\n    </tr>\n    <tr>\n      <th>4</th>\n      <td>3323393014</td>\n      <td>None</td>\n      <td>False</td>\n      <td>None</td>\n      <td>{'bundle_deal_id': 2591727, 'bundle_deal_label...</td>\n      <td>53800000</td>\n      <td>None</td>\n      <td>397b854cf12755860fc2200aeeea519d</td>\n      <td>None</td>\n      <td>False</td>\n      <td>...</td>\n      <td>None</td>\n      <td>e4c32f36dff280f490397c4102fd5c75</td>\n      <td>0</td>\n      <td>None</td>\n      <td>None</td>\n      <td>[1000364, 1000140, 1, 25, 1000335, 16, 1000139...</td>\n      <td>0</td>\n      <td>0</td>\n      <td>98</td>\n      <td></td>\n    </tr>\n    <tr>\n      <th>...</th>\n      <td>...</td>\n      <td>...</td>\n      <td>...</td>\n      <td>...</td>\n      <td>...</td>\n      <td>...</td>\n      <td>...</td>\n      <td>...</td>\n      <td>...</td>\n      <td>...</td>\n      <td>...</td>\n      <td>...</td>\n      <td>...</td>\n      <td>...</td>\n      <td>...</td>\n      <td>...</td>\n      <td>...</td>\n      <td>...</td>\n      <td>...</td>\n      <td>...</td>\n      <td>...</td>\n    </tr>\n    <tr>\n      <th>95</th>\n      <td>3828752329</td>\n      <td>None</td>\n      <td>False</td>\n      <td>None</td>\n      <td>{'bundle_deal_id': 2218330, 'bundle_deal_label...</td>\n      <td>133200000</td>\n      <td>None</td>\n      <td>333998a56f6fe938ca16d19328f61467</td>\n      <td>None</td>\n      <td>False</td>\n      <td>...</td>\n      <td>None</td>\n      <td>None</td>\n      <td>0</td>\n      <td>None</td>\n      <td>None</td>\n      <td>[1000028, 16, 1000140, 25]</td>\n      <td>0</td>\n      <td>0</td>\n      <td>696</td>\n      <td></td>\n    </tr>\n    <tr>\n      <th>96</th>\n      <td>1734695210</td>\n      <td>None</td>\n      <td>False</td>\n      <td>None</td>\n      <td>None</td>\n      <td>29000000</td>\n      <td>None</td>\n      <td>96a2adc0d3761809c8eaf68424dfe7ea</td>\n      <td>None</td>\n      <td>False</td>\n      <td>...</td>\n      <td>None</td>\n      <td>None</td>\n      <td>0</td>\n      <td>None</td>\n      <td>None</td>\n      <td>[1000381, 16, 1000399, 1000197, 1000140, 25, 1...</td>\n      <td>0</td>\n      <td>0</td>\n      <td>6239</td>\n      <td></td>\n    </tr>\n    <tr>\n      <th>97</th>\n      <td>246362668</td>\n      <td>None</td>\n      <td>False</td>\n      <td>None</td>\n      <td>None</td>\n      <td>-1</td>\n      <td>None</td>\n      <td>240a8e9bdba47d89a1bfac88a89bb4f2</td>\n      <td>None</td>\n      <td>False</td>\n      <td>...</td>\n      <td>None</td>\n      <td>None</td>\n      <td>0</td>\n      <td>None</td>\n      <td>None</td>\n      <td>[16, 1000140, 25, 4, 1000197, 1000279, 1000381...</td>\n      <td>0</td>\n      <td>0</td>\n      <td>3444</td>\n      <td></td>\n    </tr>\n    <tr>\n      <th>98</th>\n      <td>6149322138</td>\n      <td>None</td>\n      <td>False</td>\n      <td>None</td>\n      <td>{'bundle_deal_id': 2766365, 'bundle_deal_label...</td>\n      <td>30000000</td>\n      <td>None</td>\n      <td>0519aa3e1a1bf725290a9bb2ce084cd6</td>\n      <td>None</td>\n      <td>False</td>\n      <td>...</td>\n      <td>None</td>\n      <td>None</td>\n      <td>0</td>\n      <td>None</td>\n      <td>None</td>\n      <td>[1000140, 16, 1000363, 25]</td>\n      <td>0</td>\n      <td>0</td>\n      <td>0</td>\n      <td></td>\n    </tr>\n    <tr>\n      <th>99</th>\n      <td>1265625063</td>\n      <td>None</td>\n      <td>False</td>\n      <td>None</td>\n      <td>None</td>\n      <td>29800000</td>\n      <td>None</td>\n      <td>29610268fbed1c9ca6779c00402f024b</td>\n      <td>None</td>\n      <td>False</td>\n      <td>...</td>\n      <td>None</td>\n      <td>None</td>\n      <td>0</td>\n      <td>None</td>\n      <td>None</td>\n      <td>[1000028, 1000381, 16, 1000140, 1000296, 10002...</td>\n      <td>0</td>\n      <td>0</td>\n      <td>11227</td>\n      <td></td>\n    </tr>\n  </tbody>\n</table>\n<p>100 rows × 83 columns</p>\n</div>"
     },
     "metadata": {},
     "execution_count": 11
    }
   ],
   "source": [
    "items"
   ]
  },
  {
   "cell_type": "code",
   "execution_count": 12,
   "metadata": {},
   "outputs": [],
   "source": [
    "# 取出我們後續要進入每個商品，抓取賣家更細節資料（商品文案、SKU）的欄位\n",
    "items2 = items[['itemid','shopid','name', 'price']]"
   ]
  },
  {
   "cell_type": "code",
   "execution_count": 13,
   "metadata": {},
   "outputs": [
    {
     "output_type": "execute_result",
     "data": {
      "text/plain": "        itemid     shopid                                               name  \\\n0   4051604095  286671892  免運  正品代購kissy如吻內衣 女生內衣 無鋼圈內衣 運動內衣 養護型科技內衣 無痕零束...   \n1   1841542750   12896244              UNDER ARMOUR 安德瑪 UA 女 瑜伽 健身 運動內衣 中強度型   \n2   7238844302  261888471           【HER】六月New 寬肩帶背心 高強度健身加寬封腰 聚攏防鎮 透氣速乾運動內衣   \n3   7048070905   62850908  【居家健身】無痕降溫內衣 日系最新款 第四代V領降溫內衣 無鋼圈內衣 無痕內衣 涼感內衣 內...   \n4   3323393014  220330952  【虧本下殺】Fairy Club網紅爆款可調節搭扣性感美背高強度運動內衣細肩帶防震聚攏速乾透...   \n..         ...        ...                                                ...   \n95  3828752329  224987745  限量聖誕紅!現貨在台🔥KISSY如吻正品 經典款內衣 無鋼圈運動胸罩 聚攏文胸 孕婦可穿 無...   \n96  1734695210    6152778  台灣出貨~(現貨秒出!!!) MYMY【BK336】好穿!!! 莫代爾 無鋼圈 細肩帶 運動...   \n97   246362668   20189220  【現貨-免運費！男士塑身背心塑身縮腰】運動背心 男塑身衣 瘦身背心 塑身內衣 男束身衣 男生...   \n98  6149322138    2134034    🌞泰國🇹🇭乳膠排釦內衣 無鋼圈內衣 運動內衣 冰絲內衣 無痕內衣 運動內衣 背心 涼感無痕內衣   \n99  1265625063    6152778  台灣出貨~(現貨秒出!!!) MYMY【BK306】超級好穿!!!冰絲 無鋼圈 細肩帶 運動...   \n\n       price  \n0   63000000  \n1   28000000  \n2   17500000  \n3    9900000  \n4   26900000  \n..       ...  \n95  65000000  \n96  13900000  \n97  29900000  \n98  14800000  \n99  13900000  \n\n[100 rows x 4 columns]",
      "text/html": "<div>\n<style scoped>\n    .dataframe tbody tr th:only-of-type {\n        vertical-align: middle;\n    }\n\n    .dataframe tbody tr th {\n        vertical-align: top;\n    }\n\n    .dataframe thead th {\n        text-align: right;\n    }\n</style>\n<table border=\"1\" class=\"dataframe\">\n  <thead>\n    <tr style=\"text-align: right;\">\n      <th></th>\n      <th>itemid</th>\n      <th>shopid</th>\n      <th>name</th>\n      <th>price</th>\n    </tr>\n  </thead>\n  <tbody>\n    <tr>\n      <th>0</th>\n      <td>4051604095</td>\n      <td>286671892</td>\n      <td>免運  正品代購kissy如吻內衣 女生內衣 無鋼圈內衣 運動內衣 養護型科技內衣 無痕零束...</td>\n      <td>63000000</td>\n    </tr>\n    <tr>\n      <th>1</th>\n      <td>1841542750</td>\n      <td>12896244</td>\n      <td>UNDER ARMOUR 安德瑪 UA 女 瑜伽 健身 運動內衣 中強度型</td>\n      <td>28000000</td>\n    </tr>\n    <tr>\n      <th>2</th>\n      <td>7238844302</td>\n      <td>261888471</td>\n      <td>【HER】六月New 寬肩帶背心 高強度健身加寬封腰 聚攏防鎮 透氣速乾運動內衣</td>\n      <td>17500000</td>\n    </tr>\n    <tr>\n      <th>3</th>\n      <td>7048070905</td>\n      <td>62850908</td>\n      <td>【居家健身】無痕降溫內衣 日系最新款 第四代V領降溫內衣 無鋼圈內衣 無痕內衣 涼感內衣 內...</td>\n      <td>9900000</td>\n    </tr>\n    <tr>\n      <th>4</th>\n      <td>3323393014</td>\n      <td>220330952</td>\n      <td>【虧本下殺】Fairy Club網紅爆款可調節搭扣性感美背高強度運動內衣細肩帶防震聚攏速乾透...</td>\n      <td>26900000</td>\n    </tr>\n    <tr>\n      <th>...</th>\n      <td>...</td>\n      <td>...</td>\n      <td>...</td>\n      <td>...</td>\n    </tr>\n    <tr>\n      <th>95</th>\n      <td>3828752329</td>\n      <td>224987745</td>\n      <td>限量聖誕紅!現貨在台🔥KISSY如吻正品 經典款內衣 無鋼圈運動胸罩 聚攏文胸 孕婦可穿 無...</td>\n      <td>65000000</td>\n    </tr>\n    <tr>\n      <th>96</th>\n      <td>1734695210</td>\n      <td>6152778</td>\n      <td>台灣出貨~(現貨秒出!!!) MYMY【BK336】好穿!!! 莫代爾 無鋼圈 細肩帶 運動...</td>\n      <td>13900000</td>\n    </tr>\n    <tr>\n      <th>97</th>\n      <td>246362668</td>\n      <td>20189220</td>\n      <td>【現貨-免運費！男士塑身背心塑身縮腰】運動背心 男塑身衣 瘦身背心 塑身內衣 男束身衣 男生...</td>\n      <td>29900000</td>\n    </tr>\n    <tr>\n      <th>98</th>\n      <td>6149322138</td>\n      <td>2134034</td>\n      <td>🌞泰國🇹🇭乳膠排釦內衣 無鋼圈內衣 運動內衣 冰絲內衣 無痕內衣 運動內衣 背心 涼感無痕內衣</td>\n      <td>14800000</td>\n    </tr>\n    <tr>\n      <th>99</th>\n      <td>1265625063</td>\n      <td>6152778</td>\n      <td>台灣出貨~(現貨秒出!!!) MYMY【BK306】超級好穿!!!冰絲 無鋼圈 細肩帶 運動...</td>\n      <td>13900000</td>\n    </tr>\n  </tbody>\n</table>\n<p>100 rows × 4 columns</p>\n</div>"
     },
     "metadata": {},
     "execution_count": 13
    }
   ],
   "source": [
    "items2"
   ]
  },
  {
   "cell_type": "markdown",
   "metadata": {},
   "source": [
    "# 抓取<mark>賣家</mark>細節的資料\n",
    "\n",
    "有了上述頁面商家的基本資料（商品ID與商品賣家ID），就可以開始深入每一個商品網頁，抓取欲求資料\n",
    "\n",
    "本處會使用到的goods_detail() 中有兩個必要的參數，分別是\n",
    "* item_id（商品ID）\n",
    "* shop_id（商品賣家ID）\n",
    "都是從request_shopee()的function中取得\n",
    "\n",
    "在原始內容中，這兩個參數都是8 到10 不等的亂數，而兩個數\n",
    "字可以在商品網頁中的網址末端找到，例如：-i.188645964.5015552783，其中\n",
    "shop_id 是188645964；item_id 是5015552783，如下圖最上面的id所示。\n",
    "\n",
    "\n",
    "![](https://imgur.com/fgBT5Rj.png)"
   ]
  },
  {
   "cell_type": "markdown",
   "metadata": {},
   "source": [
    "哈哈～ 順便工商一下\n",
    "\n",
    "# <mark>如果您對相關課程有興趣歡迎點擊查看： </mark>\n",
    "- [台科 EMBA 年年爆滿的一門 Word 課(A系列)](https://hahow.in/cr/tmr-word1)\n",
    "- [台科 EMBA 年年爆滿的一門 Word 課(B+C系列)](https://hahow.in/cr/tmr-word2)\n",
    "\n",
    "\n"
   ]
  },
  {
   "cell_type": "code",
   "execution_count": 14,
   "metadata": {},
   "outputs": [],
   "source": [
    "# 進入每個商品，抓取賣家更細節的資料（商品文案、SKU）\n",
    "def goods_detail(item_id, shop_id):\n",
    "    url = 'https://shopee.tw/api/v2/item/get?itemid=' + str(item_id) + '&shopid=' + str(shop_id)\n",
    "    r = requests.get(url,headers = my_headers)\n",
    "    st= r.text.replace(\"\\\\n\",\"^n\")\n",
    "    st=st.replace(\"\\\\t\",\"^t\")\n",
    "    st=st.replace(\"\\\\r\",\"^r\")\n",
    "    \n",
    "    gj=json.loads(st)\n",
    "    return gj\n"
   ]
  },
  {
   "cell_type": "code",
   "execution_count": 15,
   "metadata": {},
   "outputs": [],
   "source": [
    "#一個一個產品進去抓，但是讓我們先抓第2個來試試看\n",
    "product=goods_detail(item_id = items['itemid'].tolist()[1], shop_id = items['shopid'].tolist()[1])['item']"
   ]
  },
  {
   "cell_type": "code",
   "execution_count": 16,
   "metadata": {},
   "outputs": [],
   "source": [
    "# 讓我們將重要的SKU、articles與tags抓取出來\n",
    "articles = []\n",
    "SKU = []\n",
    "tags = []\n",
    "articles.append(product['description'])\n",
    "SKU.append(product['models'])\n",
    "tags.append(product['hashtag_list'])"
   ]
  },
  {
   "cell_type": "code",
   "execution_count": 17,
   "metadata": {},
   "outputs": [],
   "source": [
    "product = pd.DataFrame({'articles':articles, 'SKU':SKU, 'tags':tags})"
   ]
  },
  {
   "cell_type": "code",
   "execution_count": 18,
   "metadata": {},
   "outputs": [
    {
     "output_type": "execute_result",
     "data": {
      "text/plain": "                                            articles  \\\n0  罩杯尺碼表^n尺碼^t上胸圍^t下胸圍^t歐碼罩杯^nS^t78^t68^t70A、70B^...   \n\n                                                 SKU  tags  \n0  [{'itemid': 1841542750, 'status': 1, 'current_...  None  ",
      "text/html": "<div>\n<style scoped>\n    .dataframe tbody tr th:only-of-type {\n        vertical-align: middle;\n    }\n\n    .dataframe tbody tr th {\n        vertical-align: top;\n    }\n\n    .dataframe thead th {\n        text-align: right;\n    }\n</style>\n<table border=\"1\" class=\"dataframe\">\n  <thead>\n    <tr style=\"text-align: right;\">\n      <th></th>\n      <th>articles</th>\n      <th>SKU</th>\n      <th>tags</th>\n    </tr>\n  </thead>\n  <tbody>\n    <tr>\n      <th>0</th>\n      <td>罩杯尺碼表^n尺碼^t上胸圍^t下胸圍^t歐碼罩杯^nS^t78^t68^t70A、70B^...</td>\n      <td>[{'itemid': 1841542750, 'status': 1, 'current_...</td>\n      <td>None</td>\n    </tr>\n  </tbody>\n</table>\n</div>"
     },
     "metadata": {},
     "execution_count": 18
    }
   ],
   "source": [
    "# 查看product裏面的樣子\n",
    "product"
   ]
  },
  {
   "cell_type": "code",
   "execution_count": 19,
   "metadata": {},
   "outputs": [
    {
     "output_type": "execute_result",
     "data": {
      "text/plain": "{'itemid': 1841542750,\n 'status': 1,\n 'current_promotion_reserved_stock': 0,\n 'name': 'NO.1 深灰/S',\n 'promotionid': 1049970936,\n 'price': 28000000,\n 'price_stocks': [{'model_id': 3158786638,\n   'stockout_time': None,\n   'region': 'TW',\n   'rebate': None,\n   'price': 28000000,\n   'promotion_type': 301,\n   'allocated_stock': None,\n   'shop_id': 12896244,\n   'end_time': 1606888800,\n   'stock_breakdown_by_location': [],\n   'item_id': 1841542750,\n   'promotion_id': 1049970936,\n   'purchase_limit': None,\n   'start_time': 1575268800,\n   'stock': None},\n  {'model_id': 3158786638,\n   'stockout_time': 0,\n   'region': 'TW',\n   'rebate': 0,\n   'price': 75000000,\n   'promotion_type': 0,\n   'allocated_stock': 0,\n   'shop_id': 12896244,\n   'end_time': None,\n   'stock_breakdown_by_location': [],\n   'item_id': 1841542750,\n   'promotion_id': 0,\n   'purchase_limit': 0,\n   'start_time': None,\n   'stock': 44}],\n 'current_promotion_has_reserve_stock': False,\n 'currency': 'TWD',\n 'normal_stock': 44,\n 'extinfo': {'seller_promotion_limit': 0,\n  'has_shopee_promo': False,\n  'group_buy_info': None,\n  'holiday_mode_old_stock': None,\n  'tier_index': [0],\n  'seller_promotion_refresh_time': 1606888800},\n 'price_before_discount': 75000000,\n 'modelid': 3158786638,\n 'sold': 296,\n 'stock': 44}"
     },
     "metadata": {},
     "execution_count": 19
    }
   ],
   "source": [
    "# 抓出第一個SKU的樣子～\n",
    "product['SKU'][0][0]"
   ]
  },
  {
   "cell_type": "markdown",
   "metadata": {},
   "source": [
    "# 爬取<mark>消費者</mark>資料\n",
    "\n",
    "本處使用goods_comments() 來爬取消費者資料，將買家的重要資料給爬取下來，每一列代表一位消費者，其中包含留言內容、商品規格等。"
   ]
  },
  {
   "cell_type": "code",
   "execution_count": 20,
   "metadata": {},
   "outputs": [],
   "source": [
    "# 進入每個商品，抓取買家留言\n",
    "def goods_comments(item_id, shop_id):\n",
    "    url = 'https://shopee.tw/api/v1/comment_list/?item_id='+ str(item_id) + '&shop_id=' + str(shop_id) + '&offset=0&limit=200&flag=1&filter=0'\n",
    "    r = requests.get(url,headers = my_headers)\n",
    "    st= r.text.replace(\"\\\\n\",\"^n\")\n",
    "    st=st.replace(\"\\\\t\",\"^t\")\n",
    "    st=st.replace(\"\\\\r\",\"^r\")\n",
    "    \n",
    "    gj=json.loads(st)\n",
    "    return gj['comments']"
   ]
  },
  {
   "cell_type": "code",
   "execution_count": 21,
   "metadata": {},
   "outputs": [],
   "source": [
    "iteComment = goods_comments(item_id = items['itemid'].tolist()[1], shop_id = items['shopid'].tolist()[1])"
   ]
  },
  {
   "cell_type": "code",
   "execution_count": 22,
   "metadata": {},
   "outputs": [],
   "source": [
    "userinfo = pd.DataFrame(iteComment)"
   ]
  },
  {
   "cell_type": "code",
   "execution_count": 23,
   "metadata": {},
   "outputs": [
    {
     "output_type": "execute_result",
     "data": {
      "text/plain": "                       comment      itemid videos  rating username    shopid  \\\n0                               1841542750     []       1  i*****6  12896244   \n1                               1841542750     []       1  l*****1  12896244   \n2                               1841542750     []       1  l*****0  12896244   \n3                               1841542750     []       1  r*****5  12896244   \n4                               1841542750     []       1  s*****4  12896244   \n..                         ...         ...    ...     ...      ...       ...   \n95                              1841542750     []       1  s*****8  12896244   \n96                              1841542750     []       1  m*****5  12896244   \n97  非常好的賣家與商品，舒適好穿，一定再回購，強力推薦！  1841542750     []       1  c*****1  12896244   \n98                              1841542750     []       1  b*****9  12896244   \n99                              1841542750     []       1  i*****6  12896244   \n\n   author_name show_reply  rating_star  like_count  ...  editable anonymous  \\\n0      i*****6       None            5         NaN  ...         1      True   \n1      l*****1       None            5         NaN  ...         1      True   \n2      l*****0       None            5         NaN  ...         1      True   \n3      r*****5       None            5         NaN  ...         1      True   \n4      s*****4       None            5         NaN  ...         1      True   \n..         ...        ...          ...         ...  ...       ...       ...   \n95     s*****8       None            4         NaN  ...         1      True   \n96     m*****5       None            5         NaN  ...         1      True   \n97     c*****1       None            5         NaN  ...         1      True   \n98     b*****9       None            5         NaN  ...         1      True   \n99     i*****6       None            5         NaN  ...         0      True   \n\n   disputable  status       ctime  \\\n0           1       2  1599353413   \n1           1       2  1599282834   \n2           1       2  1599239180   \n3           1       2  1599161838   \n4           1       2  1599142615   \n..        ...     ...         ...   \n95          1       2  1597191162   \n96          1       2  1597152227   \n97          1       2  1597059038   \n98          1       2  1597037385   \n99          1       2  1596976083   \n\n                                        product_items  author_shopid  \\\n0   [{'itemid': 1841542750, 'offer_count': 3, 'ite...        9793574   \n1   [{'itemid': 1841542750, 'offer_count': 3, 'ite...       51225929   \n2   [{'itemid': 1841542750, 'offer_count': 3, 'ite...        5316262   \n3   [{'itemid': 1841542750, 'offer_count': 3, 'ite...      138645657   \n4   [{'itemid': 1841542750, 'offer_count': 3, 'ite...        4627527   \n..                                                ...            ...   \n95  [{'itemid': 1841542750, 'offer_count': 3, 'ite...      278558541   \n96  [{'itemid': 1841542750, 'offer_count': 3, 'ite...      218474935   \n97  [{'itemid': 1841542750, 'offer_count': 3, 'ite...        4869975   \n98  [{'itemid': 1841542750, 'offer_count': 3, 'ite...        2855252   \n99  [{'itemid': 1841542750, 'offer_count': 3, 'ite...       21176398   \n\n       userid filter                                      preview_items  \n0     9794871      0  [{'itemid': 1841542750, 'snapshotid': 20073101...  \n1    51227317      0  [{'itemid': 1841542750, 'snapshotid': 20073101...  \n2     5317556      0  [{'itemid': 1841542750, 'snapshotid': 19948208...  \n3   138647481      0  [{'itemid': 1841542750, 'snapshotid': 19843676...  \n4     4628817      0  [{'itemid': 1841542750, 'snapshotid': 20073101...  \n..        ...    ...                                                ...  \n95  278563949      0  [{'itemid': 1841542750, 'snapshotid': 19724798...  \n96  218478895      0  [{'itemid': 1841542750, 'snapshotid': 19708754...  \n97    4871265      1  [{'itemid': 1841542750, 'snapshotid': 19724798...  \n98    2856544      0  [{'itemid': 1841542750, 'snapshotid': 19724798...  \n99   21177734      0  [{'itemid': 1841542750, 'snapshotid': 19708754...  \n\n[100 rows x 40 columns]",
      "text/html": "<div>\n<style scoped>\n    .dataframe tbody tr th:only-of-type {\n        vertical-align: middle;\n    }\n\n    .dataframe tbody tr th {\n        vertical-align: top;\n    }\n\n    .dataframe thead th {\n        text-align: right;\n    }\n</style>\n<table border=\"1\" class=\"dataframe\">\n  <thead>\n    <tr style=\"text-align: right;\">\n      <th></th>\n      <th>comment</th>\n      <th>itemid</th>\n      <th>videos</th>\n      <th>rating</th>\n      <th>username</th>\n      <th>shopid</th>\n      <th>author_name</th>\n      <th>show_reply</th>\n      <th>rating_star</th>\n      <th>like_count</th>\n      <th>...</th>\n      <th>editable</th>\n      <th>anonymous</th>\n      <th>disputable</th>\n      <th>status</th>\n      <th>ctime</th>\n      <th>product_items</th>\n      <th>author_shopid</th>\n      <th>userid</th>\n      <th>filter</th>\n      <th>preview_items</th>\n    </tr>\n  </thead>\n  <tbody>\n    <tr>\n      <th>0</th>\n      <td></td>\n      <td>1841542750</td>\n      <td>[]</td>\n      <td>1</td>\n      <td>i*****6</td>\n      <td>12896244</td>\n      <td>i*****6</td>\n      <td>None</td>\n      <td>5</td>\n      <td>NaN</td>\n      <td>...</td>\n      <td>1</td>\n      <td>True</td>\n      <td>1</td>\n      <td>2</td>\n      <td>1599353413</td>\n      <td>[{'itemid': 1841542750, 'offer_count': 3, 'ite...</td>\n      <td>9793574</td>\n      <td>9794871</td>\n      <td>0</td>\n      <td>[{'itemid': 1841542750, 'snapshotid': 20073101...</td>\n    </tr>\n    <tr>\n      <th>1</th>\n      <td></td>\n      <td>1841542750</td>\n      <td>[]</td>\n      <td>1</td>\n      <td>l*****1</td>\n      <td>12896244</td>\n      <td>l*****1</td>\n      <td>None</td>\n      <td>5</td>\n      <td>NaN</td>\n      <td>...</td>\n      <td>1</td>\n      <td>True</td>\n      <td>1</td>\n      <td>2</td>\n      <td>1599282834</td>\n      <td>[{'itemid': 1841542750, 'offer_count': 3, 'ite...</td>\n      <td>51225929</td>\n      <td>51227317</td>\n      <td>0</td>\n      <td>[{'itemid': 1841542750, 'snapshotid': 20073101...</td>\n    </tr>\n    <tr>\n      <th>2</th>\n      <td></td>\n      <td>1841542750</td>\n      <td>[]</td>\n      <td>1</td>\n      <td>l*****0</td>\n      <td>12896244</td>\n      <td>l*****0</td>\n      <td>None</td>\n      <td>5</td>\n      <td>NaN</td>\n      <td>...</td>\n      <td>1</td>\n      <td>True</td>\n      <td>1</td>\n      <td>2</td>\n      <td>1599239180</td>\n      <td>[{'itemid': 1841542750, 'offer_count': 3, 'ite...</td>\n      <td>5316262</td>\n      <td>5317556</td>\n      <td>0</td>\n      <td>[{'itemid': 1841542750, 'snapshotid': 19948208...</td>\n    </tr>\n    <tr>\n      <th>3</th>\n      <td></td>\n      <td>1841542750</td>\n      <td>[]</td>\n      <td>1</td>\n      <td>r*****5</td>\n      <td>12896244</td>\n      <td>r*****5</td>\n      <td>None</td>\n      <td>5</td>\n      <td>NaN</td>\n      <td>...</td>\n      <td>1</td>\n      <td>True</td>\n      <td>1</td>\n      <td>2</td>\n      <td>1599161838</td>\n      <td>[{'itemid': 1841542750, 'offer_count': 3, 'ite...</td>\n      <td>138645657</td>\n      <td>138647481</td>\n      <td>0</td>\n      <td>[{'itemid': 1841542750, 'snapshotid': 19843676...</td>\n    </tr>\n    <tr>\n      <th>4</th>\n      <td></td>\n      <td>1841542750</td>\n      <td>[]</td>\n      <td>1</td>\n      <td>s*****4</td>\n      <td>12896244</td>\n      <td>s*****4</td>\n      <td>None</td>\n      <td>5</td>\n      <td>NaN</td>\n      <td>...</td>\n      <td>1</td>\n      <td>True</td>\n      <td>1</td>\n      <td>2</td>\n      <td>1599142615</td>\n      <td>[{'itemid': 1841542750, 'offer_count': 3, 'ite...</td>\n      <td>4627527</td>\n      <td>4628817</td>\n      <td>0</td>\n      <td>[{'itemid': 1841542750, 'snapshotid': 20073101...</td>\n    </tr>\n    <tr>\n      <th>...</th>\n      <td>...</td>\n      <td>...</td>\n      <td>...</td>\n      <td>...</td>\n      <td>...</td>\n      <td>...</td>\n      <td>...</td>\n      <td>...</td>\n      <td>...</td>\n      <td>...</td>\n      <td>...</td>\n      <td>...</td>\n      <td>...</td>\n      <td>...</td>\n      <td>...</td>\n      <td>...</td>\n      <td>...</td>\n      <td>...</td>\n      <td>...</td>\n      <td>...</td>\n      <td>...</td>\n    </tr>\n    <tr>\n      <th>95</th>\n      <td></td>\n      <td>1841542750</td>\n      <td>[]</td>\n      <td>1</td>\n      <td>s*****8</td>\n      <td>12896244</td>\n      <td>s*****8</td>\n      <td>None</td>\n      <td>4</td>\n      <td>NaN</td>\n      <td>...</td>\n      <td>1</td>\n      <td>True</td>\n      <td>1</td>\n      <td>2</td>\n      <td>1597191162</td>\n      <td>[{'itemid': 1841542750, 'offer_count': 3, 'ite...</td>\n      <td>278558541</td>\n      <td>278563949</td>\n      <td>0</td>\n      <td>[{'itemid': 1841542750, 'snapshotid': 19724798...</td>\n    </tr>\n    <tr>\n      <th>96</th>\n      <td></td>\n      <td>1841542750</td>\n      <td>[]</td>\n      <td>1</td>\n      <td>m*****5</td>\n      <td>12896244</td>\n      <td>m*****5</td>\n      <td>None</td>\n      <td>5</td>\n      <td>NaN</td>\n      <td>...</td>\n      <td>1</td>\n      <td>True</td>\n      <td>1</td>\n      <td>2</td>\n      <td>1597152227</td>\n      <td>[{'itemid': 1841542750, 'offer_count': 3, 'ite...</td>\n      <td>218474935</td>\n      <td>218478895</td>\n      <td>0</td>\n      <td>[{'itemid': 1841542750, 'snapshotid': 19708754...</td>\n    </tr>\n    <tr>\n      <th>97</th>\n      <td>非常好的賣家與商品，舒適好穿，一定再回購，強力推薦！</td>\n      <td>1841542750</td>\n      <td>[]</td>\n      <td>1</td>\n      <td>c*****1</td>\n      <td>12896244</td>\n      <td>c*****1</td>\n      <td>None</td>\n      <td>5</td>\n      <td>NaN</td>\n      <td>...</td>\n      <td>1</td>\n      <td>True</td>\n      <td>1</td>\n      <td>2</td>\n      <td>1597059038</td>\n      <td>[{'itemid': 1841542750, 'offer_count': 3, 'ite...</td>\n      <td>4869975</td>\n      <td>4871265</td>\n      <td>1</td>\n      <td>[{'itemid': 1841542750, 'snapshotid': 19724798...</td>\n    </tr>\n    <tr>\n      <th>98</th>\n      <td></td>\n      <td>1841542750</td>\n      <td>[]</td>\n      <td>1</td>\n      <td>b*****9</td>\n      <td>12896244</td>\n      <td>b*****9</td>\n      <td>None</td>\n      <td>5</td>\n      <td>NaN</td>\n      <td>...</td>\n      <td>1</td>\n      <td>True</td>\n      <td>1</td>\n      <td>2</td>\n      <td>1597037385</td>\n      <td>[{'itemid': 1841542750, 'offer_count': 3, 'ite...</td>\n      <td>2855252</td>\n      <td>2856544</td>\n      <td>0</td>\n      <td>[{'itemid': 1841542750, 'snapshotid': 19724798...</td>\n    </tr>\n    <tr>\n      <th>99</th>\n      <td></td>\n      <td>1841542750</td>\n      <td>[]</td>\n      <td>1</td>\n      <td>i*****6</td>\n      <td>12896244</td>\n      <td>i*****6</td>\n      <td>None</td>\n      <td>5</td>\n      <td>NaN</td>\n      <td>...</td>\n      <td>0</td>\n      <td>True</td>\n      <td>1</td>\n      <td>2</td>\n      <td>1596976083</td>\n      <td>[{'itemid': 1841542750, 'offer_count': 3, 'ite...</td>\n      <td>21176398</td>\n      <td>21177734</td>\n      <td>0</td>\n      <td>[{'itemid': 1841542750, 'snapshotid': 19708754...</td>\n    </tr>\n  </tbody>\n</table>\n<p>100 rows × 40 columns</p>\n</div>"
     },
     "metadata": {},
     "execution_count": 23
    }
   ],
   "source": [
    "# 找到消費者留言不同的資料！\n",
    "userinfo"
   ]
  },
  {
   "cell_type": "code",
   "execution_count": 66,
   "metadata": {},
   "outputs": [
    {
     "output_type": "execute_result",
     "data": {
      "text/plain": "Index(['itemid', 'rating', 'videos', 'username', 'shopid', 'author_name',\n       'show_reply', 'rating_star', 'like_count', 'mtime', 'mentioned',\n       'ItemRatingReply', 'is_hidden', 'author_portrait', 'modelid', 'orderid',\n       'cmtid', 'author_pic', 'editable_date', 'authorid', 'tagids',\n       'user_pic', 'UserRatingReply', 'opt', 'author_username', 'images',\n       'editable', 'anonymous', 'disputable', 'status', 'ctime',\n       'product_items', 'author_shopid', 'userid', 'comment', 'filter',\n       'preview_items', 'tags'],\n      dtype='object')"
     },
     "metadata": {},
     "execution_count": 66
    }
   ],
   "source": [
    "userinfo.columns"
   ]
  },
  {
   "cell_type": "markdown",
   "metadata": {},
   "source": [
    "# 將所有functions整合！ 產出後續分析報表\n",
    "* 先使用request_shopee() 快速取得（一頁）100 個商品的資料\n",
    "* 接著從賣家角度切入，使用goods_detail() 獲取商品文案、SKU、商品Tag\n",
    "* 再使用goods_comments() 來補足消費者購買的資料，即可進入我們後續的分析\n",
    "\n",
    "最後融合在一起！\n",
    "\n"
   ]
  },
  {
   "cell_type": "markdown",
   "metadata": {},
   "source": [
    "## <mark>爬蟲時，請特別注意</mark>\n",
    "爬蟲時，請切記勿用下述程式在同一個網域中「同時」爬取，否則一下子即會被蝦皮阻擋，變成黑名單。"
   ]
  },
  {
   "cell_type": "code",
   "execution_count": 24,
   "metadata": {
    "tags": []
   },
   "outputs": [
    {
     "output_type": "stream",
     "name": "stderr",
     "text": "0%|          | 0/1 [00:00<?, ?it/s]正在爬取商品： 免運  正品代購kissy如吻內衣 女生內衣 無鋼圈內衣 運...\n正在爬取商品： UNDER ARMOUR 安德瑪 UA 女 瑜伽 健身 運動...\n正在爬取商品： 【HER】六月New 寬肩帶背心 高強度健身加寬封腰 聚攏防...\n正在爬取商品： 【居家健身】無痕降溫內衣 日系最新款 第四代V領降溫內衣 無...\n正在爬取商品： 【虧本下殺】Fairy Club網紅爆款可調節搭扣性感美背高...\n正在爬取商品： 新款 防震集中功能 歐美高強度運動內衣 美背U領小露性感 健...\n正在爬取商品： 高強度健身房瑜伽背心式防震跑步 定型減震運動內衣 專業高支撐...\n正在爬取商品： 【碧影運動】易穿脫運動內衣女生跑步高強度防震內衣集中聚攏後四...\n正在爬取商品： 螺紋面英文運動內衣 B13 運動內衣 全罩內衣 吸濕排汗 運...\n正在爬取商品： 大U 修身挖背 無鋼圈內衣背心  V17吊帶 小可愛 可調肩...\n正在爬取商品： ❤️台灣現貨❤️(🎀附發票)獨家銷售破萬件，無壓力莫戴爾內衣...\n正在爬取商品： 螺紋面素色內衣 B12 運動內衣 無痕內衣 瑜珈內衣 素色內...\n正在爬取商品： UNDER ARMOUR 安德瑪 UA 女 瑜伽 健身 運動...\n正在爬取商品： 台灣現貨 2020狂銷熱賣 運動內衣 美背 瑜伽 背釦款 無...\n正在爬取商品： 💜戀愛物語💖日系內衣安心一代 無痕 冰絲 舒適  睡眠內衣 ...\n正在爬取商品： 買十送一優惠中 A001  冰絲無痕內衣 可拆卸胸墊 薄款 ...\n正在爬取商品： 現貨🔥極細交叉長版運動內衣...\n正在爬取商品： 💜限時下殺💖現貨 百搭螺紋裹胸 無感包覆 美背運動無鋼圈 胸...\n正在爬取商品： 前拉鏈運動內衣 運動內衣 美胸內衣 健身內衣 瑜珈內衣 透氣...\n正在爬取商品： 免運費台灣現貨附發票【運動內衣】 也能如此時尚 無痕內衣 女...\n正在爬取商品： [兩件199]  內衣 運動內衣 無痕內衣 薄款 裹胸 純色...\n正在爬取商品： 運動內衣 可外穿 無鋼圈舒適透氣 學生內衣 少女...\n正在爬取商品： Celebity現貨 一件80元 有加大 無痕無鋼圈薄款尚品...\n正在爬取商品： 🌺四千金🌺推薦款👉無鋼圈運動內衣 後扣式超透氣網眼 M~XX...\n正在爬取商品： 免運現貨 日本運動內衣  舒適養護 聚攏防震 冰絲 無縫 無...\n正在爬取商品： A006 有發票 台灣現貨 莫代爾內衣 睡眠內衣 內衣 哺乳...\n正在爬取商品： 現貨 免運 抹胸一片式運動無痕文胸 內衣女生聚攏防震無鋼圈胸...\n正在爬取商品： ❤可調節高強度美背運動內衣❤ 運動內衣 防震瑜伽運動內衣 美...\n正在爬取商品： 安冉 現貨 聚攏定型背心式運動內衣 防震防下垂 女鍛煉跑步寬...\n正在爬取商品： 【品尚】 女生運動背心 超舒適 瑜伽文胸背心 無鋼圈內衣 輕...\n正在爬取商品： 附發票✔️極舒適無痕內衣♥日本無鋼圈一片式睡眠運動集中內衣褲...\n正在爬取商品： 夢幻拉拉♥【現貨促銷】跑步 性感 無鋼圈胸罩 一片式文胸 防...\n正在爬取商品： ADIDAS女 運動內衣 愛迪達文胸  女款 健身 瑜伽 運...\n正在爬取商品： 🌺四千金🌺 運動內衣 U型美背 👍背部䄛空透氣設計，活動罩杯...\n正在爬取商品： Celebity現貨 超高CP 均碼 加大款 透氣 舒適 彈...\n正在爬取商品： 台灣設計監製 完美律動 防擴!!零著感罩杯式無鋼圈運動內衣 ...\n正在爬取商品： 「限時免運 現貨」無痕內衣大尺碼女生無鋼圈防震聚攏胸罩 文胸...\n正在爬取商品： 【Silly優品】（8色）純色細肩帶交叉美背運動內衣瑜伽服女...\n正在爬取商品： 格子舖＊【A003】「台灣出貨附發票」日本安心第四代無痕內衣...\n正在爬取商品： [虧本出售]  內衣套裝 新款韓版運動內衣兩件套裝女文胸聚攏...\n正在爬取商品： 粉紅拉拉【PLG805】前扣+前拉鍊運動內衣 雙層罩杯 加強...\n正在爬取商品： 玉如阿姨 動感狙擊內衣 無痕 無鋼圈 舒適 機能 居家 運動...\n正在爬取商品： 兩款小蕾絲內衣 B10 螺紋內衣 肩帶款內衣 細肩帶內衣 小...\n正在爬取商品： BANG 實拍影片 運動內衣 高防震內衣 前開拉鏈式 無鋼圈...\n正在爬取商品： 時尚性感運動內衣 高強度防震 鏤空美背 固定襯墊胸部不跑動不...\n正在爬取商品： 🔥年末特惠送購物袋🔥正品 耐吉 Nike運動內衣 女文胸 中...\n正在爬取商品： 【日本無痕進化款♥5爪冰絲內衣】手捧式內衣 冰絲涼感無痕內衣...\n正在爬取商品： 前拉鍊 聚攏運動內衣女 高強度防震 瑜伽背心式 速幹跑步健身...\n正在爬取商品： 206-熱銷千件40E不晃動【當天出貨+發票】中強度運動內衣...\n正在爬取商品： 【居家健身】高強度運動防震內衣 U領 可拆卸胸墊 透氣 無鋼...\n正在爬取商品： 🔥台灣現貨🔥「成套附內褲」小胸救星 充氣胸墊 隱形內衣 內衣...\n正在爬取商品： 【現貨-免運費！台灣寄出】超舒適 運動內衣 無鋼圈內衣 健身...\n正在爬取商品： 【網紅爆款】Fairy Club露背性感吊帶運動文胸bra女...\n正在爬取商品： 【現貨-免運費！無鋼圈透氣運動內衣】前拉鍊運動內衣 運動上衣...\n正在爬取商品： 免運【两件装】Varsbaby 無鋼圈內衣 運動內衣 超舒適...\n正在爬取商品： ☆CHIN代購☆Nike Pro Classic Bra 女...\n正在爬取商品： ❤裸空馬卡龍色運動內衣❤ 高強度 一體式胸墊 固定式胸墊 健...\n正在爬取商品： WSB015台灣現貨 運動內衣 韓版 新款 無縫 短版 英文...\n正在爬取商品： 內衣 運動內衣 內衣無鋼圈 性感內衣 流行內衣 大尺碼內衣 ...\n正在爬取商品： 【現貨在台】運動內衣 透氣 舒適 彈性 瑜珈 運動 無痕 無...\n正在爬取商品： 【日本無痕進化款♥5爪冰絲內衣】手捧式內衣 冰絲涼感無痕內衣...\n正在爬取商品： SHOCK ABSORBER EXTREME D+豐滿型運動...\n  0%|          | 0/1 [06:08<?, ?it/s]\n"
    },
    {
     "output_type": "error",
     "ename": "KeyError",
     "evalue": "'model_name'",
     "traceback": [
      "\u001b[0;31m---------------------------------------------------------------------------\u001b[0m",
      "\u001b[0;31mKeyError\u001b[0m                                  Traceback (most recent call last)",
      "\u001b[0;32m~/anaconda3/lib/python3.7/site-packages/pandas/core/indexes/base.py\u001b[0m in \u001b[0;36mget_loc\u001b[0;34m(self, key, method, tolerance)\u001b[0m\n\u001b[1;32m   2645\u001b[0m             \u001b[0;32mtry\u001b[0m\u001b[0;34m:\u001b[0m\u001b[0;34m\u001b[0m\u001b[0;34m\u001b[0m\u001b[0m\n\u001b[0;32m-> 2646\u001b[0;31m                 \u001b[0;32mreturn\u001b[0m \u001b[0mself\u001b[0m\u001b[0;34m.\u001b[0m\u001b[0m_engine\u001b[0m\u001b[0;34m.\u001b[0m\u001b[0mget_loc\u001b[0m\u001b[0;34m(\u001b[0m\u001b[0mkey\u001b[0m\u001b[0;34m)\u001b[0m\u001b[0;34m\u001b[0m\u001b[0;34m\u001b[0m\u001b[0m\n\u001b[0m\u001b[1;32m   2647\u001b[0m             \u001b[0;32mexcept\u001b[0m \u001b[0mKeyError\u001b[0m\u001b[0;34m:\u001b[0m\u001b[0;34m\u001b[0m\u001b[0;34m\u001b[0m\u001b[0m\n",
      "\u001b[0;32mpandas/_libs/index.pyx\u001b[0m in \u001b[0;36mpandas._libs.index.IndexEngine.get_loc\u001b[0;34m()\u001b[0m\n",
      "\u001b[0;32mpandas/_libs/index.pyx\u001b[0m in \u001b[0;36mpandas._libs.index.IndexEngine.get_loc\u001b[0;34m()\u001b[0m\n",
      "\u001b[0;32mpandas/_libs/hashtable_class_helper.pxi\u001b[0m in \u001b[0;36mpandas._libs.hashtable.PyObjectHashTable.get_item\u001b[0;34m()\u001b[0m\n",
      "\u001b[0;32mpandas/_libs/hashtable_class_helper.pxi\u001b[0m in \u001b[0;36mpandas._libs.hashtable.PyObjectHashTable.get_item\u001b[0;34m()\u001b[0m\n",
      "\u001b[0;31mKeyError\u001b[0m: 'model_name'",
      "\nDuring handling of the above exception, another exception occurred:\n",
      "\u001b[0;31mKeyError\u001b[0m                                  Traceback (most recent call last)",
      "\u001b[0;32m<ipython-input-24-100fea1ce89d>\u001b[0m in \u001b[0;36m<module>\u001b[0;34m\u001b[0m\n\u001b[1;32m     40\u001b[0m             \u001b[0mp\u001b[0m\u001b[0;34m=\u001b[0m\u001b[0;34m[\u001b[0m\u001b[0;34m]\u001b[0m\u001b[0;34m\u001b[0m\u001b[0;34m\u001b[0m\u001b[0m\n\u001b[1;32m     41\u001b[0m             \u001b[0;32mfor\u001b[0m \u001b[0mpro\u001b[0m \u001b[0;32min\u001b[0m \u001b[0muser_comment\u001b[0m\u001b[0;34m[\u001b[0m\u001b[0;34m'product_items'\u001b[0m\u001b[0;34m]\u001b[0m\u001b[0;34m:\u001b[0m\u001b[0;34m\u001b[0m\u001b[0;34m\u001b[0m\u001b[0m\n\u001b[0;32m---> 42\u001b[0;31m                 \u001b[0mp\u001b[0m\u001b[0;34m.\u001b[0m\u001b[0mappend\u001b[0m\u001b[0;34m(\u001b[0m\u001b[0mpd\u001b[0m\u001b[0;34m.\u001b[0m\u001b[0mDataFrame\u001b[0m\u001b[0;34m(\u001b[0m\u001b[0mpro\u001b[0m\u001b[0;34m)\u001b[0m\u001b[0;34m[\u001b[0m\u001b[0;34m'model_name'\u001b[0m\u001b[0;34m]\u001b[0m\u001b[0;34m.\u001b[0m\u001b[0mtolist\u001b[0m\u001b[0;34m(\u001b[0m\u001b[0;34m)\u001b[0m\u001b[0;34m)\u001b[0m\u001b[0;34m\u001b[0m\u001b[0;34m\u001b[0m\u001b[0m\n\u001b[0m\u001b[1;32m     43\u001b[0m             \u001b[0;31m# product_SKU.append(p)\u001b[0m\u001b[0;34m\u001b[0m\u001b[0;34m\u001b[0m\u001b[0;34m\u001b[0m\u001b[0m\n\u001b[1;32m     44\u001b[0m \u001b[0;34m\u001b[0m\u001b[0m\n",
      "\u001b[0;32m~/anaconda3/lib/python3.7/site-packages/pandas/core/frame.py\u001b[0m in \u001b[0;36m__getitem__\u001b[0;34m(self, key)\u001b[0m\n\u001b[1;32m   2798\u001b[0m             \u001b[0;32mif\u001b[0m \u001b[0mself\u001b[0m\u001b[0;34m.\u001b[0m\u001b[0mcolumns\u001b[0m\u001b[0;34m.\u001b[0m\u001b[0mnlevels\u001b[0m \u001b[0;34m>\u001b[0m \u001b[0;36m1\u001b[0m\u001b[0;34m:\u001b[0m\u001b[0;34m\u001b[0m\u001b[0;34m\u001b[0m\u001b[0m\n\u001b[1;32m   2799\u001b[0m                 \u001b[0;32mreturn\u001b[0m \u001b[0mself\u001b[0m\u001b[0;34m.\u001b[0m\u001b[0m_getitem_multilevel\u001b[0m\u001b[0;34m(\u001b[0m\u001b[0mkey\u001b[0m\u001b[0;34m)\u001b[0m\u001b[0;34m\u001b[0m\u001b[0;34m\u001b[0m\u001b[0m\n\u001b[0;32m-> 2800\u001b[0;31m             \u001b[0mindexer\u001b[0m \u001b[0;34m=\u001b[0m \u001b[0mself\u001b[0m\u001b[0;34m.\u001b[0m\u001b[0mcolumns\u001b[0m\u001b[0;34m.\u001b[0m\u001b[0mget_loc\u001b[0m\u001b[0;34m(\u001b[0m\u001b[0mkey\u001b[0m\u001b[0;34m)\u001b[0m\u001b[0;34m\u001b[0m\u001b[0;34m\u001b[0m\u001b[0m\n\u001b[0m\u001b[1;32m   2801\u001b[0m             \u001b[0;32mif\u001b[0m \u001b[0mis_integer\u001b[0m\u001b[0;34m(\u001b[0m\u001b[0mindexer\u001b[0m\u001b[0;34m)\u001b[0m\u001b[0;34m:\u001b[0m\u001b[0;34m\u001b[0m\u001b[0;34m\u001b[0m\u001b[0m\n\u001b[1;32m   2802\u001b[0m                 \u001b[0mindexer\u001b[0m \u001b[0;34m=\u001b[0m \u001b[0;34m[\u001b[0m\u001b[0mindexer\u001b[0m\u001b[0;34m]\u001b[0m\u001b[0;34m\u001b[0m\u001b[0;34m\u001b[0m\u001b[0m\n",
      "\u001b[0;32m~/anaconda3/lib/python3.7/site-packages/pandas/core/indexes/base.py\u001b[0m in \u001b[0;36mget_loc\u001b[0;34m(self, key, method, tolerance)\u001b[0m\n\u001b[1;32m   2646\u001b[0m                 \u001b[0;32mreturn\u001b[0m \u001b[0mself\u001b[0m\u001b[0;34m.\u001b[0m\u001b[0m_engine\u001b[0m\u001b[0;34m.\u001b[0m\u001b[0mget_loc\u001b[0m\u001b[0;34m(\u001b[0m\u001b[0mkey\u001b[0m\u001b[0;34m)\u001b[0m\u001b[0;34m\u001b[0m\u001b[0;34m\u001b[0m\u001b[0m\n\u001b[1;32m   2647\u001b[0m             \u001b[0;32mexcept\u001b[0m \u001b[0mKeyError\u001b[0m\u001b[0;34m:\u001b[0m\u001b[0;34m\u001b[0m\u001b[0;34m\u001b[0m\u001b[0m\n\u001b[0;32m-> 2648\u001b[0;31m                 \u001b[0;32mreturn\u001b[0m \u001b[0mself\u001b[0m\u001b[0;34m.\u001b[0m\u001b[0m_engine\u001b[0m\u001b[0;34m.\u001b[0m\u001b[0mget_loc\u001b[0m\u001b[0;34m(\u001b[0m\u001b[0mself\u001b[0m\u001b[0;34m.\u001b[0m\u001b[0m_maybe_cast_indexer\u001b[0m\u001b[0;34m(\u001b[0m\u001b[0mkey\u001b[0m\u001b[0;34m)\u001b[0m\u001b[0;34m)\u001b[0m\u001b[0;34m\u001b[0m\u001b[0;34m\u001b[0m\u001b[0m\n\u001b[0m\u001b[1;32m   2649\u001b[0m         \u001b[0mindexer\u001b[0m \u001b[0;34m=\u001b[0m \u001b[0mself\u001b[0m\u001b[0;34m.\u001b[0m\u001b[0mget_indexer\u001b[0m\u001b[0;34m(\u001b[0m\u001b[0;34m[\u001b[0m\u001b[0mkey\u001b[0m\u001b[0;34m]\u001b[0m\u001b[0;34m,\u001b[0m \u001b[0mmethod\u001b[0m\u001b[0;34m=\u001b[0m\u001b[0mmethod\u001b[0m\u001b[0;34m,\u001b[0m \u001b[0mtolerance\u001b[0m\u001b[0;34m=\u001b[0m\u001b[0mtolerance\u001b[0m\u001b[0;34m)\u001b[0m\u001b[0;34m\u001b[0m\u001b[0;34m\u001b[0m\u001b[0m\n\u001b[1;32m   2650\u001b[0m         \u001b[0;32mif\u001b[0m \u001b[0mindexer\u001b[0m\u001b[0;34m.\u001b[0m\u001b[0mndim\u001b[0m \u001b[0;34m>\u001b[0m \u001b[0;36m1\u001b[0m \u001b[0;32mor\u001b[0m \u001b[0mindexer\u001b[0m\u001b[0;34m.\u001b[0m\u001b[0msize\u001b[0m \u001b[0;34m>\u001b[0m \u001b[0;36m1\u001b[0m\u001b[0;34m:\u001b[0m\u001b[0;34m\u001b[0m\u001b[0;34m\u001b[0m\u001b[0m\n",
      "\u001b[0;32mpandas/_libs/index.pyx\u001b[0m in \u001b[0;36mpandas._libs.index.IndexEngine.get_loc\u001b[0;34m()\u001b[0m\n",
      "\u001b[0;32mpandas/_libs/index.pyx\u001b[0m in \u001b[0;36mpandas._libs.index.IndexEngine.get_loc\u001b[0;34m()\u001b[0m\n",
      "\u001b[0;32mpandas/_libs/hashtable_class_helper.pxi\u001b[0m in \u001b[0;36mpandas._libs.hashtable.PyObjectHashTable.get_item\u001b[0;34m()\u001b[0m\n",
      "\u001b[0;32mpandas/_libs/hashtable_class_helper.pxi\u001b[0m in \u001b[0;36mpandas._libs.hashtable.PyObjectHashTable.get_item\u001b[0;34m()\u001b[0m\n",
      "\u001b[0;31mKeyError\u001b[0m: 'model_name'"
     ]
    }
   ],
   "source": [
    "\n",
    "# 讓我們試爬一頁\n",
    "page = 1\n",
    "# 讓我們試爬一頁\n",
    "container = pd.DataFrame()\n",
    "container_comm = pd.DataFrame()\n",
    "for i in tqdm(range(page)):\n",
    "    commentlist = pd.DataFrame()\n",
    "    articles = []\n",
    "    SKU = []\n",
    "    tags = []\n",
    "    items=pd.DataFrame(request_shopee(keyword='運動內衣', page=i)) #先取得100個產品\n",
    "    \n",
    "    # 查看request_shopee爬下來的資料\n",
    "    items2 = items[['itemid','shopid','name', 'price']]\n",
    "    \n",
    "    \n",
    "    #一個一個產品進去抓\n",
    "    for itemid, shopid, name, price in zip(items['itemid'].tolist(), items['shopid'].tolist(), items['name'].tolist(), items['price'].tolist()):\n",
    "        print('正在爬取商品： ' + name[:30] + '...')\n",
    "        product=goods_detail(item_id = itemid, shop_id = shopid)['item']\n",
    "        \n",
    "        \n",
    "        #取得資料\n",
    "        articles.append(product['description'])\n",
    "        SKU.append(product['models'])\n",
    "        tags.append(product['hashtag_list'])\n",
    "        \n",
    "\n",
    "        #評論詳細資料\n",
    "        iteComment = goods_comments(item_id = itemid, shop_id = shopid)\n",
    "\n",
    "        # 如果有comment再往下抓\n",
    "        if len(iteComment)!=0:\n",
    "\n",
    "            # 將留言資料變成data frame形式\n",
    "            user_comment = pd.DataFrame(iteComment)\n",
    "            \n",
    "            # 抓出細部的sku\n",
    "            product_SKU = []\n",
    "            p=[]\n",
    "            for pro in user_comment['product_items']:\n",
    "                p.append(pd.DataFrame(pro)['model_name'].tolist())\n",
    "            # product_SKU.append(p)\n",
    "\n",
    "            # 將後續所要的欄位抓出，並重新命名\n",
    "            user_comment = user_comment.rename(columns = {\n",
    "                'itemid':'商品ID',\n",
    "                'shopid':'賣家ID',\n",
    "                'userid':'使用者ID',\n",
    "                'ctime':'留言時間',\n",
    "                'is_hidden':'是否隱藏',\n",
    "                'orderid':'訂單編號',\n",
    "                'rating_star':'給星',\n",
    "                'comment':'留言內容',\n",
    "                'product_items':'商品規格'\n",
    "            })\n",
    "\n",
    "            # 將SKU放入\n",
    "            user_comment['商品規格']= p\n",
    "\n",
    "            # 將每一件商品存入\n",
    "            container_comm = pd.concat([container_comm, user_comment], axis= 0)\n",
    "\n",
    "\n",
    "    #做成欄位\n",
    "    items['articles'] = articles\n",
    "    items['SKU'] = SKU\n",
    "    items['hashtag_list'] = tags\n",
    "    \n",
    "    \n",
    "    container = pd.concat([container,items], axis=0)\n",
    "    time.sleep(random.randint(2,5))"
   ]
  },
  {
   "cell_type": "markdown",
   "metadata": {},
   "source": [
    "# 爬取下來的：【原始內文】\n",
    "下面表示的原始留言資料爲爬取蝦皮「原始內文」關鍵字一頁的結果"
   ]
  },
  {
   "cell_type": "code",
   "execution_count": null,
   "metadata": {},
   "outputs": [],
   "source": [
    "container"
   ]
  },
  {
   "cell_type": "code",
   "execution_count": 27,
   "metadata": {},
   "outputs": [],
   "source": [
    "# 內文\n",
    "container.to_csv('蝦皮_' + keyword +'_商品資料.csv', encoding = 'utf-8-sig')   \n"
   ]
  },
  {
   "cell_type": "markdown",
   "metadata": {},
   "source": [
    "# 爬取下來的：【原始留言資料】\n",
    "下面表示的原始留言資料爲爬取蝦皮「運動內衣」關鍵字一頁的結果"
   ]
  },
  {
   "cell_type": "code",
   "execution_count": 28,
   "metadata": {},
   "outputs": [
    {
     "output_type": "execute_result",
     "data": {
      "text/plain": "   留言內容        商品ID videos  rating username      賣家ID author_name show_reply  \\\n0        1841542750     []       1  i*****6  12896244     i*****6       None   \n1        1841542750     []       1  l*****1  12896244     l*****1       None   \n2        1841542750     []       1  l*****0  12896244     l*****0       None   \n3        1841542750     []       1  r*****5  12896244     r*****5       None   \n4        1841542750     []       1  s*****4  12896244     s*****4       None   \n..  ...         ...    ...     ...      ...       ...         ...        ...   \n95       6844948716     []       1  p*****u  20189220     p*****u       None   \n96       6844948716     []       1  k*****1  20189220     k*****1       None   \n97       6844948716     []       1  j*****u  20189220     j*****u       None   \n98       6844948716     []       1  n*****a  20189220     n*****a       None   \n99       6844948716     []       1  d*****1  20189220     d*****1       None   \n\n    給星 like_count  ...  editable anonymous disputable  status        留言時間  \\\n0    5        NaN  ...         1      True          1       2  1599353413   \n1    5        NaN  ...         1      True          1       2  1599282834   \n2    5        NaN  ...         1      True          1       2  1599239180   \n3    5        NaN  ...         1      True          1       2  1599161838   \n4    5        NaN  ...         1      True          1       2  1599142615   \n..  ..        ...  ...       ...       ...        ...     ...         ...   \n95   4        NaN  ...         1      True          1       2  1597245694   \n96   5        NaN  ...         1      True          1       2  1597243227   \n97   5        NaN  ...         1      True          1       2  1597238300   \n98   5        NaN  ...         1      True          1       2  1597228679   \n99   5        NaN  ...         1      True          1       2  1597052978   \n\n                        商品規格  author_shopid      使用者ID filter  \\\n0                [NO.1 深灰/M]      9793574.0    9794871      0   \n1               [NO.1 深灰/XL]     51225929.0   51227317      0   \n2    [NO.3 熒光綠/M, NO.2 黑色/M]      5316262.0    5317556      0   \n3   [NO.2 黑色/XL, NO.1 深灰/XL]    138645657.0  138647481      0   \n4                [NO.2 黑色/S]      4627527.0    4628817      0   \n..                       ...            ...        ...    ...   \n95                    [粉紅 M]    279598765.0  279604333      0   \n96                    [黝黑 M]     76028709.0   76030181      0   \n97              [寶藍 M, 墨綠 M]     79262639.0   79264113      0   \n98       [黝黑 L, 寶藍 XL, 粉紅 L]    103844613.0  103846092      0   \n99                    [寶藍 L]     29134572.0   29135956      0   \n\n                                        preview_items  \n0   [{'itemid': 1841542750, 'snapshotid': 20073101...  \n1   [{'itemid': 1841542750, 'snapshotid': 20073101...  \n2   [{'itemid': 1841542750, 'snapshotid': 19948208...  \n3   [{'itemid': 1841542750, 'snapshotid': 19843676...  \n4   [{'itemid': 1841542750, 'snapshotid': 20073101...  \n..                                                ...  \n95  [{'itemid': 6844948716, 'snapshotid': 19799525...  \n96  [{'itemid': 6844948716, 'snapshotid': 19799525...  \n97  [{'itemid': 6844948716, 'snapshotid': 19799525...  \n98  [{'itemid': 6844948716, 'snapshotid': 19799525...  \n99  [{'itemid': 6844948716, 'snapshotid': 19799525...  \n\n[5052 rows x 40 columns]",
      "text/html": "<div>\n<style scoped>\n    .dataframe tbody tr th:only-of-type {\n        vertical-align: middle;\n    }\n\n    .dataframe tbody tr th {\n        vertical-align: top;\n    }\n\n    .dataframe thead th {\n        text-align: right;\n    }\n</style>\n<table border=\"1\" class=\"dataframe\">\n  <thead>\n    <tr style=\"text-align: right;\">\n      <th></th>\n      <th>留言內容</th>\n      <th>商品ID</th>\n      <th>videos</th>\n      <th>rating</th>\n      <th>username</th>\n      <th>賣家ID</th>\n      <th>author_name</th>\n      <th>show_reply</th>\n      <th>給星</th>\n      <th>like_count</th>\n      <th>...</th>\n      <th>editable</th>\n      <th>anonymous</th>\n      <th>disputable</th>\n      <th>status</th>\n      <th>留言時間</th>\n      <th>商品規格</th>\n      <th>author_shopid</th>\n      <th>使用者ID</th>\n      <th>filter</th>\n      <th>preview_items</th>\n    </tr>\n  </thead>\n  <tbody>\n    <tr>\n      <th>0</th>\n      <td></td>\n      <td>1841542750</td>\n      <td>[]</td>\n      <td>1</td>\n      <td>i*****6</td>\n      <td>12896244</td>\n      <td>i*****6</td>\n      <td>None</td>\n      <td>5</td>\n      <td>NaN</td>\n      <td>...</td>\n      <td>1</td>\n      <td>True</td>\n      <td>1</td>\n      <td>2</td>\n      <td>1599353413</td>\n      <td>[NO.1 深灰/M]</td>\n      <td>9793574.0</td>\n      <td>9794871</td>\n      <td>0</td>\n      <td>[{'itemid': 1841542750, 'snapshotid': 20073101...</td>\n    </tr>\n    <tr>\n      <th>1</th>\n      <td></td>\n      <td>1841542750</td>\n      <td>[]</td>\n      <td>1</td>\n      <td>l*****1</td>\n      <td>12896244</td>\n      <td>l*****1</td>\n      <td>None</td>\n      <td>5</td>\n      <td>NaN</td>\n      <td>...</td>\n      <td>1</td>\n      <td>True</td>\n      <td>1</td>\n      <td>2</td>\n      <td>1599282834</td>\n      <td>[NO.1 深灰/XL]</td>\n      <td>51225929.0</td>\n      <td>51227317</td>\n      <td>0</td>\n      <td>[{'itemid': 1841542750, 'snapshotid': 20073101...</td>\n    </tr>\n    <tr>\n      <th>2</th>\n      <td></td>\n      <td>1841542750</td>\n      <td>[]</td>\n      <td>1</td>\n      <td>l*****0</td>\n      <td>12896244</td>\n      <td>l*****0</td>\n      <td>None</td>\n      <td>5</td>\n      <td>NaN</td>\n      <td>...</td>\n      <td>1</td>\n      <td>True</td>\n      <td>1</td>\n      <td>2</td>\n      <td>1599239180</td>\n      <td>[NO.3 熒光綠/M, NO.2 黑色/M]</td>\n      <td>5316262.0</td>\n      <td>5317556</td>\n      <td>0</td>\n      <td>[{'itemid': 1841542750, 'snapshotid': 19948208...</td>\n    </tr>\n    <tr>\n      <th>3</th>\n      <td></td>\n      <td>1841542750</td>\n      <td>[]</td>\n      <td>1</td>\n      <td>r*****5</td>\n      <td>12896244</td>\n      <td>r*****5</td>\n      <td>None</td>\n      <td>5</td>\n      <td>NaN</td>\n      <td>...</td>\n      <td>1</td>\n      <td>True</td>\n      <td>1</td>\n      <td>2</td>\n      <td>1599161838</td>\n      <td>[NO.2 黑色/XL, NO.1 深灰/XL]</td>\n      <td>138645657.0</td>\n      <td>138647481</td>\n      <td>0</td>\n      <td>[{'itemid': 1841542750, 'snapshotid': 19843676...</td>\n    </tr>\n    <tr>\n      <th>4</th>\n      <td></td>\n      <td>1841542750</td>\n      <td>[]</td>\n      <td>1</td>\n      <td>s*****4</td>\n      <td>12896244</td>\n      <td>s*****4</td>\n      <td>None</td>\n      <td>5</td>\n      <td>NaN</td>\n      <td>...</td>\n      <td>1</td>\n      <td>True</td>\n      <td>1</td>\n      <td>2</td>\n      <td>1599142615</td>\n      <td>[NO.2 黑色/S]</td>\n      <td>4627527.0</td>\n      <td>4628817</td>\n      <td>0</td>\n      <td>[{'itemid': 1841542750, 'snapshotid': 20073101...</td>\n    </tr>\n    <tr>\n      <th>...</th>\n      <td>...</td>\n      <td>...</td>\n      <td>...</td>\n      <td>...</td>\n      <td>...</td>\n      <td>...</td>\n      <td>...</td>\n      <td>...</td>\n      <td>...</td>\n      <td>...</td>\n      <td>...</td>\n      <td>...</td>\n      <td>...</td>\n      <td>...</td>\n      <td>...</td>\n      <td>...</td>\n      <td>...</td>\n      <td>...</td>\n      <td>...</td>\n      <td>...</td>\n      <td>...</td>\n    </tr>\n    <tr>\n      <th>95</th>\n      <td></td>\n      <td>6844948716</td>\n      <td>[]</td>\n      <td>1</td>\n      <td>p*****u</td>\n      <td>20189220</td>\n      <td>p*****u</td>\n      <td>None</td>\n      <td>4</td>\n      <td>NaN</td>\n      <td>...</td>\n      <td>1</td>\n      <td>True</td>\n      <td>1</td>\n      <td>2</td>\n      <td>1597245694</td>\n      <td>[粉紅 M]</td>\n      <td>279598765.0</td>\n      <td>279604333</td>\n      <td>0</td>\n      <td>[{'itemid': 6844948716, 'snapshotid': 19799525...</td>\n    </tr>\n    <tr>\n      <th>96</th>\n      <td></td>\n      <td>6844948716</td>\n      <td>[]</td>\n      <td>1</td>\n      <td>k*****1</td>\n      <td>20189220</td>\n      <td>k*****1</td>\n      <td>None</td>\n      <td>5</td>\n      <td>NaN</td>\n      <td>...</td>\n      <td>1</td>\n      <td>True</td>\n      <td>1</td>\n      <td>2</td>\n      <td>1597243227</td>\n      <td>[黝黑 M]</td>\n      <td>76028709.0</td>\n      <td>76030181</td>\n      <td>0</td>\n      <td>[{'itemid': 6844948716, 'snapshotid': 19799525...</td>\n    </tr>\n    <tr>\n      <th>97</th>\n      <td></td>\n      <td>6844948716</td>\n      <td>[]</td>\n      <td>1</td>\n      <td>j*****u</td>\n      <td>20189220</td>\n      <td>j*****u</td>\n      <td>None</td>\n      <td>5</td>\n      <td>NaN</td>\n      <td>...</td>\n      <td>1</td>\n      <td>True</td>\n      <td>1</td>\n      <td>2</td>\n      <td>1597238300</td>\n      <td>[寶藍 M, 墨綠 M]</td>\n      <td>79262639.0</td>\n      <td>79264113</td>\n      <td>0</td>\n      <td>[{'itemid': 6844948716, 'snapshotid': 19799525...</td>\n    </tr>\n    <tr>\n      <th>98</th>\n      <td></td>\n      <td>6844948716</td>\n      <td>[]</td>\n      <td>1</td>\n      <td>n*****a</td>\n      <td>20189220</td>\n      <td>n*****a</td>\n      <td>None</td>\n      <td>5</td>\n      <td>NaN</td>\n      <td>...</td>\n      <td>1</td>\n      <td>True</td>\n      <td>1</td>\n      <td>2</td>\n      <td>1597228679</td>\n      <td>[黝黑 L, 寶藍 XL, 粉紅 L]</td>\n      <td>103844613.0</td>\n      <td>103846092</td>\n      <td>0</td>\n      <td>[{'itemid': 6844948716, 'snapshotid': 19799525...</td>\n    </tr>\n    <tr>\n      <th>99</th>\n      <td></td>\n      <td>6844948716</td>\n      <td>[]</td>\n      <td>1</td>\n      <td>d*****1</td>\n      <td>20189220</td>\n      <td>d*****1</td>\n      <td>None</td>\n      <td>5</td>\n      <td>NaN</td>\n      <td>...</td>\n      <td>1</td>\n      <td>True</td>\n      <td>1</td>\n      <td>2</td>\n      <td>1597052978</td>\n      <td>[寶藍 L]</td>\n      <td>29134572.0</td>\n      <td>29135956</td>\n      <td>0</td>\n      <td>[{'itemid': 6844948716, 'snapshotid': 19799525...</td>\n    </tr>\n  </tbody>\n</table>\n<p>5052 rows × 40 columns</p>\n</div>"
     },
     "metadata": {},
     "execution_count": 28
    }
   ],
   "source": [
    "container_comm"
   ]
  },
  {
   "cell_type": "code",
   "execution_count": 29,
   "metadata": {},
   "outputs": [],
   "source": [
    "\n",
    "# 評論相關資料\n",
    "container_comm.to_csv('蝦皮_' + keyword +'_留言資料.csv', encoding = 'utf-8-sig')  \n",
    "\n"
   ]
  },
  {
   "cell_type": "markdown",
   "metadata": {},
   "source": [
    "# 下一章節：8-3初探「蝦皮」網站內容\n",
    "- 本章節爬下之原始資料將會在8-3章節進行整理與分析\n",
    "- 瞭解基礎蝦皮資料初探分析\n"
   ]
  }
 ]
}