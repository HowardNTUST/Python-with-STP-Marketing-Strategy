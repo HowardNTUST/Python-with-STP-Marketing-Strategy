{
 "metadata": {
  "language_info": {
   "codemirror_mode": {
    "name": "ipython",
    "version": 3
   },
   "file_extension": ".py",
   "mimetype": "text/x-python",
   "name": "python",
   "nbconvert_exporter": "python",
   "pygments_lexer": "ipython3",
   "version": "3.7.7-final"
  },
  "orig_nbformat": 2,
  "kernelspec": {
   "name": "python_defaultSpec_1599749686055",
   "display_name": "Python 3.7.7 64-bit ('anaconda3': virtualenv)"
  }
 },
 "nbformat": 4,
 "nbformat_minor": 2,
 "cells": [
  {
   "cell_type": "markdown",
   "metadata": {},
   "source": [
    "# STP 行銷策略之 Python 商業應用實戰專書\n",
    "# 章節 8-2 到蝦皮網站爬文\n",
    "\n",
    "- 作者: [鍾皓軒](https://tmrmds.co/about/)與楊超霆\n",
    "- 建議讀者可以配合[STP 行銷策略之 Python 商業應用實戰](https://www.tenlong.com.tw/products/9789865025878?list_name=b-r7-zh_tw)專書的章節 8-2 到蝦皮網站爬文一同參考，效果會更好"
   ]
  },
  {
   "cell_type": "code",
   "execution_count": 1,
   "metadata": {},
   "outputs": [],
   "source": [
    "# 載入必要套件\n",
    "import requests\n",
    "from bs4 import BeautifulSoup\n",
    "import json\n",
    "import pandas as pd\n",
    "import time\n",
    "from tqdm import tqdm\n",
    "import time\n",
    "import re\n",
    "import random\n"
   ]
  },
  {
   "cell_type": "code",
   "execution_count": 2,
   "metadata": {},
   "outputs": [],
   "source": [
    "# 首先設定我們要的關鍵字\n",
    "keyword = '運動內衣'\n",
    "page = 1\n"
   ]
  },
  {
   "cell_type": "code",
   "execution_count": 3,
   "metadata": {},
   "outputs": [],
   "source": [
    "\n",
    "#封包標頭檔\n",
    "my_headers = {'authority' : 'shopee.tw',\n",
    "     'method': 'GET',\n",
    "     'path': '/api/v1/item_detail/?item_id=1147052312&shop_id=17400098',\n",
    "     'scheme': 'https',\n",
    "     'accept': '*/*',\n",
    "     'accept-encoding': 'gzip, deflate, br',\n",
    "     'accept-language': 'zh-TW,zh;q=0.9,en-US;q=0.8,en;q=0.7,ja;q=0.6',\n",
    "     'cookie': '_ga=GA1.2.1087113924.1519696808; SPC_IA=-1; SPC_F=SDsFai6wYMRFvHCNzyBRCvFIp92UnuU3; REC_T_ID=f2be85da-1b61-11e8-a60b-d09466041854; __BWfp=c1519696822183x3c2b15d09; __utmz=88845529.1521362936.1.1.utmcsr=(direct)|utmccn=(direct)|utmcmd=(none); _atrk_siteuid=HEgUlHUKcEXQZWpB; SPC_EC=-; SPC_U=-; SPC_T_ID=\"vBBUETICFqj4EWefxIdZzfzutfKhrgytH2wyevGxiObL3hFEfy0dpQSOM/yFzaGYQLUANrPe7QZ4hqLZotPs72MhLd8aK0qhIwD5fqDrlRs=\"; SPC_T_IV=\"IpxA2sGrOUQhMH4IaolDSA==\"; cto_lwid=2fc9d64c-3cfd-4cf9-9de7-a1516b03ed79; csrftoken=EDL9jQV76T97qmB7PaTPorKtfMlU7eUO; bannerShown=true; _gac_UA-61915057-6=1.1529645767.EAIaIQobChMIwvrkw8bm2wIVkBiPCh2bZAZgEAAYASAAEgIglPD_BwE; _gid=GA1.2.1275115921.1529896103; SPC_SI=2flgu0yh38oo0v2xyzns9a2sk6rz9ou8; __utma=88845529.1087113924.1519696808.1528465088.1529902919.7; __utmc=88845529; appier_utmz=%7B%22csr%22%3A%22(direct)%22%2C%22timestamp%22%3A1529902919%7D; _atrk_sync_cookie=true; _gat=1',\n",
    "     'if-none-match': \"55b03-9ff4fb127aff56426f5ec9022baec594\",\n",
    "     'referer': 'https://shopee.tw/6-9-%F0%9F%87%B0%F0%9F%87%B7%E9%9F%93%E5%9C%8B%E9%80%A3%E7%B7%9A-omg!%E6%96%B0%E8%89%B2%E7%99%BB%E5%A0%B4%F0%9F%94%A5%E4%BA%A4%E5%8F%89%E7%BE%8E%E8%83%8CBra%E5%BD%88%E5%8A%9B%E8%83%8C%E5%BF%83-i.17400098.1147052312',\n",
    "     'user-agent': 'Mozilla/5.0 (X11; Linux x86_64) AppleWebKit/537.36 (KHTML, like Gecko) Chrome/66.0.3359.139 Safari/537.36',\n",
    "     'x-api-source': 'pc',\n",
    "     'x-requested-with': 'XMLHttpRequest'\n",
    "      }   "
   ]
  },
  {
   "cell_type": "markdown",
   "metadata": {},
   "source": [
    "# 請求蝦皮的相關商品基本資料"
   ]
  },
  {
   "cell_type": "code",
   "execution_count": 4,
   "metadata": {},
   "outputs": [],
   "source": [
    "#專門用來請求蝦皮的相關商品基本資料\n",
    "def request_shopee(keyword, page):\n",
    "    url = 'https://shopee.tw/api/v2/search_items/?by=relevancy&keyword=' + keyword + '&limit=100&newest=' + str(page*100) + '&order=desc&page_type=search&version=2'\n",
    "    #開始請求\n",
    "    list_req = requests.get(url,headers = my_headers)\n",
    "    soup = BeautifulSoup(list_req.content, \"html.parser\")\n",
    "    #將扒下來的文字轉成Json\n",
    "    getjson=json.loads(soup.text)\n",
    "    \n",
    "    return getjson['items']\n"
   ]
  },
  {
   "cell_type": "markdown",
   "metadata": {},
   "source": [
    "## 首先設定我們要的關鍵字\n",
    "* keyword = '運動內衣'\n",
    "* page = 0 --> 代表第一頁的意思，會直接爬100項資料\n",
    "* 爬取頁面：讀者可以直接前往本網址 https://shopee.tw/search?keyword=運動內衣&page=1 ，爬得就是本頁的商品id與店家id\n"
   ]
  },
  {
   "cell_type": "code",
   "execution_count": 5,
   "metadata": {},
   "outputs": [],
   "source": [
    "# 使用方法\n",
    "items_json = request_shopee(keyword = '運動內衣', page = 0)\n"
   ]
  },
  {
   "cell_type": "code",
   "execution_count": 6,
   "metadata": {},
   "outputs": [],
   "source": [
    "# 轉換成data frame\n",
    "items=pd.DataFrame(items_json) \n"
   ]
  },
  {
   "cell_type": "code",
   "execution_count": 7,
   "metadata": {},
   "outputs": [
    {
     "output_type": "execute_result",
     "data": {
      "text/plain": "        itemid welcome_package_info  liked recommendation_info  \\\n0   2030613714                 None  False                None   \n1   1155768213                 None  False                None   \n2   1841542750                 None  False                None   \n3   7048070905                 None  False                None   \n4   6844948716                 None  False                None   \n..         ...                  ...    ...                 ...   \n95  1265625063                 None  False                None   \n96  4333428705                 None  False                None   \n97  1369145115                 None  False                None   \n98  7042621559                 None  False                None   \n99  1340426794                 None  False                None   \n\n                                     bundle_deal_info  \\\n0                                                None   \n1                                                None   \n2   {'bundle_deal_id': 2417898, 'bundle_deal_label...   \n3                                                None   \n4                                                None   \n..                                                ...   \n95                                               None   \n96                                               None   \n97                                               None   \n98                                               None   \n99                                               None   \n\n    price_max_before_discount tracking_info                             image  \\\n0                    66500000          None  4b618637968486550fe6824be4c0efc6   \n1                    39900000          None  3916b478d841a96173e64845b1e67c0a   \n2                    75000000          None  efd7edfefcfb28654990cefba5f8a426   \n3                    21500000          None  288ab3037acddc62fe54cfdf998dd719   \n4                    69900000          None  ab4158dacd5b26fa589313ab1f20e3ce   \n..                        ...           ...                               ...   \n95                   29800000          None  29610268fbed1c9ca6779c00402f024b   \n96                   30000000          None  1378e991836eb00b7fa3e2785a86824d   \n97                         -1          None  be0fc55306110ed77765b827f70bef7e   \n98                   51200000          None  e895bdba99449bd4b2d21c396d4f5cdc   \n99                   19900000          None  7276e3e06eb1960cdd9cd99c80c286c3   \n\n   recommendation_algorithm  is_cc_installment_payment_eligible  ...  \\\n0                      None                               False  ...   \n1                      None                               False  ...   \n2                      None                               False  ...   \n3                      None                               False  ...   \n4                      None                               False  ...   \n..                      ...                                 ...  ...   \n95                     None                               False  ...   \n96                     None                               False  ...   \n97                     None                               False  ...   \n98                     None                               False  ...   \n99                     None                               False  ...   \n\n    hidden_price_display                        size_chart item_type  \\\n0                   None  82829d9651ff236aadb43a40dd1a4242         0   \n1                   None  3872fa2124412b8af3e92c300b1a6706         0   \n2                   None  614fbc6397982f5d13e27232cf02b517         0   \n3                   None                              None         0   \n4                   None  8b49ce90385a32939587e3bc39f8872d         0   \n..                   ...                               ...       ...   \n95                  None                              None         0   \n96                  None                              None         0   \n97                  None                              None         0   \n98                  None  3c82ee17a8d54c6ef5498ffacccc6bd2         0   \n99                  None                              None         0   \n\n   shipping_icon_type campaign_stock  \\\n0                None           None   \n1                None           None   \n2                None           None   \n3                None           None   \n4                None           None   \n..                ...            ...   \n95               None           None   \n96               None           None   \n97               None           None   \n98               None           None   \n99               None           None   \n\n                                            label_ids  service_by_shopee_flag  \\\n0   [1000364, 1000381, 1, 1000363, 25, 1000289, 10...                       0   \n1                 [1000028, 16, 1000140, 1000363, 25]                       0   \n2             [23, 1000381, 16, 1000399, 1000197, 25]                       0   \n3                                   [1000140, 16, 25]                       0   \n4                          [16, 1000140, 1000363, 25]                       0   \n..                                                ...                     ...   \n95  [23, 16, 1000197, 1000140, 1000296, 1000279, 1...                       0   \n96  [1000140, 1000328, 1, 25, 1000258, 1000028, 16...                       0   \n97                                                 []                       0   \n98                [16, 1000140, 25, 1000138, 1000040]                       0   \n99  [1000140, 1000363, 25, 1000296, 1000279, 10002...                       0   \n\n   badge_icon_type historical_sold transparent_background_image  \n0                0            1627                               \n1                0            1540                               \n2                0            4983                               \n3                0               9                               \n4                0             490                               \n..             ...             ...                          ...  \n95               0           11250                               \n96               0              53                               \n97               0             251                               \n98               0               4                               \n99               0            6421                               \n\n[100 rows x 83 columns]",
      "text/html": "<div>\n<style scoped>\n    .dataframe tbody tr th:only-of-type {\n        vertical-align: middle;\n    }\n\n    .dataframe tbody tr th {\n        vertical-align: top;\n    }\n\n    .dataframe thead th {\n        text-align: right;\n    }\n</style>\n<table border=\"1\" class=\"dataframe\">\n  <thead>\n    <tr style=\"text-align: right;\">\n      <th></th>\n      <th>itemid</th>\n      <th>welcome_package_info</th>\n      <th>liked</th>\n      <th>recommendation_info</th>\n      <th>bundle_deal_info</th>\n      <th>price_max_before_discount</th>\n      <th>tracking_info</th>\n      <th>image</th>\n      <th>recommendation_algorithm</th>\n      <th>is_cc_installment_payment_eligible</th>\n      <th>...</th>\n      <th>hidden_price_display</th>\n      <th>size_chart</th>\n      <th>item_type</th>\n      <th>shipping_icon_type</th>\n      <th>campaign_stock</th>\n      <th>label_ids</th>\n      <th>service_by_shopee_flag</th>\n      <th>badge_icon_type</th>\n      <th>historical_sold</th>\n      <th>transparent_background_image</th>\n    </tr>\n  </thead>\n  <tbody>\n    <tr>\n      <th>0</th>\n      <td>2030613714</td>\n      <td>None</td>\n      <td>False</td>\n      <td>None</td>\n      <td>None</td>\n      <td>66500000</td>\n      <td>None</td>\n      <td>4b618637968486550fe6824be4c0efc6</td>\n      <td>None</td>\n      <td>False</td>\n      <td>...</td>\n      <td>None</td>\n      <td>82829d9651ff236aadb43a40dd1a4242</td>\n      <td>0</td>\n      <td>None</td>\n      <td>None</td>\n      <td>[1000364, 1000381, 1, 1000363, 25, 1000289, 10...</td>\n      <td>0</td>\n      <td>0</td>\n      <td>1627</td>\n      <td></td>\n    </tr>\n    <tr>\n      <th>1</th>\n      <td>1155768213</td>\n      <td>None</td>\n      <td>False</td>\n      <td>None</td>\n      <td>None</td>\n      <td>39900000</td>\n      <td>None</td>\n      <td>3916b478d841a96173e64845b1e67c0a</td>\n      <td>None</td>\n      <td>False</td>\n      <td>...</td>\n      <td>None</td>\n      <td>3872fa2124412b8af3e92c300b1a6706</td>\n      <td>0</td>\n      <td>None</td>\n      <td>None</td>\n      <td>[1000028, 16, 1000140, 1000363, 25]</td>\n      <td>0</td>\n      <td>0</td>\n      <td>1540</td>\n      <td></td>\n    </tr>\n    <tr>\n      <th>2</th>\n      <td>1841542750</td>\n      <td>None</td>\n      <td>False</td>\n      <td>None</td>\n      <td>{'bundle_deal_id': 2417898, 'bundle_deal_label...</td>\n      <td>75000000</td>\n      <td>None</td>\n      <td>efd7edfefcfb28654990cefba5f8a426</td>\n      <td>None</td>\n      <td>False</td>\n      <td>...</td>\n      <td>None</td>\n      <td>614fbc6397982f5d13e27232cf02b517</td>\n      <td>0</td>\n      <td>None</td>\n      <td>None</td>\n      <td>[23, 1000381, 16, 1000399, 1000197, 25]</td>\n      <td>0</td>\n      <td>0</td>\n      <td>4983</td>\n      <td></td>\n    </tr>\n    <tr>\n      <th>3</th>\n      <td>7048070905</td>\n      <td>None</td>\n      <td>False</td>\n      <td>None</td>\n      <td>None</td>\n      <td>21500000</td>\n      <td>None</td>\n      <td>288ab3037acddc62fe54cfdf998dd719</td>\n      <td>None</td>\n      <td>False</td>\n      <td>...</td>\n      <td>None</td>\n      <td>None</td>\n      <td>0</td>\n      <td>None</td>\n      <td>None</td>\n      <td>[1000140, 16, 25]</td>\n      <td>0</td>\n      <td>0</td>\n      <td>9</td>\n      <td></td>\n    </tr>\n    <tr>\n      <th>4</th>\n      <td>6844948716</td>\n      <td>None</td>\n      <td>False</td>\n      <td>None</td>\n      <td>None</td>\n      <td>69900000</td>\n      <td>None</td>\n      <td>ab4158dacd5b26fa589313ab1f20e3ce</td>\n      <td>None</td>\n      <td>False</td>\n      <td>...</td>\n      <td>None</td>\n      <td>8b49ce90385a32939587e3bc39f8872d</td>\n      <td>0</td>\n      <td>None</td>\n      <td>None</td>\n      <td>[16, 1000140, 1000363, 25]</td>\n      <td>0</td>\n      <td>0</td>\n      <td>490</td>\n      <td></td>\n    </tr>\n    <tr>\n      <th>...</th>\n      <td>...</td>\n      <td>...</td>\n      <td>...</td>\n      <td>...</td>\n      <td>...</td>\n      <td>...</td>\n      <td>...</td>\n      <td>...</td>\n      <td>...</td>\n      <td>...</td>\n      <td>...</td>\n      <td>...</td>\n      <td>...</td>\n      <td>...</td>\n      <td>...</td>\n      <td>...</td>\n      <td>...</td>\n      <td>...</td>\n      <td>...</td>\n      <td>...</td>\n      <td>...</td>\n    </tr>\n    <tr>\n      <th>95</th>\n      <td>1265625063</td>\n      <td>None</td>\n      <td>False</td>\n      <td>None</td>\n      <td>None</td>\n      <td>29800000</td>\n      <td>None</td>\n      <td>29610268fbed1c9ca6779c00402f024b</td>\n      <td>None</td>\n      <td>False</td>\n      <td>...</td>\n      <td>None</td>\n      <td>None</td>\n      <td>0</td>\n      <td>None</td>\n      <td>None</td>\n      <td>[23, 16, 1000197, 1000140, 1000296, 1000279, 1...</td>\n      <td>0</td>\n      <td>0</td>\n      <td>11250</td>\n      <td></td>\n    </tr>\n    <tr>\n      <th>96</th>\n      <td>4333428705</td>\n      <td>None</td>\n      <td>False</td>\n      <td>None</td>\n      <td>None</td>\n      <td>30000000</td>\n      <td>None</td>\n      <td>1378e991836eb00b7fa3e2785a86824d</td>\n      <td>None</td>\n      <td>False</td>\n      <td>...</td>\n      <td>None</td>\n      <td>None</td>\n      <td>0</td>\n      <td>None</td>\n      <td>None</td>\n      <td>[1000140, 1000328, 1, 25, 1000258, 1000028, 16...</td>\n      <td>0</td>\n      <td>0</td>\n      <td>53</td>\n      <td></td>\n    </tr>\n    <tr>\n      <th>97</th>\n      <td>1369145115</td>\n      <td>None</td>\n      <td>False</td>\n      <td>None</td>\n      <td>None</td>\n      <td>-1</td>\n      <td>None</td>\n      <td>be0fc55306110ed77765b827f70bef7e</td>\n      <td>None</td>\n      <td>False</td>\n      <td>...</td>\n      <td>None</td>\n      <td>None</td>\n      <td>0</td>\n      <td>None</td>\n      <td>None</td>\n      <td>[]</td>\n      <td>0</td>\n      <td>0</td>\n      <td>251</td>\n      <td></td>\n    </tr>\n    <tr>\n      <th>98</th>\n      <td>7042621559</td>\n      <td>None</td>\n      <td>False</td>\n      <td>None</td>\n      <td>None</td>\n      <td>51200000</td>\n      <td>None</td>\n      <td>e895bdba99449bd4b2d21c396d4f5cdc</td>\n      <td>None</td>\n      <td>False</td>\n      <td>...</td>\n      <td>None</td>\n      <td>3c82ee17a8d54c6ef5498ffacccc6bd2</td>\n      <td>0</td>\n      <td>None</td>\n      <td>None</td>\n      <td>[16, 1000140, 25, 1000138, 1000040]</td>\n      <td>0</td>\n      <td>0</td>\n      <td>4</td>\n      <td></td>\n    </tr>\n    <tr>\n      <th>99</th>\n      <td>1340426794</td>\n      <td>None</td>\n      <td>False</td>\n      <td>None</td>\n      <td>None</td>\n      <td>19900000</td>\n      <td>None</td>\n      <td>7276e3e06eb1960cdd9cd99c80c286c3</td>\n      <td>None</td>\n      <td>False</td>\n      <td>...</td>\n      <td>None</td>\n      <td>None</td>\n      <td>0</td>\n      <td>None</td>\n      <td>None</td>\n      <td>[1000140, 1000363, 25, 1000296, 1000279, 10002...</td>\n      <td>0</td>\n      <td>0</td>\n      <td>6421</td>\n      <td></td>\n    </tr>\n  </tbody>\n</table>\n<p>100 rows × 83 columns</p>\n</div>"
     },
     "metadata": {},
     "execution_count": 7
    }
   ],
   "source": [
    "items"
   ]
  },
  {
   "cell_type": "code",
   "execution_count": 8,
   "metadata": {},
   "outputs": [],
   "source": [
    "# 取出我們後續要進入每個商品，抓取賣家更細節資料（商品文案、SKU）的欄位\n",
    "items2 = items[['itemid','shopid','name', 'price']]"
   ]
  },
  {
   "cell_type": "code",
   "execution_count": 9,
   "metadata": {},
   "outputs": [
    {
     "output_type": "execute_result",
     "data": {
      "text/plain": "        itemid     shopid                                               name  \\\n0   2030613714      23817  【現貨-免運費！台灣寄出】超舒適 運動內衣 無鋼圈內衣 健身內衣 輕感防震 內衣 全罩內衣 ...   \n1   1155768213   20189220  【現貨-免運費！無鋼圈透氣運動內衣】前拉鍊運動內衣 運動上衣 女運動衣 美背內衣 全罩內衣 ...   \n2   1841542750   12896244              UNDER ARMOUR 安德瑪 UA 女 瑜伽 健身 運動內衣 中強度型   \n3   7048070905   62850908  【居家健身】無痕降溫內衣 日系最新款 第四代V領降溫內衣 無鋼圈內衣 無痕內衣 涼感內衣 內...   \n4   6844948716   20189220  【日本無痕進化款♥5爪冰絲內衣】手捧式內衣 冰絲涼感無痕內衣 無鋼圈 運動內衣 無痕內衣 涼...   \n..         ...        ...                                                ...   \n95  1265625063    6152778  台灣出貨~(現貨秒出!!!) MYMY【BK306】超級好穿!!!冰絲 無鋼圈 細肩帶 運動...   \n96  4333428705   96687611  【運動內衣】 買一送一 無鋼圈 內搭 女生配件 運動款深v內衣 素面款 4色可選 優惠下殺 ...   \n97  1369145115   78131530        Nike 耐吉 運動內衣 健身瑜伽內衣 字母無鋼圈聚攏跑步防震背心式運動文胸 透氣速乾   \n98  7042621559  261888471               【HER】防震運動內衣 女士美背文胸聚攏定型健身跑步背心可外穿透氣瑜伽服   \n99  1340426794      20036  免運費台灣現貨附發票【運動內衣】 也能如此時尚 無痕內衣 女生內衣 睡覺穿 無鋼圈內衣 學生...   \n\n       price  \n0   29900000  \n1   29900000  \n2   28000000  \n3    9900000  \n4   14900000  \n..       ...  \n95  13900000  \n96  15000000  \n97  59900000  \n98  29900000  \n99  13900000  \n\n[100 rows x 4 columns]",
      "text/html": "<div>\n<style scoped>\n    .dataframe tbody tr th:only-of-type {\n        vertical-align: middle;\n    }\n\n    .dataframe tbody tr th {\n        vertical-align: top;\n    }\n\n    .dataframe thead th {\n        text-align: right;\n    }\n</style>\n<table border=\"1\" class=\"dataframe\">\n  <thead>\n    <tr style=\"text-align: right;\">\n      <th></th>\n      <th>itemid</th>\n      <th>shopid</th>\n      <th>name</th>\n      <th>price</th>\n    </tr>\n  </thead>\n  <tbody>\n    <tr>\n      <th>0</th>\n      <td>2030613714</td>\n      <td>23817</td>\n      <td>【現貨-免運費！台灣寄出】超舒適 運動內衣 無鋼圈內衣 健身內衣 輕感防震 內衣 全罩內衣 ...</td>\n      <td>29900000</td>\n    </tr>\n    <tr>\n      <th>1</th>\n      <td>1155768213</td>\n      <td>20189220</td>\n      <td>【現貨-免運費！無鋼圈透氣運動內衣】前拉鍊運動內衣 運動上衣 女運動衣 美背內衣 全罩內衣 ...</td>\n      <td>29900000</td>\n    </tr>\n    <tr>\n      <th>2</th>\n      <td>1841542750</td>\n      <td>12896244</td>\n      <td>UNDER ARMOUR 安德瑪 UA 女 瑜伽 健身 運動內衣 中強度型</td>\n      <td>28000000</td>\n    </tr>\n    <tr>\n      <th>3</th>\n      <td>7048070905</td>\n      <td>62850908</td>\n      <td>【居家健身】無痕降溫內衣 日系最新款 第四代V領降溫內衣 無鋼圈內衣 無痕內衣 涼感內衣 內...</td>\n      <td>9900000</td>\n    </tr>\n    <tr>\n      <th>4</th>\n      <td>6844948716</td>\n      <td>20189220</td>\n      <td>【日本無痕進化款♥5爪冰絲內衣】手捧式內衣 冰絲涼感無痕內衣 無鋼圈 運動內衣 無痕內衣 涼...</td>\n      <td>14900000</td>\n    </tr>\n    <tr>\n      <th>...</th>\n      <td>...</td>\n      <td>...</td>\n      <td>...</td>\n      <td>...</td>\n    </tr>\n    <tr>\n      <th>95</th>\n      <td>1265625063</td>\n      <td>6152778</td>\n      <td>台灣出貨~(現貨秒出!!!) MYMY【BK306】超級好穿!!!冰絲 無鋼圈 細肩帶 運動...</td>\n      <td>13900000</td>\n    </tr>\n    <tr>\n      <th>96</th>\n      <td>4333428705</td>\n      <td>96687611</td>\n      <td>【運動內衣】 買一送一 無鋼圈 內搭 女生配件 運動款深v內衣 素面款 4色可選 優惠下殺 ...</td>\n      <td>15000000</td>\n    </tr>\n    <tr>\n      <th>97</th>\n      <td>1369145115</td>\n      <td>78131530</td>\n      <td>Nike 耐吉 運動內衣 健身瑜伽內衣 字母無鋼圈聚攏跑步防震背心式運動文胸 透氣速乾</td>\n      <td>59900000</td>\n    </tr>\n    <tr>\n      <th>98</th>\n      <td>7042621559</td>\n      <td>261888471</td>\n      <td>【HER】防震運動內衣 女士美背文胸聚攏定型健身跑步背心可外穿透氣瑜伽服</td>\n      <td>29900000</td>\n    </tr>\n    <tr>\n      <th>99</th>\n      <td>1340426794</td>\n      <td>20036</td>\n      <td>免運費台灣現貨附發票【運動內衣】 也能如此時尚 無痕內衣 女生內衣 睡覺穿 無鋼圈內衣 學生...</td>\n      <td>13900000</td>\n    </tr>\n  </tbody>\n</table>\n<p>100 rows × 4 columns</p>\n</div>"
     },
     "metadata": {},
     "execution_count": 9
    }
   ],
   "source": [
    "items2"
   ]
  },
  {
   "cell_type": "markdown",
   "metadata": {},
   "source": [
    "# 抓取<mark>賣家</mark>細節的資料\n",
    "\n",
    "有了上述頁面商家的基本資料（商品ID與商品賣家ID），就可以開始深入每一個商品網頁，抓取欲求資料\n",
    "\n",
    "本處會使用到的goods_detail() 中有兩個必要的參數，分別是\n",
    "* item_id（商品ID）\n",
    "* shop_id（商品賣家ID）\n",
    "都是從request_shopee()的function中取得\n",
    "\n",
    "在原始內容中，這兩個參數都是8 到10 不等的亂數，而兩個數\n",
    "字可以在商品網頁中的網址末端找到，例如：-i.188645964.5015552783，其中\n",
    "shop_id 是188645964；item_id 是5015552783，如下圖最上面的id所示。\n",
    "\n",
    "\n",
    "![](https://imgur.com/fgBT5Rj.png)"
   ]
  },
  {
   "cell_type": "markdown",
   "metadata": {},
   "source": [
    "哈哈～ 順便工商一下\n",
    "\n",
    "# <mark>如果您對相關課程有興趣歡迎點擊查看： </mark>\n",
    "- [台科 EMBA 年年爆滿的一門 Word 課(A系列)](https://hahow.in/cr/tmr-word1)\n",
    "- [台科 EMBA 年年爆滿的一門 Word 課(B+C系列)](https://hahow.in/cr/tmr-word2)\n",
    "\n",
    "\n"
   ]
  },
  {
   "cell_type": "code",
   "execution_count": 10,
   "metadata": {},
   "outputs": [],
   "source": [
    "# 進入每個商品，抓取賣家更細節的資料（商品文案、SKU）\n",
    "def goods_detail(item_id, shop_id):\n",
    "    url = 'https://shopee.tw/api/v2/item/get?itemid=' + str(item_id) + '&shopid=' + str(shop_id)\n",
    "    r = requests.get(url,headers = my_headers)\n",
    "    st= r.text.replace(\"\\\\n\",\"^n\")\n",
    "    st=st.replace(\"\\\\t\",\"^t\")\n",
    "    st=st.replace(\"\\\\r\",\"^r\")\n",
    "    \n",
    "    gj=json.loads(st)\n",
    "    return gj\n"
   ]
  },
  {
   "cell_type": "code",
   "execution_count": 11,
   "metadata": {},
   "outputs": [],
   "source": [
    "#一個一個產品進去抓，但是讓我們先抓第2個來試試看\n",
    "product=goods_detail(item_id = items['itemid'].tolist()[1], shop_id = items['shopid'].tolist()[1])['item']"
   ]
  },
  {
   "cell_type": "code",
   "execution_count": 12,
   "metadata": {},
   "outputs": [],
   "source": [
    "# 讓我們將重要的SKU、articles與tags抓取出來\n",
    "articles = []\n",
    "SKU = []\n",
    "tags = []\n",
    "articles.append(product['description'])\n",
    "SKU.append(product['models'])\n",
    "tags.append(product['hashtag_list'])"
   ]
  },
  {
   "cell_type": "code",
   "execution_count": 13,
   "metadata": {},
   "outputs": [],
   "source": [
    "product = pd.DataFrame({'articles':articles, 'SKU':SKU, 'tags':tags})"
   ]
  },
  {
   "cell_type": "code",
   "execution_count": 14,
   "metadata": {},
   "outputs": [
    {
     "output_type": "execute_result",
     "data": {
      "text/plain": "                                            articles  \\\n0  為保障個人衛生，貼身衣物(如內褲、襪子等貼身衣物)經售出後，請恕無法提供退換服務。^n^n嘟...   \n\n                                                 SKU  tags  \n0  [{'itemid': 1155768213, 'status': 1, 'current_...  None  ",
      "text/html": "<div>\n<style scoped>\n    .dataframe tbody tr th:only-of-type {\n        vertical-align: middle;\n    }\n\n    .dataframe tbody tr th {\n        vertical-align: top;\n    }\n\n    .dataframe thead th {\n        text-align: right;\n    }\n</style>\n<table border=\"1\" class=\"dataframe\">\n  <thead>\n    <tr style=\"text-align: right;\">\n      <th></th>\n      <th>articles</th>\n      <th>SKU</th>\n      <th>tags</th>\n    </tr>\n  </thead>\n  <tbody>\n    <tr>\n      <th>0</th>\n      <td>為保障個人衛生，貼身衣物(如內褲、襪子等貼身衣物)經售出後，請恕無法提供退換服務。^n^n嘟...</td>\n      <td>[{'itemid': 1155768213, 'status': 1, 'current_...</td>\n      <td>None</td>\n    </tr>\n  </tbody>\n</table>\n</div>"
     },
     "metadata": {},
     "execution_count": 14
    }
   ],
   "source": [
    "# 查看product裏面的樣子\n",
    "product"
   ]
  },
  {
   "cell_type": "code",
   "execution_count": 15,
   "metadata": {},
   "outputs": [
    {
     "output_type": "execute_result",
     "data": {
      "text/plain": "{'itemid': 1155768213,\n 'status': 1,\n 'current_promotion_reserved_stock': 0,\n 'name': '【典雅黑】無鋼圈透氣+送彈力髮帶,【Ｓ號】上胸圍31／下圍胸26',\n 'promotionid': 1087506760,\n 'price': 29900000,\n 'price_stocks': [{'model_id': 4863671259,\n   'stockout_time': None,\n   'region': 'TW',\n   'rebate': None,\n   'price': 29900000,\n   'promotion_type': 301,\n   'allocated_stock': None,\n   'shop_id': 20189220,\n   'end_time': 1877610600,\n   'stock_breakdown_by_location': [],\n   'item_id': 1155768213,\n   'promotion_id': 1087506760,\n   'purchase_limit': None,\n   'start_time': 1594301400,\n   'stock': None},\n  {'model_id': 4863671259,\n   'stockout_time': 0,\n   'region': 'TW',\n   'rebate': None,\n   'price': 39900000,\n   'promotion_type': 0,\n   'allocated_stock': None,\n   'shop_id': 20189220,\n   'end_time': None,\n   'stock_breakdown_by_location': [],\n   'item_id': 1155768213,\n   'promotion_id': 0,\n   'purchase_limit': None,\n   'start_time': None,\n   'stock': 9981}],\n 'current_promotion_has_reserve_stock': False,\n 'currency': 'TWD',\n 'normal_stock': 9981,\n 'extinfo': {'seller_promotion_limit': 0,\n  'has_shopee_promo': False,\n  'group_buy_info': None,\n  'holiday_mode_old_stock': None,\n  'tier_index': [0, 0],\n  'seller_promotion_refresh_time': 1877610600},\n 'price_before_discount': 39900000,\n 'modelid': 4863671259,\n 'sold': 42,\n 'stock': 9981}"
     },
     "metadata": {},
     "execution_count": 15
    }
   ],
   "source": [
    "# 抓出第一個SKU的樣子～\n",
    "product['SKU'][0][0]"
   ]
  },
  {
   "cell_type": "markdown",
   "metadata": {},
   "source": [
    "# 爬取<mark>消費者</mark>資料\n",
    "\n",
    "本處使用goods_comments() 來爬取消費者資料，將買家的重要資料給爬取下來，每一列代表一位消費者，其中包含留言內容、商品規格等。"
   ]
  },
  {
   "cell_type": "code",
   "execution_count": 16,
   "metadata": {},
   "outputs": [],
   "source": [
    "# 進入每個商品，抓取買家留言\n",
    "def goods_comments(item_id, shop_id):\n",
    "    url = 'https://shopee.tw/api/v1/comment_list/?item_id='+ str(item_id) + '&shop_id=' + str(shop_id) + '&offset=0&limit=200&flag=1&filter=0'\n",
    "    r = requests.get(url,headers = my_headers)\n",
    "    st= r.text.replace(\"\\\\n\",\"^n\")\n",
    "    st=st.replace(\"\\\\t\",\"^t\")\n",
    "    st=st.replace(\"\\\\r\",\"^r\")\n",
    "    \n",
    "    gj=json.loads(st)\n",
    "    return gj['comments']"
   ]
  },
  {
   "cell_type": "code",
   "execution_count": 17,
   "metadata": {},
   "outputs": [],
   "source": [
    "iteComment = goods_comments(item_id = items['itemid'].tolist()[1], shop_id = items['shopid'].tolist()[1])"
   ]
  },
  {
   "cell_type": "code",
   "execution_count": 18,
   "metadata": {},
   "outputs": [],
   "source": [
    "userinfo = pd.DataFrame(iteComment)"
   ]
  },
  {
   "cell_type": "code",
   "execution_count": 19,
   "metadata": {},
   "outputs": [
    {
     "output_type": "execute_result",
     "data": {
      "text/plain": "            comment  rating videos    shopid      author_name show_reply  \\\n0                         1     []  20189220          l*****4       None   \n1                         1     []  20189220          a*****6       None   \n2                         1     []  20189220          t*****3       None   \n3                         1     []  20189220          a*****7       None   \n4                         1     []  20189220          m*****e       None   \n..              ...     ...    ...       ...              ...        ...   \n95                        1     []  20189220         0628lisa       None   \n96                        1     []  20189220    bonnielin5641       None   \n97                        1     []  20189220          liu5306       None   \n98                        1     []  20189220  samantha1998224       None   \n99  收到了 是第二次回購  很讚        1     []  20189220          a612612       None   \n\n    rating_star  like_count       mtime  \\\n0             4         NaN  1599399355   \n1             5         NaN  1599368938   \n2             5         NaN  1599211622   \n3             5         NaN  1598638016   \n4             5         NaN  1597554718   \n..          ...         ...         ...   \n95            5         NaN  1567590664   \n96            5         NaN  1567495038   \n97            4         NaN  1567485159   \n98            5         NaN  1567341420   \n99            5         1.0  1567268922   \n\n                                               images  ... disputable  \\\n0                                                None  ...          1   \n1                                                None  ...          1   \n2                                                None  ...          1   \n3                                                None  ...          1   \n4                                                None  ...          1   \n..                                                ...  ...        ...   \n95                                               None  ...          1   \n96                                               None  ...          1   \n97                                               None  ...          1   \n98                                               None  ...          1   \n99  [f9166cc1763575eaeb7f8cc45b98234e, 1d454723971...  ...          1   \n\n           username       ctime      itemid  \\\n0           l*****4  1599399355  1155768213   \n1           a*****6  1599368938  1155768213   \n2           t*****3  1599211622  1155768213   \n3           a*****7  1598638016  1155768213   \n4           m*****e  1597554718  1155768213   \n..              ...         ...         ...   \n95         0628lisa  1567590664  1155768213   \n96    bonnielin5641  1567495038  1155768213   \n97          liu5306  1567485159  1155768213   \n98  samantha1998224  1567341420  1155768213   \n99          a612612  1567268922  1155768213   \n\n                                        product_items  author_shopid  \\\n0   [{'itemid': 1155768213, 'offer_count': 0, 'ite...      6398705.0   \n1   [{'itemid': 1155768213, 'offer_count': 0, 'ite...     15231254.0   \n2   [{'itemid': 1155768213, 'offer_count': 0, 'ite...     12547620.0   \n3   [{'itemid': 1155768213, 'offer_count': 0, 'ite...     19268235.0   \n4   [{'itemid': 1155768213, 'offer_count': 0, 'ite...      2943773.0   \n..                                                ...            ...   \n95  [{'itemid': 1155768213, 'offer_count': 0, 'ite...    132537002.0   \n96  [{'itemid': 1155768213, 'offer_count': 0, 'ite...      2738715.0   \n97  [{'itemid': 1155768213, 'offer_count': 0, 'ite...     66426110.0   \n98  [{'itemid': 1155768213, 'offer_count': 0, 'ite...     19995066.0   \n99  [{'itemid': 1155768213, 'offer_count': 0, 'ite...     13713033.0   \n\n       userid filter                                      preview_items  \\\n0     6400017      0  [{'itemid': 2461063535, 'snapshotid': 19301039...   \n1    15232590      0  [{'itemid': 1155768213, 'snapshotid': 20226780...   \n2    12548923      0  [{'itemid': 1155768213, 'snapshotid': 20215627...   \n3    19269571      0  [{'itemid': 1155768213, 'snapshotid': 20131698...   \n4     2945148      0  [{'itemid': 7809760951, 'snapshotid': 19414788...   \n..        ...    ...                                                ...   \n95  132538826      0  [{'itemid': 2461063535, 'snapshotid': 58926459...   \n96    2739997      0  [{'itemid': 1155768213, 'snapshotid': 56846090...   \n97   66427566      0  [{'itemid': 2461063535, 'snapshotid': 58857036...   \n98   19996402      0  [{'itemid': 1155768213, 'snapshotid': 54528962...   \n99   13714336      3  [{'itemid': 1155768213, 'snapshotid': 59244674...   \n\n                                                 tags  \n0                                                 NaN  \n1                                                 NaN  \n2   [{'tag_description': '超讚的出貨速度', 'tag_id': 1}, ...  \n3   [{'tag_description': '超讚的出貨速度', 'tag_id': 1}, ...  \n4                                                 NaN  \n..                                                ...  \n95                                                NaN  \n96                                                NaN  \n97                                                NaN  \n98                                                NaN  \n99  [{'tag_description': '超讚的出貨速度', 'tag_id': 1}, ...  \n\n[100 rows x 40 columns]",
      "text/html": "<div>\n<style scoped>\n    .dataframe tbody tr th:only-of-type {\n        vertical-align: middle;\n    }\n\n    .dataframe tbody tr th {\n        vertical-align: top;\n    }\n\n    .dataframe thead th {\n        text-align: right;\n    }\n</style>\n<table border=\"1\" class=\"dataframe\">\n  <thead>\n    <tr style=\"text-align: right;\">\n      <th></th>\n      <th>comment</th>\n      <th>rating</th>\n      <th>videos</th>\n      <th>shopid</th>\n      <th>author_name</th>\n      <th>show_reply</th>\n      <th>rating_star</th>\n      <th>like_count</th>\n      <th>mtime</th>\n      <th>images</th>\n      <th>...</th>\n      <th>disputable</th>\n      <th>username</th>\n      <th>ctime</th>\n      <th>itemid</th>\n      <th>product_items</th>\n      <th>author_shopid</th>\n      <th>userid</th>\n      <th>filter</th>\n      <th>preview_items</th>\n      <th>tags</th>\n    </tr>\n  </thead>\n  <tbody>\n    <tr>\n      <th>0</th>\n      <td></td>\n      <td>1</td>\n      <td>[]</td>\n      <td>20189220</td>\n      <td>l*****4</td>\n      <td>None</td>\n      <td>4</td>\n      <td>NaN</td>\n      <td>1599399355</td>\n      <td>None</td>\n      <td>...</td>\n      <td>1</td>\n      <td>l*****4</td>\n      <td>1599399355</td>\n      <td>1155768213</td>\n      <td>[{'itemid': 1155768213, 'offer_count': 0, 'ite...</td>\n      <td>6398705.0</td>\n      <td>6400017</td>\n      <td>0</td>\n      <td>[{'itemid': 2461063535, 'snapshotid': 19301039...</td>\n      <td>NaN</td>\n    </tr>\n    <tr>\n      <th>1</th>\n      <td></td>\n      <td>1</td>\n      <td>[]</td>\n      <td>20189220</td>\n      <td>a*****6</td>\n      <td>None</td>\n      <td>5</td>\n      <td>NaN</td>\n      <td>1599368938</td>\n      <td>None</td>\n      <td>...</td>\n      <td>1</td>\n      <td>a*****6</td>\n      <td>1599368938</td>\n      <td>1155768213</td>\n      <td>[{'itemid': 1155768213, 'offer_count': 0, 'ite...</td>\n      <td>15231254.0</td>\n      <td>15232590</td>\n      <td>0</td>\n      <td>[{'itemid': 1155768213, 'snapshotid': 20226780...</td>\n      <td>NaN</td>\n    </tr>\n    <tr>\n      <th>2</th>\n      <td></td>\n      <td>1</td>\n      <td>[]</td>\n      <td>20189220</td>\n      <td>t*****3</td>\n      <td>None</td>\n      <td>5</td>\n      <td>NaN</td>\n      <td>1599211622</td>\n      <td>None</td>\n      <td>...</td>\n      <td>1</td>\n      <td>t*****3</td>\n      <td>1599211622</td>\n      <td>1155768213</td>\n      <td>[{'itemid': 1155768213, 'offer_count': 0, 'ite...</td>\n      <td>12547620.0</td>\n      <td>12548923</td>\n      <td>0</td>\n      <td>[{'itemid': 1155768213, 'snapshotid': 20215627...</td>\n      <td>[{'tag_description': '超讚的出貨速度', 'tag_id': 1}, ...</td>\n    </tr>\n    <tr>\n      <th>3</th>\n      <td></td>\n      <td>1</td>\n      <td>[]</td>\n      <td>20189220</td>\n      <td>a*****7</td>\n      <td>None</td>\n      <td>5</td>\n      <td>NaN</td>\n      <td>1598638016</td>\n      <td>None</td>\n      <td>...</td>\n      <td>1</td>\n      <td>a*****7</td>\n      <td>1598638016</td>\n      <td>1155768213</td>\n      <td>[{'itemid': 1155768213, 'offer_count': 0, 'ite...</td>\n      <td>19268235.0</td>\n      <td>19269571</td>\n      <td>0</td>\n      <td>[{'itemid': 1155768213, 'snapshotid': 20131698...</td>\n      <td>[{'tag_description': '超讚的出貨速度', 'tag_id': 1}, ...</td>\n    </tr>\n    <tr>\n      <th>4</th>\n      <td></td>\n      <td>1</td>\n      <td>[]</td>\n      <td>20189220</td>\n      <td>m*****e</td>\n      <td>None</td>\n      <td>5</td>\n      <td>NaN</td>\n      <td>1597554718</td>\n      <td>None</td>\n      <td>...</td>\n      <td>1</td>\n      <td>m*****e</td>\n      <td>1597554718</td>\n      <td>1155768213</td>\n      <td>[{'itemid': 1155768213, 'offer_count': 0, 'ite...</td>\n      <td>2943773.0</td>\n      <td>2945148</td>\n      <td>0</td>\n      <td>[{'itemid': 7809760951, 'snapshotid': 19414788...</td>\n      <td>NaN</td>\n    </tr>\n    <tr>\n      <th>...</th>\n      <td>...</td>\n      <td>...</td>\n      <td>...</td>\n      <td>...</td>\n      <td>...</td>\n      <td>...</td>\n      <td>...</td>\n      <td>...</td>\n      <td>...</td>\n      <td>...</td>\n      <td>...</td>\n      <td>...</td>\n      <td>...</td>\n      <td>...</td>\n      <td>...</td>\n      <td>...</td>\n      <td>...</td>\n      <td>...</td>\n      <td>...</td>\n      <td>...</td>\n      <td>...</td>\n    </tr>\n    <tr>\n      <th>95</th>\n      <td></td>\n      <td>1</td>\n      <td>[]</td>\n      <td>20189220</td>\n      <td>0628lisa</td>\n      <td>None</td>\n      <td>5</td>\n      <td>NaN</td>\n      <td>1567590664</td>\n      <td>None</td>\n      <td>...</td>\n      <td>1</td>\n      <td>0628lisa</td>\n      <td>1567590664</td>\n      <td>1155768213</td>\n      <td>[{'itemid': 1155768213, 'offer_count': 0, 'ite...</td>\n      <td>132537002.0</td>\n      <td>132538826</td>\n      <td>0</td>\n      <td>[{'itemid': 2461063535, 'snapshotid': 58926459...</td>\n      <td>NaN</td>\n    </tr>\n    <tr>\n      <th>96</th>\n      <td></td>\n      <td>1</td>\n      <td>[]</td>\n      <td>20189220</td>\n      <td>bonnielin5641</td>\n      <td>None</td>\n      <td>5</td>\n      <td>NaN</td>\n      <td>1567495038</td>\n      <td>None</td>\n      <td>...</td>\n      <td>1</td>\n      <td>bonnielin5641</td>\n      <td>1567495038</td>\n      <td>1155768213</td>\n      <td>[{'itemid': 1155768213, 'offer_count': 0, 'ite...</td>\n      <td>2738715.0</td>\n      <td>2739997</td>\n      <td>0</td>\n      <td>[{'itemid': 1155768213, 'snapshotid': 56846090...</td>\n      <td>NaN</td>\n    </tr>\n    <tr>\n      <th>97</th>\n      <td></td>\n      <td>1</td>\n      <td>[]</td>\n      <td>20189220</td>\n      <td>liu5306</td>\n      <td>None</td>\n      <td>4</td>\n      <td>NaN</td>\n      <td>1567485159</td>\n      <td>None</td>\n      <td>...</td>\n      <td>1</td>\n      <td>liu5306</td>\n      <td>1567485159</td>\n      <td>1155768213</td>\n      <td>[{'itemid': 1155768213, 'offer_count': 0, 'ite...</td>\n      <td>66426110.0</td>\n      <td>66427566</td>\n      <td>0</td>\n      <td>[{'itemid': 2461063535, 'snapshotid': 58857036...</td>\n      <td>NaN</td>\n    </tr>\n    <tr>\n      <th>98</th>\n      <td></td>\n      <td>1</td>\n      <td>[]</td>\n      <td>20189220</td>\n      <td>samantha1998224</td>\n      <td>None</td>\n      <td>5</td>\n      <td>NaN</td>\n      <td>1567341420</td>\n      <td>None</td>\n      <td>...</td>\n      <td>1</td>\n      <td>samantha1998224</td>\n      <td>1567341420</td>\n      <td>1155768213</td>\n      <td>[{'itemid': 1155768213, 'offer_count': 0, 'ite...</td>\n      <td>19995066.0</td>\n      <td>19996402</td>\n      <td>0</td>\n      <td>[{'itemid': 1155768213, 'snapshotid': 54528962...</td>\n      <td>NaN</td>\n    </tr>\n    <tr>\n      <th>99</th>\n      <td>收到了 是第二次回購  很讚</td>\n      <td>1</td>\n      <td>[]</td>\n      <td>20189220</td>\n      <td>a612612</td>\n      <td>None</td>\n      <td>5</td>\n      <td>1.0</td>\n      <td>1567268922</td>\n      <td>[f9166cc1763575eaeb7f8cc45b98234e, 1d454723971...</td>\n      <td>...</td>\n      <td>1</td>\n      <td>a612612</td>\n      <td>1567268922</td>\n      <td>1155768213</td>\n      <td>[{'itemid': 1155768213, 'offer_count': 0, 'ite...</td>\n      <td>13713033.0</td>\n      <td>13714336</td>\n      <td>3</td>\n      <td>[{'itemid': 1155768213, 'snapshotid': 59244674...</td>\n      <td>[{'tag_description': '超讚的出貨速度', 'tag_id': 1}, ...</td>\n    </tr>\n  </tbody>\n</table>\n<p>100 rows × 40 columns</p>\n</div>"
     },
     "metadata": {},
     "execution_count": 19
    }
   ],
   "source": [
    "# 找到消費者留言不同的資料！\n",
    "userinfo"
   ]
  },
  {
   "cell_type": "code",
   "execution_count": 20,
   "metadata": {},
   "outputs": [
    {
     "output_type": "execute_result",
     "data": {
      "text/plain": "Index(['comment', 'rating', 'videos', 'shopid', 'author_name', 'show_reply',\n       'rating_star', 'like_count', 'mtime', 'images', 'ItemRatingReply',\n       'is_hidden', 'author_portrait', 'modelid', 'orderid', 'cmtid',\n       'author_pic', 'mentioned', 'exclude_scoring_due_low_logistic',\n       'editable_date', 'authorid', 'opt', 'user_pic', 'detailed_rating',\n       'UserRatingReply', 'status', 'author_username', 'editable', 'tagids',\n       'anonymous', 'disputable', 'username', 'ctime', 'itemid',\n       'product_items', 'author_shopid', 'userid', 'filter', 'preview_items',\n       'tags'],\n      dtype='object')"
     },
     "metadata": {},
     "execution_count": 20
    }
   ],
   "source": [
    "userinfo.columns"
   ]
  },
  {
   "cell_type": "markdown",
   "metadata": {},
   "source": [
    "# 將所有functions整合！ 產出後續分析報表\n",
    "* 先使用request_shopee() 快速取得（一頁）100 個商品的資料\n",
    "* 接著從賣家角度切入，使用goods_detail() 獲取商品文案、SKU、商品Tag\n",
    "* 再使用goods_comments() 來補足消費者購買的資料，即可進入我們後續的分析\n",
    "\n",
    "最後融合在一起！\n",
    "\n"
   ]
  },
  {
   "cell_type": "markdown",
   "metadata": {},
   "source": [
    "## <mark>爬蟲時，請特別注意</mark>\n",
    "爬蟲時，請切記勿用下述程式在同一個網域中「同時」爬取，否則一下子即會被蝦皮阻擋，變成黑名單。"
   ]
  },
  {
   "cell_type": "code",
   "execution_count": 21,
   "metadata": {
    "tags": []
   },
   "outputs": [
    {
     "output_type": "stream",
     "name": "stderr",
     "text": "0%|          | 0/1 [00:00<?, ?it/s]正在爬取商品： 【現貨-免運費！台灣寄出】超舒適 運動內衣 無鋼圈內衣 健身...\n正在爬取商品： 【現貨-免運費！無鋼圈透氣運動內衣】前拉鍊運動內衣 運動上衣...\n正在爬取商品： UNDER ARMOUR 安德瑪 UA 女 瑜伽 健身 運動...\n正在爬取商品： 【居家健身】無痕降溫內衣 日系最新款 第四代V領降溫內衣 無...\n正在爬取商品： 【日本無痕進化款♥5爪冰絲內衣】手捧式內衣 冰絲涼感無痕內衣...\n正在爬取商品： 【現貨-免運費！台灣寄出】超舒適 運動內衣 無鋼圈內衣 健身...\n正在爬取商品： 新款 防震集中功能 歐美高強度運動內衣 美背U領小露性感 健...\n正在爬取商品： 高強度集中防震運動內衣 高品質高質感 舒適好穿 健身房瑜伽跑...\n正在爬取商品： 【碧影運動】易穿脫運動內衣女生跑步高強度防震內衣集中聚攏後四...\n正在爬取商品： 螺紋面英文運動內衣 B13 運動內衣 全罩內衣 吸濕排汗 運...\n正在爬取商品： 大U 修身挖背 無鋼圈內衣背心  V17吊帶 小可愛 可調肩...\n正在爬取商品： 買十送一優惠中 A001  冰絲無痕內衣 可拆卸胸墊 薄款 ...\n正在爬取商品： ❤️台灣現貨❤️(🎀附發票)獨家銷售破萬件，無壓力莫戴爾內衣...\n正在爬取商品： 螺紋面素色內衣 B12 運動內衣 無痕內衣 瑜珈內衣 素色內...\n正在爬取商品： 台灣現貨 2020狂銷熱賣 運動內衣 美背 瑜伽 背釦款 無...\n正在爬取商品： UNDER ARMOUR 安德瑪 UA 女 瑜伽 健身 運動...\n正在爬取商品： 💜戀愛物語💖日系內衣安心一代 無痕 冰絲 舒適  睡眠內衣 ...\n正在爬取商品： 現貨🔥極細交叉長版運動內衣...\n正在爬取商品： 現貨！！無鋼圈無痕冰絲內衣 瑜伽內衣 運動可穿 不束縛...\n正在爬取商品： 💜戀愛物語💖日系安心無痕無鋼圈聚攏舒適大碼跑步背心瑜伽運動內...\n正在爬取商品： 【MOVING PEACH】運動內衣無鋼圈高強度防震跑步重訓...\n正在爬取商品： 免運費台灣現貨附發票【運動內衣】 也能如此時尚 無痕內衣 女...\n正在爬取商品： 【萬芸】下殺價 小可愛傘型內衣 透氣吊帶美背內搭吊帶背心衫女...\n正在爬取商品： 現貨 免運 抹胸一片式運動無痕文胸 內衣女生聚攏防震無鋼圈胸...\n正在爬取商品： 🌺四千金🌺 運動內衣 U型美背 👍背部䄛空透氣設計，活動罩杯...\n正在爬取商品： 附發票✔️極舒適無痕內衣♥日本無鋼圈一片式睡眠運動集中內衣褲...\n正在爬取商品： 【台幹】無痕內衣 冰絲內衣 無鋼圈內衣 運動背心 瑜珈健身慢...\n正在爬取商品： 【台灣現貨】大小姐  虧本甩賣 無痕無鋼圈薄款尚品運動瑜伽背...\n正在爬取商品： Celebity現貨 一件80元 有加大 無痕無鋼圈薄款尚品...\n正在爬取商品： YESWOMEN 少女運動文胸 純色棉發育期小背心式 學生無...\n正在爬取商品： ❤可調節高強度美背運動內衣❤ 運動內衣 防震瑜伽運動內衣 美...\n正在爬取商品： 粉紅拉拉【PLG805】前扣+前拉鍊運動內衣 雙層罩杯 加強...\n正在爬取商品： 安冉 現貨 聚攏定型背心式運動內衣 防震防下垂 女鍛煉跑步寬...\n正在爬取商品： 夢幻拉拉♥【現貨促銷】跑步 性感 無鋼圈胸罩 一片式文胸 防...\n正在爬取商品： 玉如阿姨  祈願愛情內衣 無痕 運動 小胸 低脊心 機能 台...\n正在爬取商品： NIKE耐吉美背運動內衣 收副乳防震胸罩 無鋼圈bra 鏤空...\n正在爬取商品： 【Silly優品】（8色）純色細肩帶交叉美背運動內衣瑜伽服女...\n正在爬取商品： Onedays♥美乳皺摺♥無鋼圈性感透氣交叉無痕美胸內衣👙多...\n正在爬取商品： A006 有發票 台灣現貨 莫代爾內衣 睡眠內衣 內衣 哺乳...\n正在爬取商品： \"KC美國購\" 快速出貨 美國正品 有內襯 Ck Calvi...\n正在爬取商品： 【M-XL加大尺碼】透氣冰絲文胸 一片式無痕無縫 冰絲瑜伽抹...\n正在爬取商品： 🌺四千金🌺B罩杯 舒適運動內衣 無鋼圈棉紗 舒適透氣不悶熱...\n正在爬取商品： 🌱Comeandbuy🙋10色可入 現貨 舒適糖果女內褲內衣...\n正在爬取商品： 純棉無鋼圈 薄款背心式 調整型運動內衣 睡眠內衣 舒適好穿零...\n正在爬取商品： ADIDAS女 運動內衣 愛迪達文胸  女款 健身 瑜伽 運...\n正在爬取商品： 🔥年末特惠送購物袋🔥正品 耐吉 Nike運動內衣 女文胸 中...\n正在爬取商品： 【台灣現貨秒發 高抗震 無鋼圈 運動內衣 送彈性髮帶】可拆胸...\n正在爬取商品： 206-熱銷千件40E不晃動【當天出貨+發票】中強度運動內衣...\n正在爬取商品： 【居家健身】高強度運動防震內衣 U領 可拆卸胸墊 透氣 無鋼...\n正在爬取商品： 台灣出貨~(現貨秒出!!!) MYMY【BK336】好穿!!...\n正在爬取商品： 【網紅爆款】Fairy Club露背性感吊帶運動文胸bra女...\n正在爬取商品： 🌞泰國🇹🇭乳膠排釦內衣 無鋼圈內衣 運動內衣 冰絲內衣 無痕...\n正在爬取商品： 【現貨-免運費！男士塑身背心塑身縮腰】運動背心 男塑身衣 瘦...\n正在爬取商品： 限量聖誕紅!現貨在台🔥KISSY如吻正品 經典款內衣 無鋼圈...\n正在爬取商品： 免運【两件装】Varsbaby 無鋼圈內衣 運動內衣 超舒適...\n正在爬取商品： 玉如阿姨 動感狙擊內衣 無痕 無鋼圈 舒適 機能 居家 運動...\n正在爬取商品： 美背背心 胸墊可拆卸 背心 瑜伽背心運動背心  無痕背心 內...\n正在爬取商品： ☆CHIN代購☆Nike Pro Classic Bra 女...\n正在爬取商品： 內衣 運動內衣 內衣無鋼圈 性感內衣 流行內衣 大尺碼內衣 ...\n正在爬取商品： WSB015台灣現貨 運動內衣 韓版 新款 無縫 短版 英文...\n正在爬取商品： 【日本無痕進化款♥5爪冰絲內衣】手捧式內衣 冰絲涼感無痕內衣...\n正在爬取商品： 運動寬邊純棉質內褲 透氣吸汗 英文字母柔軟三角女士內衣低腰平...\n正在爬取商品： ❤特價~HOT~簡約風字母運動內衣❤ 運動內衣 防震瑜伽運動...\n正在爬取商品： 【台灣現貨】U型美背內衣 輕薄-無鋼圈 無痕內衣 美背Bra...\n正在爬取商品： 【運動美背】易穿脫運動內衣 女生跑步高強度防震內衣 集中聚攏...\n正在爬取商品： 台灣現貨(🎀附發票)❤️NEW莫代爾排三排三釦內衣❤️運動風...\n正在爬取商品： ★520現貨鋪★台灣出貨 運動內衣 工字 挖背 包覆型 運動...\n正在爬取商品： 🔥闆娘實拍🔥超包覆 大U領運動內衣🔥...\n正在爬取商品： 日本降温內衣 冰絲內衣 涼感 舒適養護內衣 聚攏防震 冰絲 ...\n正在爬取商品： 💜限時下殺💖現貨 百搭螺紋裹胸 無感包覆 美背運動無鋼圈 胸...\n正在爬取商品： 520現貨鋪★寬肩 M~3XL 日本無痕內衣 睡眠內衣 無痕...\n正在爬取商品： 現貨24H★短袖★免穿內衣莫代爾棉BAR升級版 外銷日韓 無...\n正在爬取商品： 【台灣現貨】涼感熱銷款  日本無痕運動文胸背心超薄睡眠防外擴...\n正在爬取商品： [現貨+預購］日本新款水滴 無痕內衣 超薄降温内衣 運動內衣...\n正在爬取商品： 限時特賣 免運台灣現貨附發票❤️火辣又讓妳包的住的內衣 【大...\n正在爬取商品： 胖達）NIKE 基本款 訓練 健身 中強度 運動 內衣 89...\n正在爬取商品： 【台灣出貨488免運】BAshop🍭Gucci款經典配色--...\n正在爬取商品： 【 台中BJY】NIKE 女生 運動內衣 BV3704-01...\n正在爬取商品： 「限時免運 現貨」無痕內衣大尺碼女生無鋼圈防震聚攏胸罩 文胸...\n正在爬取商品： 【台灣現貨】 日本sloggi冰絲內衣超薄一片式無鋼圈無痕聚...\n正在爬取商品： 【台灣現貨】大小姐   2017瑜伽健身背心式防震訓練運動文...\n正在爬取商品： 205-性感薄紗透氣【當天出貨+發票】中高強度運動內衣無鋼圈...\n正在爬取商品： 【品尚】 女生運動背心 超舒適 瑜伽文胸背心 無鋼圈內衣 輕...\n正在爬取商品： 柏兒❤️新款 現貨 四級防震 造型運動內衣 美背 MAX防震...\n正在爬取商品： Celebity現貨 超高CP 均碼 加大款 透氣 舒適 彈...\n正在爬取商品： Sdare邪惡視角微裸胸運動內衣 女 運動內衣 運動 健身 ...\n正在爬取商品： 魔法 e 裳《大U露背內衣》3D超彈力 無鋼圈内衣 瑜珈路跑...\n正在爬取商品： 純棉無痕內褲 透氣吸汗 中腰lady少女性感 運動內衣學生女...\n正在爬取商品： 【現貨】萬薇 涼感熱銷款 日本無痕運動文胸背心超薄睡眠防外擴...\n正在爬取商品： 安冉現貨 小胸福音高強度防震運動內衣女背心式跑步聚攏定型瑜伽...\n正在爬取商品： ✔️快速出貨開立發票 🔥| 美國正品🇺🇸 Calvin Kl...\n正在爬取商品： Onedays§聚攏飽乳♥大U無鋼圈手掌杯集中包覆 內衣 背...\n正在爬取商品： 內褲【7598】現貨一片式純色素色純棉舒適內褲女生內褲中低腰...\n正在爬取商品： HOT HONEY 🔥大露背超集中🔥 無痕超集中彈力運動內衣...\n正在爬取商品： 【Silly優品】新款瑜伽運動小背心 裸感親膚背心式含胸墊運...\n正在爬取商品： 台灣出貨~(現貨秒出!!!) MYMY【BK306】超級好穿...\n正在爬取商品： 【運動內衣】 買一送一 無鋼圈 內搭 女生配件 運動款深v內...\n正在爬取商品： Nike 耐吉 運動內衣 健身瑜伽內衣 字母無鋼圈聚攏跑步防...\n正在爬取商品： 【HER】防震運動內衣 女士美背文胸聚攏定型健身跑步背心可外...\n正在爬取商品： 免運費台灣現貨附發票【運動內衣】 也能如此時尚 無痕內衣 女...\n100%|██████████| 1/1 [10:36<00:00, 636.62s/it]\n"
    }
   ],
   "source": [
    "\n",
    "# 讓我們試爬一頁\n",
    "page = 1\n",
    "\n",
    "# 讓我們試爬一頁\n",
    "container = pd.DataFrame()\n",
    "container_comm = pd.DataFrame()\n",
    "for i in tqdm(range(page)):\n",
    "    commentlist = pd.DataFrame()\n",
    "    articles = []\n",
    "    SKU = []\n",
    "    tags = []\n",
    "    items=pd.DataFrame(request_shopee(keyword=keyword, page=i)) #先取得100個產品\n",
    "    \n",
    "    # 查看request_shopee爬下來的資料\n",
    "    items2 = items[['itemid','shopid','name', 'price']]\n",
    "    \n",
    "    \n",
    "    #一個一個產品進去抓\n",
    "    for itemid, shopid, name, price in zip(items['itemid'].tolist(), items['shopid'].tolist(), items['name'].tolist(), items['price'].tolist()):\n",
    "        print('正在爬取商品： ' + name[:30] + '...')\n",
    "        product=goods_detail(item_id = itemid, shop_id = shopid)['item']\n",
    "        \n",
    "        \n",
    "        #取得資料\n",
    "        articles.append(product['description'])\n",
    "        SKU.append(product['models'])\n",
    "        tags.append(product['hashtag_list'])\n",
    "        \n",
    "\n",
    "        #評論詳細資料\n",
    "        iteComment = goods_comments(item_id = itemid, shop_id = shopid)\n",
    "\n",
    "        # 如果有comment再往下抓\n",
    "        if len(iteComment)!=0:\n",
    "\n",
    "            # 將留言資料變成data frame形式\n",
    "            user_comment = pd.DataFrame(iteComment)\n",
    "            \n",
    "            # 抓出細部的sku\n",
    "            product_SKU = []\n",
    "            p=[]\n",
    "            for pro in user_comment['product_items']:\n",
    "                if pd.DataFrame(pro).filter(regex = 'model_name').shape[1] != 0:\n",
    "                    p.append(pd.DataFrame(pro)['model_name'].tolist())\n",
    "                else:\n",
    "                    print('No')\n",
    "                    p.append(None)\n",
    "\n",
    "            # product_SKU.append(p)\n",
    "\n",
    "            # 將後續所要的欄位抓出，並重新命名\n",
    "            user_comment = user_comment.rename(columns = {\n",
    "                'itemid':'商品ID',\n",
    "                'shopid':'賣家ID',\n",
    "                'userid':'使用者ID',\n",
    "                'ctime':'留言時間',\n",
    "                'is_hidden':'是否隱藏',\n",
    "                'orderid':'訂單編號',\n",
    "                'rating_star':'給星',\n",
    "                'comment':'留言內容',\n",
    "                'product_items':'商品規格'\n",
    "            })\n",
    "\n",
    "            # 將SKU放入\n",
    "            user_comment['商品規格']= p\n",
    "\n",
    "            # 將每一件商品存入\n",
    "            container_comm = pd.concat([container_comm, user_comment], axis= 0)\n",
    "\n",
    "\n",
    "    #做成欄位\n",
    "    items['articles'] = articles\n",
    "    items['SKU'] = SKU\n",
    "    items['hashtag_list'] = tags\n",
    "    \n",
    "    \n",
    "    container = pd.concat([container,items], axis=0)\n",
    "    time.sleep(random.randint(3,5))"
   ]
  },
  {
   "cell_type": "markdown",
   "metadata": {},
   "source": [
    "# 爬取下來的：【原始內文】\n",
    "下面表示的原始留言資料爲爬取蝦皮「原始內文」關鍵字一頁的結果"
   ]
  },
  {
   "cell_type": "code",
   "execution_count": 22,
   "metadata": {},
   "outputs": [
    {
     "output_type": "execute_result",
     "data": {
      "text/plain": "        itemid welcome_package_info  liked recommendation_info  \\\n0   2030613714                 None  False                None   \n1   1155768213                 None  False                None   \n2   1841542750                 None  False                None   \n3   7048070905                 None  False                None   \n4   6844948716                 None  False                None   \n..         ...                  ...    ...                 ...   \n95  1265625063                 None  False                None   \n96  4333428705                 None  False                None   \n97  1369145115                 None  False                None   \n98  7042621559                 None  False                None   \n99  1340426794                 None  False                None   \n\n                                     bundle_deal_info  \\\n0                                                None   \n1                                                None   \n2   {'bundle_deal_id': 2417898, 'bundle_deal_label...   \n3                                                None   \n4                                                None   \n..                                                ...   \n95                                               None   \n96                                               None   \n97                                               None   \n98                                               None   \n99                                               None   \n\n    price_max_before_discount tracking_info                             image  \\\n0                    66500000          None  4b618637968486550fe6824be4c0efc6   \n1                    39900000          None  3916b478d841a96173e64845b1e67c0a   \n2                    75000000          None  efd7edfefcfb28654990cefba5f8a426   \n3                    21500000          None  288ab3037acddc62fe54cfdf998dd719   \n4                    69900000          None  ab4158dacd5b26fa589313ab1f20e3ce   \n..                        ...           ...                               ...   \n95                   29800000          None  29610268fbed1c9ca6779c00402f024b   \n96                   30000000          None  1378e991836eb00b7fa3e2785a86824d   \n97                         -1          None  be0fc55306110ed77765b827f70bef7e   \n98                   51200000          None  e895bdba99449bd4b2d21c396d4f5cdc   \n99                   19900000          None  7276e3e06eb1960cdd9cd99c80c286c3   \n\n   recommendation_algorithm  is_cc_installment_payment_eligible  ...  \\\n0                      None                               False  ...   \n1                      None                               False  ...   \n2                      None                               False  ...   \n3                      None                               False  ...   \n4                      None                               False  ...   \n..                      ...                                 ...  ...   \n95                     None                               False  ...   \n96                     None                               False  ...   \n97                     None                               False  ...   \n98                     None                               False  ...   \n99                     None                               False  ...   \n\n    shipping_icon_type  campaign_stock  \\\n0                 None            None   \n1                 None            None   \n2                 None            None   \n3                 None            None   \n4                 None            None   \n..                 ...             ...   \n95                None            None   \n96                None            None   \n97                None            None   \n98                None            None   \n99                None            None   \n\n                                            label_ids service_by_shopee_flag  \\\n0   [1000364, 1000381, 1, 1000363, 25, 1000289, 10...                      0   \n1                 [1000028, 16, 1000140, 1000363, 25]                      0   \n2             [23, 1000381, 16, 1000399, 1000197, 25]                      0   \n3                                   [1000140, 16, 25]                      0   \n4                          [16, 1000140, 1000363, 25]                      0   \n..                                                ...                    ...   \n95  [23, 16, 1000197, 1000140, 1000296, 1000279, 1...                      0   \n96  [1000140, 1000328, 1, 25, 1000258, 1000028, 16...                      0   \n97                                                 []                      0   \n98                [16, 1000140, 25, 1000138, 1000040]                      0   \n99  [1000140, 1000363, 25, 1000296, 1000279, 10002...                      0   \n\n   badge_icon_type  historical_sold  transparent_background_image  \\\n0                0             1627                                 \n1                0             1540                                 \n2                0             4983                                 \n3                0                9                                 \n4                0              490                                 \n..             ...              ...                           ...   \n95               0            11250                                 \n96               0               53                                 \n97               0              251                                 \n98               0                4                                 \n99               0             6421                                 \n\n                                             articles  \\\n0   📣本賣場商品皆有現貨，可直接下標📣^n「在台現貨供應、台灣寄出、免漫長等待」^n２４Ｈ內盡速...   \n1   為保障個人衛生，貼身衣物(如內褲、襪子等貼身衣物)經售出後，請恕無法提供退換服務。^n^n嘟...   \n2   罩杯尺碼表^n尺碼^t上胸圍^t下胸圍^t歐碼罩杯^nS^t78^t68^t70A、70B^...   \n3   還沒出門就先滿身大汗了!!??😰😰😰^n夏天來臨，穿著一般內衣對處在潮濕悶熱的台灣女生來說真...   \n4   ^n為保障個人衛生，貼身衣物(如內褲、襪子等貼身衣物)經售出後，請恕無法提供退換服務。^n▪...   \n..                                                ...   \n95  現貨在台~台北快速出貨唷^^^n內衣褲屬於個人衛生接觸性用品，一旦售出概不退換，下單即表示同...   \n96  ⭕️買一送一 Ｍ碼/L碼出貨為兩件相同尺寸顏色，混碼買一送一為M/L各一件（顏色隨機）⭕️^...   \n97  歡飲光臨“千衣千尋”運動休閒服飾！^n^n^n商品全部100％實物拍攝^n^n海外代購 品質...   \n98  歡迎光臨【HER】賣場^n^n💖商場活動：^n🧧關注就可以獲得滿199台幣減10台幣的好禮喔...   \n99  ❗️為響應環保，節省包材，若訂單商品之金額(不含運費)未滿$100元 無出貨~系統會刪除訂單...   \n\n                                                  SKU hashtag_list  \n0   [{'itemid': 2030613714, 'status': 1, 'current_...         None  \n1   [{'itemid': 1155768213, 'status': 1, 'current_...         None  \n2   [{'itemid': 1841542750, 'status': 1, 'current_...         None  \n3   [{'itemid': 7048070905, 'status': 1, 'current_...         None  \n4   [{'itemid': 6844948716, 'status': 1, 'current_...         None  \n..                                                ...          ...  \n95  [{'itemid': 1265625063, 'status': 1, 'current_...         None  \n96  [{'itemid': 4333428705, 'status': 1, 'current_...         None  \n97  [{'itemid': 1369145115, 'status': 1, 'current_...         None  \n98  [{'itemid': 7042621559, 'status': 1, 'current_...         None  \n99  [{'itemid': 1340426794, 'status': 1, 'current_...         None  \n\n[100 rows x 86 columns]",
      "text/html": "<div>\n<style scoped>\n    .dataframe tbody tr th:only-of-type {\n        vertical-align: middle;\n    }\n\n    .dataframe tbody tr th {\n        vertical-align: top;\n    }\n\n    .dataframe thead th {\n        text-align: right;\n    }\n</style>\n<table border=\"1\" class=\"dataframe\">\n  <thead>\n    <tr style=\"text-align: right;\">\n      <th></th>\n      <th>itemid</th>\n      <th>welcome_package_info</th>\n      <th>liked</th>\n      <th>recommendation_info</th>\n      <th>bundle_deal_info</th>\n      <th>price_max_before_discount</th>\n      <th>tracking_info</th>\n      <th>image</th>\n      <th>recommendation_algorithm</th>\n      <th>is_cc_installment_payment_eligible</th>\n      <th>...</th>\n      <th>shipping_icon_type</th>\n      <th>campaign_stock</th>\n      <th>label_ids</th>\n      <th>service_by_shopee_flag</th>\n      <th>badge_icon_type</th>\n      <th>historical_sold</th>\n      <th>transparent_background_image</th>\n      <th>articles</th>\n      <th>SKU</th>\n      <th>hashtag_list</th>\n    </tr>\n  </thead>\n  <tbody>\n    <tr>\n      <th>0</th>\n      <td>2030613714</td>\n      <td>None</td>\n      <td>False</td>\n      <td>None</td>\n      <td>None</td>\n      <td>66500000</td>\n      <td>None</td>\n      <td>4b618637968486550fe6824be4c0efc6</td>\n      <td>None</td>\n      <td>False</td>\n      <td>...</td>\n      <td>None</td>\n      <td>None</td>\n      <td>[1000364, 1000381, 1, 1000363, 25, 1000289, 10...</td>\n      <td>0</td>\n      <td>0</td>\n      <td>1627</td>\n      <td></td>\n      <td>📣本賣場商品皆有現貨，可直接下標📣^n「在台現貨供應、台灣寄出、免漫長等待」^n２４Ｈ內盡速...</td>\n      <td>[{'itemid': 2030613714, 'status': 1, 'current_...</td>\n      <td>None</td>\n    </tr>\n    <tr>\n      <th>1</th>\n      <td>1155768213</td>\n      <td>None</td>\n      <td>False</td>\n      <td>None</td>\n      <td>None</td>\n      <td>39900000</td>\n      <td>None</td>\n      <td>3916b478d841a96173e64845b1e67c0a</td>\n      <td>None</td>\n      <td>False</td>\n      <td>...</td>\n      <td>None</td>\n      <td>None</td>\n      <td>[1000028, 16, 1000140, 1000363, 25]</td>\n      <td>0</td>\n      <td>0</td>\n      <td>1540</td>\n      <td></td>\n      <td>為保障個人衛生，貼身衣物(如內褲、襪子等貼身衣物)經售出後，請恕無法提供退換服務。^n^n嘟...</td>\n      <td>[{'itemid': 1155768213, 'status': 1, 'current_...</td>\n      <td>None</td>\n    </tr>\n    <tr>\n      <th>2</th>\n      <td>1841542750</td>\n      <td>None</td>\n      <td>False</td>\n      <td>None</td>\n      <td>{'bundle_deal_id': 2417898, 'bundle_deal_label...</td>\n      <td>75000000</td>\n      <td>None</td>\n      <td>efd7edfefcfb28654990cefba5f8a426</td>\n      <td>None</td>\n      <td>False</td>\n      <td>...</td>\n      <td>None</td>\n      <td>None</td>\n      <td>[23, 1000381, 16, 1000399, 1000197, 25]</td>\n      <td>0</td>\n      <td>0</td>\n      <td>4983</td>\n      <td></td>\n      <td>罩杯尺碼表^n尺碼^t上胸圍^t下胸圍^t歐碼罩杯^nS^t78^t68^t70A、70B^...</td>\n      <td>[{'itemid': 1841542750, 'status': 1, 'current_...</td>\n      <td>None</td>\n    </tr>\n    <tr>\n      <th>3</th>\n      <td>7048070905</td>\n      <td>None</td>\n      <td>False</td>\n      <td>None</td>\n      <td>None</td>\n      <td>21500000</td>\n      <td>None</td>\n      <td>288ab3037acddc62fe54cfdf998dd719</td>\n      <td>None</td>\n      <td>False</td>\n      <td>...</td>\n      <td>None</td>\n      <td>None</td>\n      <td>[1000140, 16, 25]</td>\n      <td>0</td>\n      <td>0</td>\n      <td>9</td>\n      <td></td>\n      <td>還沒出門就先滿身大汗了!!??😰😰😰^n夏天來臨，穿著一般內衣對處在潮濕悶熱的台灣女生來說真...</td>\n      <td>[{'itemid': 7048070905, 'status': 1, 'current_...</td>\n      <td>None</td>\n    </tr>\n    <tr>\n      <th>4</th>\n      <td>6844948716</td>\n      <td>None</td>\n      <td>False</td>\n      <td>None</td>\n      <td>None</td>\n      <td>69900000</td>\n      <td>None</td>\n      <td>ab4158dacd5b26fa589313ab1f20e3ce</td>\n      <td>None</td>\n      <td>False</td>\n      <td>...</td>\n      <td>None</td>\n      <td>None</td>\n      <td>[16, 1000140, 1000363, 25]</td>\n      <td>0</td>\n      <td>0</td>\n      <td>490</td>\n      <td></td>\n      <td>^n為保障個人衛生，貼身衣物(如內褲、襪子等貼身衣物)經售出後，請恕無法提供退換服務。^n▪...</td>\n      <td>[{'itemid': 6844948716, 'status': 1, 'current_...</td>\n      <td>None</td>\n    </tr>\n    <tr>\n      <th>...</th>\n      <td>...</td>\n      <td>...</td>\n      <td>...</td>\n      <td>...</td>\n      <td>...</td>\n      <td>...</td>\n      <td>...</td>\n      <td>...</td>\n      <td>...</td>\n      <td>...</td>\n      <td>...</td>\n      <td>...</td>\n      <td>...</td>\n      <td>...</td>\n      <td>...</td>\n      <td>...</td>\n      <td>...</td>\n      <td>...</td>\n      <td>...</td>\n      <td>...</td>\n      <td>...</td>\n    </tr>\n    <tr>\n      <th>95</th>\n      <td>1265625063</td>\n      <td>None</td>\n      <td>False</td>\n      <td>None</td>\n      <td>None</td>\n      <td>29800000</td>\n      <td>None</td>\n      <td>29610268fbed1c9ca6779c00402f024b</td>\n      <td>None</td>\n      <td>False</td>\n      <td>...</td>\n      <td>None</td>\n      <td>None</td>\n      <td>[23, 16, 1000197, 1000140, 1000296, 1000279, 1...</td>\n      <td>0</td>\n      <td>0</td>\n      <td>11250</td>\n      <td></td>\n      <td>現貨在台~台北快速出貨唷^^^n內衣褲屬於個人衛生接觸性用品，一旦售出概不退換，下單即表示同...</td>\n      <td>[{'itemid': 1265625063, 'status': 1, 'current_...</td>\n      <td>None</td>\n    </tr>\n    <tr>\n      <th>96</th>\n      <td>4333428705</td>\n      <td>None</td>\n      <td>False</td>\n      <td>None</td>\n      <td>None</td>\n      <td>30000000</td>\n      <td>None</td>\n      <td>1378e991836eb00b7fa3e2785a86824d</td>\n      <td>None</td>\n      <td>False</td>\n      <td>...</td>\n      <td>None</td>\n      <td>None</td>\n      <td>[1000140, 1000328, 1, 25, 1000258, 1000028, 16...</td>\n      <td>0</td>\n      <td>0</td>\n      <td>53</td>\n      <td></td>\n      <td>⭕️買一送一 Ｍ碼/L碼出貨為兩件相同尺寸顏色，混碼買一送一為M/L各一件（顏色隨機）⭕️^...</td>\n      <td>[{'itemid': 4333428705, 'status': 1, 'current_...</td>\n      <td>None</td>\n    </tr>\n    <tr>\n      <th>97</th>\n      <td>1369145115</td>\n      <td>None</td>\n      <td>False</td>\n      <td>None</td>\n      <td>None</td>\n      <td>-1</td>\n      <td>None</td>\n      <td>be0fc55306110ed77765b827f70bef7e</td>\n      <td>None</td>\n      <td>False</td>\n      <td>...</td>\n      <td>None</td>\n      <td>None</td>\n      <td>[]</td>\n      <td>0</td>\n      <td>0</td>\n      <td>251</td>\n      <td></td>\n      <td>歡飲光臨“千衣千尋”運動休閒服飾！^n^n^n商品全部100％實物拍攝^n^n海外代購 品質...</td>\n      <td>[{'itemid': 1369145115, 'status': 1, 'current_...</td>\n      <td>None</td>\n    </tr>\n    <tr>\n      <th>98</th>\n      <td>7042621559</td>\n      <td>None</td>\n      <td>False</td>\n      <td>None</td>\n      <td>None</td>\n      <td>51200000</td>\n      <td>None</td>\n      <td>e895bdba99449bd4b2d21c396d4f5cdc</td>\n      <td>None</td>\n      <td>False</td>\n      <td>...</td>\n      <td>None</td>\n      <td>None</td>\n      <td>[16, 1000140, 25, 1000138, 1000040]</td>\n      <td>0</td>\n      <td>0</td>\n      <td>4</td>\n      <td></td>\n      <td>歡迎光臨【HER】賣場^n^n💖商場活動：^n🧧關注就可以獲得滿199台幣減10台幣的好禮喔...</td>\n      <td>[{'itemid': 7042621559, 'status': 1, 'current_...</td>\n      <td>None</td>\n    </tr>\n    <tr>\n      <th>99</th>\n      <td>1340426794</td>\n      <td>None</td>\n      <td>False</td>\n      <td>None</td>\n      <td>None</td>\n      <td>19900000</td>\n      <td>None</td>\n      <td>7276e3e06eb1960cdd9cd99c80c286c3</td>\n      <td>None</td>\n      <td>False</td>\n      <td>...</td>\n      <td>None</td>\n      <td>None</td>\n      <td>[1000140, 1000363, 25, 1000296, 1000279, 10002...</td>\n      <td>0</td>\n      <td>0</td>\n      <td>6421</td>\n      <td></td>\n      <td>❗️為響應環保，節省包材，若訂單商品之金額(不含運費)未滿$100元 無出貨~系統會刪除訂單...</td>\n      <td>[{'itemid': 1340426794, 'status': 1, 'current_...</td>\n      <td>None</td>\n    </tr>\n  </tbody>\n</table>\n<p>100 rows × 86 columns</p>\n</div>"
     },
     "metadata": {},
     "execution_count": 22
    }
   ],
   "source": [
    "container"
   ]
  },
  {
   "cell_type": "code",
   "execution_count": 23,
   "metadata": {},
   "outputs": [],
   "source": [
    "# 內文\n",
    "container.to_csv('蝦皮_' + keyword +'_商品資料.csv', encoding = 'utf-8-sig')   \n"
   ]
  },
  {
   "cell_type": "markdown",
   "metadata": {},
   "source": [
    "# 爬取下來的：【原始留言資料】\n",
    "下面表示的原始留言資料爲爬取蝦皮「運動內衣」關鍵字一頁的結果"
   ]
  },
  {
   "cell_type": "code",
   "execution_count": 24,
   "metadata": {},
   "outputs": [
    {
     "output_type": "execute_result",
     "data": {
      "text/plain": "                                     留言內容  rating videos   賣家ID author_name  \\\n0                                               1     []  23817     p*****2   \n1                                   沒有很好穿      -1     []  23817     q*****q   \n2                                               1     []  23817     i*****7   \n3                                               1     []  23817     m*****3   \n4   超級好穿 所以又再回購 大推 前面的拉鍊超級方便 喜歡運動的女孩可以試試看       1     []  23817     i*****0   \n..                                    ...     ...    ...    ...         ...   \n95                                              1     []  20036     k*****9   \n96                                              1     []  20036     l*****w   \n97                                              1     []  20036     l*****5   \n98                    稍緊。但穿的還是舒服 摸的質感上也很好       1     []  20036     w*****u   \n99                                              1     []  20036     l*****0   \n\n   show_reply  給星 like_count       mtime                              images  \\\n0        None   5       None  1599733096                                None   \n1        None   1       None  1599621376                                None   \n2        None   5       None  1599486380                                None   \n3        None   5       None  1599369811                                None   \n4        None   5       None  1599102754  [9c31ea332f991d4bf9f9789340def5a0]   \n..        ...  ..        ...         ...                                 ...   \n95       None   5        NaN  1597027227                                None   \n96       None   5        NaN  1596991722                                None   \n97       None   5        NaN  1596982883                                None   \n98       None   5        NaN  1596974030                                None   \n99       None   5        NaN  1596959709                                None   \n\n    ... anonymous  disputable username        留言時間        商品ID  \\\n0   ...      True           1  p*****2  1599733096  2030613714   \n1   ...      True           1  q*****q  1599621376  2030613714   \n2   ...      True           1  i*****7  1599486380  2030613714   \n3   ...      True           1  m*****3  1599369811  2030613714   \n4   ...      True           1  i*****0  1599102754  2030613714   \n..  ...       ...         ...      ...         ...         ...   \n95  ...      True           1  k*****9  1597027227  1340426794   \n96  ...      True           1  l*****w  1596991722  1340426794   \n97  ...      True           1  l*****5  1596982883  1340426794   \n98  ...      True           1  w*****u  1596974030  1340426794   \n99  ...      True           1  l*****0  1596959709  1340426794   \n\n                   商品規格 author_shopid      使用者ID  filter  \\\n0                 [黑-L]    25409362.0   25410698       0   \n1                 [灰-L]   288155377.0  288174537       1   \n2                 [黑-S]     7145486.0    7146779       0   \n3          [灰-XL, 黑-XL]     9954177.0    9955474       0   \n4                 [黑-M]    90952569.0   90954047       3   \n..                  ...           ...        ...     ...   \n95     [水粉色,XL, 棗紅色,XL]     1657666.0    1658873       0   \n96      [藍色,XL, 黑灰色,XL]    39261009.0   39262395       0   \n97  [黑色,L, 藍色,L, 黑灰色,L]    12568529.0   12569832       0   \n98              [黑灰色,M]   159492376.0  159494416       1   \n99        [黑色,S, 黑灰色,S]    69248194.0   69249652       0   \n\n                                        preview_items  \n0   [{'itemid': 2751008384, 'snapshotid': 19874793...  \n1   [{'itemid': 2030613714, 'snapshotid': 20084432...  \n2   [{'itemid': 7602762912, 'snapshotid': 19852984...  \n3   [{'itemid': 2030613714, 'snapshotid': 20084432...  \n4   [{'itemid': 2030613714, 'snapshotid': 20084432...  \n..                                                ...  \n95  [{'itemid': 1340426794, 'snapshotid': 19722656...  \n96  [{'itemid': 1340426794, 'snapshotid': 19722656...  \n97  [{'itemid': 1340426794, 'snapshotid': 19722656...  \n98  [{'itemid': 1340426794, 'snapshotid': 19722656...  \n99  [{'itemid': 1340426794, 'snapshotid': 19722656...  \n\n[8467 rows x 40 columns]",
      "text/html": "<div>\n<style scoped>\n    .dataframe tbody tr th:only-of-type {\n        vertical-align: middle;\n    }\n\n    .dataframe tbody tr th {\n        vertical-align: top;\n    }\n\n    .dataframe thead th {\n        text-align: right;\n    }\n</style>\n<table border=\"1\" class=\"dataframe\">\n  <thead>\n    <tr style=\"text-align: right;\">\n      <th></th>\n      <th>留言內容</th>\n      <th>rating</th>\n      <th>videos</th>\n      <th>賣家ID</th>\n      <th>author_name</th>\n      <th>show_reply</th>\n      <th>給星</th>\n      <th>like_count</th>\n      <th>mtime</th>\n      <th>images</th>\n      <th>...</th>\n      <th>anonymous</th>\n      <th>disputable</th>\n      <th>username</th>\n      <th>留言時間</th>\n      <th>商品ID</th>\n      <th>商品規格</th>\n      <th>author_shopid</th>\n      <th>使用者ID</th>\n      <th>filter</th>\n      <th>preview_items</th>\n    </tr>\n  </thead>\n  <tbody>\n    <tr>\n      <th>0</th>\n      <td></td>\n      <td>1</td>\n      <td>[]</td>\n      <td>23817</td>\n      <td>p*****2</td>\n      <td>None</td>\n      <td>5</td>\n      <td>None</td>\n      <td>1599733096</td>\n      <td>None</td>\n      <td>...</td>\n      <td>True</td>\n      <td>1</td>\n      <td>p*****2</td>\n      <td>1599733096</td>\n      <td>2030613714</td>\n      <td>[黑-L]</td>\n      <td>25409362.0</td>\n      <td>25410698</td>\n      <td>0</td>\n      <td>[{'itemid': 2751008384, 'snapshotid': 19874793...</td>\n    </tr>\n    <tr>\n      <th>1</th>\n      <td>沒有很好穿</td>\n      <td>-1</td>\n      <td>[]</td>\n      <td>23817</td>\n      <td>q*****q</td>\n      <td>None</td>\n      <td>1</td>\n      <td>None</td>\n      <td>1599621376</td>\n      <td>None</td>\n      <td>...</td>\n      <td>True</td>\n      <td>1</td>\n      <td>q*****q</td>\n      <td>1599621376</td>\n      <td>2030613714</td>\n      <td>[灰-L]</td>\n      <td>288155377.0</td>\n      <td>288174537</td>\n      <td>1</td>\n      <td>[{'itemid': 2030613714, 'snapshotid': 20084432...</td>\n    </tr>\n    <tr>\n      <th>2</th>\n      <td></td>\n      <td>1</td>\n      <td>[]</td>\n      <td>23817</td>\n      <td>i*****7</td>\n      <td>None</td>\n      <td>5</td>\n      <td>None</td>\n      <td>1599486380</td>\n      <td>None</td>\n      <td>...</td>\n      <td>True</td>\n      <td>1</td>\n      <td>i*****7</td>\n      <td>1599486380</td>\n      <td>2030613714</td>\n      <td>[黑-S]</td>\n      <td>7145486.0</td>\n      <td>7146779</td>\n      <td>0</td>\n      <td>[{'itemid': 7602762912, 'snapshotid': 19852984...</td>\n    </tr>\n    <tr>\n      <th>3</th>\n      <td></td>\n      <td>1</td>\n      <td>[]</td>\n      <td>23817</td>\n      <td>m*****3</td>\n      <td>None</td>\n      <td>5</td>\n      <td>None</td>\n      <td>1599369811</td>\n      <td>None</td>\n      <td>...</td>\n      <td>True</td>\n      <td>1</td>\n      <td>m*****3</td>\n      <td>1599369811</td>\n      <td>2030613714</td>\n      <td>[灰-XL, 黑-XL]</td>\n      <td>9954177.0</td>\n      <td>9955474</td>\n      <td>0</td>\n      <td>[{'itemid': 2030613714, 'snapshotid': 20084432...</td>\n    </tr>\n    <tr>\n      <th>4</th>\n      <td>超級好穿 所以又再回購 大推 前面的拉鍊超級方便 喜歡運動的女孩可以試試看</td>\n      <td>1</td>\n      <td>[]</td>\n      <td>23817</td>\n      <td>i*****0</td>\n      <td>None</td>\n      <td>5</td>\n      <td>None</td>\n      <td>1599102754</td>\n      <td>[9c31ea332f991d4bf9f9789340def5a0]</td>\n      <td>...</td>\n      <td>True</td>\n      <td>1</td>\n      <td>i*****0</td>\n      <td>1599102754</td>\n      <td>2030613714</td>\n      <td>[黑-M]</td>\n      <td>90952569.0</td>\n      <td>90954047</td>\n      <td>3</td>\n      <td>[{'itemid': 2030613714, 'snapshotid': 20084432...</td>\n    </tr>\n    <tr>\n      <th>...</th>\n      <td>...</td>\n      <td>...</td>\n      <td>...</td>\n      <td>...</td>\n      <td>...</td>\n      <td>...</td>\n      <td>...</td>\n      <td>...</td>\n      <td>...</td>\n      <td>...</td>\n      <td>...</td>\n      <td>...</td>\n      <td>...</td>\n      <td>...</td>\n      <td>...</td>\n      <td>...</td>\n      <td>...</td>\n      <td>...</td>\n      <td>...</td>\n      <td>...</td>\n      <td>...</td>\n    </tr>\n    <tr>\n      <th>95</th>\n      <td></td>\n      <td>1</td>\n      <td>[]</td>\n      <td>20036</td>\n      <td>k*****9</td>\n      <td>None</td>\n      <td>5</td>\n      <td>NaN</td>\n      <td>1597027227</td>\n      <td>None</td>\n      <td>...</td>\n      <td>True</td>\n      <td>1</td>\n      <td>k*****9</td>\n      <td>1597027227</td>\n      <td>1340426794</td>\n      <td>[水粉色,XL, 棗紅色,XL]</td>\n      <td>1657666.0</td>\n      <td>1658873</td>\n      <td>0</td>\n      <td>[{'itemid': 1340426794, 'snapshotid': 19722656...</td>\n    </tr>\n    <tr>\n      <th>96</th>\n      <td></td>\n      <td>1</td>\n      <td>[]</td>\n      <td>20036</td>\n      <td>l*****w</td>\n      <td>None</td>\n      <td>5</td>\n      <td>NaN</td>\n      <td>1596991722</td>\n      <td>None</td>\n      <td>...</td>\n      <td>True</td>\n      <td>1</td>\n      <td>l*****w</td>\n      <td>1596991722</td>\n      <td>1340426794</td>\n      <td>[藍色,XL, 黑灰色,XL]</td>\n      <td>39261009.0</td>\n      <td>39262395</td>\n      <td>0</td>\n      <td>[{'itemid': 1340426794, 'snapshotid': 19722656...</td>\n    </tr>\n    <tr>\n      <th>97</th>\n      <td></td>\n      <td>1</td>\n      <td>[]</td>\n      <td>20036</td>\n      <td>l*****5</td>\n      <td>None</td>\n      <td>5</td>\n      <td>NaN</td>\n      <td>1596982883</td>\n      <td>None</td>\n      <td>...</td>\n      <td>True</td>\n      <td>1</td>\n      <td>l*****5</td>\n      <td>1596982883</td>\n      <td>1340426794</td>\n      <td>[黑色,L, 藍色,L, 黑灰色,L]</td>\n      <td>12568529.0</td>\n      <td>12569832</td>\n      <td>0</td>\n      <td>[{'itemid': 1340426794, 'snapshotid': 19722656...</td>\n    </tr>\n    <tr>\n      <th>98</th>\n      <td>稍緊。但穿的還是舒服 摸的質感上也很好</td>\n      <td>1</td>\n      <td>[]</td>\n      <td>20036</td>\n      <td>w*****u</td>\n      <td>None</td>\n      <td>5</td>\n      <td>NaN</td>\n      <td>1596974030</td>\n      <td>None</td>\n      <td>...</td>\n      <td>True</td>\n      <td>1</td>\n      <td>w*****u</td>\n      <td>1596974030</td>\n      <td>1340426794</td>\n      <td>[黑灰色,M]</td>\n      <td>159492376.0</td>\n      <td>159494416</td>\n      <td>1</td>\n      <td>[{'itemid': 1340426794, 'snapshotid': 19722656...</td>\n    </tr>\n    <tr>\n      <th>99</th>\n      <td></td>\n      <td>1</td>\n      <td>[]</td>\n      <td>20036</td>\n      <td>l*****0</td>\n      <td>None</td>\n      <td>5</td>\n      <td>NaN</td>\n      <td>1596959709</td>\n      <td>None</td>\n      <td>...</td>\n      <td>True</td>\n      <td>1</td>\n      <td>l*****0</td>\n      <td>1596959709</td>\n      <td>1340426794</td>\n      <td>[黑色,S, 黑灰色,S]</td>\n      <td>69248194.0</td>\n      <td>69249652</td>\n      <td>0</td>\n      <td>[{'itemid': 1340426794, 'snapshotid': 19722656...</td>\n    </tr>\n  </tbody>\n</table>\n<p>8467 rows × 40 columns</p>\n</div>"
     },
     "metadata": {},
     "execution_count": 24
    }
   ],
   "source": [
    "container_comm"
   ]
  },
  {
   "cell_type": "code",
   "execution_count": 25,
   "metadata": {},
   "outputs": [],
   "source": [
    "\n",
    "# 評論相關資料\n",
    "container_comm.to_csv('蝦皮_' + keyword +'_留言資料.csv', encoding = 'utf-8-sig')  \n",
    "\n"
   ]
  },
  {
   "cell_type": "markdown",
   "metadata": {},
   "source": [
    "# 下一章節：8-3初探「蝦皮」網站內容\n",
    "- 本章節爬下之原始資料將會在8-3章節進行整理與分析\n",
    "- 瞭解基礎蝦皮資料初探分析\n"
   ]
  }
 ]
}