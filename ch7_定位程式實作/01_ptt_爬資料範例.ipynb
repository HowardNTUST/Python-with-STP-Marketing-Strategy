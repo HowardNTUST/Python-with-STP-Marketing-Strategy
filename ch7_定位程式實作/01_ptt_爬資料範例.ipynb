{
 "metadata": {
  "language_info": {
   "codemirror_mode": {
    "name": "ipython",
    "version": 3
   },
   "file_extension": ".py",
   "mimetype": "text/x-python",
   "name": "python",
   "nbconvert_exporter": "python",
   "pygments_lexer": "ipython3",
   "version": 3
  },
  "orig_nbformat": 2,
  "kernelspec": {
   "name": "python_defaultSpec_1596509903460",
   "display_name": "Python 3.7.7 64-bit ('anaconda3': virtualenv)"
  }
 },
 "nbformat": 4,
 "nbformat_minor": 2,
 "cells": [
  {
   "cell_type": "markdown",
   "metadata": {},
   "source": [
    "\n",
    "# 章節 7 定位程式實作 - 爬取PTT資料\n",
    "\n",
    "author: 鍾皓軒 （臺灣行銷研究有限公司創辦人）\n",
    "\n",
    "爬本章節資料用～！ 或者直接使用我們這邊提供的[範例資料與分析程式碼](https://github.com/HowardNTUST/Marketing-Data-Science-Application/blob/master/cost_effect_gps_positioning/%E8%B3%87%E6%96%99%E6%89%93%E5%8C%85.zip)\n",
    "\n",
    "\n",
    "\n"
   ]
  },
  {
   "cell_type": "code",
   "execution_count": 1,
   "metadata": {
    "tags": []
   },
   "outputs": [
    {
     "output_type": "stream",
     "name": "stdout",
     "text": "讓我們從最新的2371開始爬取1頁吧呵呵\n正在抓資料中...[置底] 8月難以發文討論之「閒聊區」\n正在抓資料中...[公告] 2019年 The Best Drama 徵文 得獎名單\n正在抓資料中...[情報] 韓國 & 台灣 OTT 跟播平台．韓劇節目表\n正在抓資料中...[置底] 韓劇「求、推薦區」\n正在抓資料中...[公告] 韓劇板板規 Ver.15 (18/09/05修訂)\n正在抓資料中...[心得]LIFE-機智醫生生活？\n正在抓資料中...[心得] 精神病患者日記-原來是喜劇\n正在抓資料中...[心得] 認真戀愛認真工作認真搞笑-出師表~10雷\n正在抓資料中...[LIVE] KBS 他就是那傢伙 EP09-EP10\n"
    }
   ],
   "source": [
    "#!/usr/bin/env python3\n",
    "# -*- coding: utf-8 -*-\n",
    "\"\"\"\n",
    "\n",
    "@author: Howard\n",
    "\"\"\"\n",
    "\n",
    "import pandas as pd\n",
    "from ptt import Board, crawl_ptt_page, crawl_ptt_page_auto\n",
    "from requests.exceptions import ReadTimeout\n",
    "import numpy as np\n",
    "import time\n",
    "import random \n",
    "import jieba\n",
    "import os\n",
    "os.chdir('/home/howard/Desktop/定位/02_產品價值分類模型與實戰')\n",
    "jieba.set_dictionary('dict.txt.big')\n",
    "\n",
    "## 必要設定的欄位\n",
    "# 1. Board_Name:放入讀者想要爬取的版名\n",
    "# 2. page_num：看看想要爬取幾頁\n",
    "KoreaDrama = crawl_ptt_page_auto(Board_Name ='KoreaDrama' ,\n",
    "                            page_num= 1)\n",
    "\n"
   ]
  },
  {
   "cell_type": "code",
   "execution_count": 2,
   "metadata": {},
   "outputs": [
    {
     "output_type": "execute_result",
     "data": {
      "text/plain": "                                  標題                   時間  \\\n0                [置底] 8月難以發文討論之「閒聊區」  2020-08-01 06:38:05   \n1  [公告] 2019年 The Best Drama 徵文 得獎名單  2020-06-17 01:18:21   \n2                     [置底] 韓劇「求、推薦區」  2015-08-31 20:59:39   \n4                       LIFE-機智醫生生活？  2020-08-04 09:59:28   \n5                 [心得] 精神病患者日記-原來是喜劇  2020-08-04 00:35:03   \n6          [心得] 認真戀愛認真工作認真搞笑-出師表~10雷  2020-08-03 21:45:02   \n7        [LIVE] KBS 他就是那傢伙 EP09-EP10  2020-08-03 20:15:17   \n\n                                                  內容  \n0  <span class=\"f2 hl\">—— 想要閒聊嗎？——</span>\\n\\n・只要在...  \n1  請各位板友原諒忙碌又金魚腦的我&gt; &lt;\\n遲至今日\\n才整理好我們2019年度好劇...  \n2  \\n求/推薦區的片單感謝前版主FeverDance emotion306 nht整理，\\n將...  \n4  看完機智醫生生活裡面溫馨和平的律帝醫院後,\\n換看充滿鬥爭及資本主義色彩的相國醫院。\\n在相...  \n5  當初這個劇名是完全沒有引起我的興趣，所以我連預告都沒有看過\\n以至於我對它抱持著深深的誤會，...  \n6  \\n\\n我要先吶喊一下我的Imgur終於復活了 昨天不知道是中什麼邪\\n\\n連了一整天都連不...  \n7  <span class=\"f3 b1 hl\">劇名</span>\\n\\n他就是那傢伙\\n▁▁...  ",
      "text/html": "<div>\n<style scoped>\n    .dataframe tbody tr th:only-of-type {\n        vertical-align: middle;\n    }\n\n    .dataframe tbody tr th {\n        vertical-align: top;\n    }\n\n    .dataframe thead th {\n        text-align: right;\n    }\n</style>\n<table border=\"1\" class=\"dataframe\">\n  <thead>\n    <tr style=\"text-align: right;\">\n      <th></th>\n      <th>標題</th>\n      <th>時間</th>\n      <th>內容</th>\n    </tr>\n  </thead>\n  <tbody>\n    <tr>\n      <th>0</th>\n      <td>[置底] 8月難以發文討論之「閒聊區」</td>\n      <td>2020-08-01 06:38:05</td>\n      <td>&lt;span class=\"f2 hl\"&gt;—— 想要閒聊嗎？——&lt;/span&gt;\\n\\n・只要在...</td>\n    </tr>\n    <tr>\n      <th>1</th>\n      <td>[公告] 2019年 The Best Drama 徵文 得獎名單</td>\n      <td>2020-06-17 01:18:21</td>\n      <td>請各位板友原諒忙碌又金魚腦的我&amp;gt; &amp;lt;\\n遲至今日\\n才整理好我們2019年度好劇...</td>\n    </tr>\n    <tr>\n      <th>2</th>\n      <td>[置底] 韓劇「求、推薦區」</td>\n      <td>2015-08-31 20:59:39</td>\n      <td>\\n求/推薦區的片單感謝前版主FeverDance emotion306 nht整理，\\n將...</td>\n    </tr>\n    <tr>\n      <th>4</th>\n      <td>LIFE-機智醫生生活？</td>\n      <td>2020-08-04 09:59:28</td>\n      <td>看完機智醫生生活裡面溫馨和平的律帝醫院後,\\n換看充滿鬥爭及資本主義色彩的相國醫院。\\n在相...</td>\n    </tr>\n    <tr>\n      <th>5</th>\n      <td>[心得] 精神病患者日記-原來是喜劇</td>\n      <td>2020-08-04 00:35:03</td>\n      <td>當初這個劇名是完全沒有引起我的興趣，所以我連預告都沒有看過\\n以至於我對它抱持著深深的誤會，...</td>\n    </tr>\n    <tr>\n      <th>6</th>\n      <td>[心得] 認真戀愛認真工作認真搞笑-出師表~10雷</td>\n      <td>2020-08-03 21:45:02</td>\n      <td>\\n\\n我要先吶喊一下我的Imgur終於復活了 昨天不知道是中什麼邪\\n\\n連了一整天都連不...</td>\n    </tr>\n    <tr>\n      <th>7</th>\n      <td>[LIVE] KBS 他就是那傢伙 EP09-EP10</td>\n      <td>2020-08-03 20:15:17</td>\n      <td>&lt;span class=\"f3 b1 hl\"&gt;劇名&lt;/span&gt;\\n\\n他就是那傢伙\\n▁▁...</td>\n    </tr>\n  </tbody>\n</table>\n</div>"
     },
     "metadata": {},
     "execution_count": 2
    }
   ],
   "source": [
    "KoreaDrama"
   ]
  },
  {
   "cell_type": "code",
   "execution_count": null,
   "metadata": {},
   "outputs": [],
   "source": [
    "# 要使用utf-8-sig存檔\n",
    "KoreaDrama.to_csv('KoreaDrama_test.csv',encoding = 'utf-8-sig') #存檔\n"
   ]
  },
  {
   "cell_type": "code",
   "execution_count": 4,
   "metadata": {
    "tags": []
   },
   "outputs": [
    {
     "output_type": "stream",
     "name": "stdout",
     "text": "讓我們從最新的4001開始爬取2頁吧呵呵\n正在抓資料中...[公告] 2020 八月 西斯置底閒聊區\n正在抓資料中...[公告] 夏季徵文 -- 禁慾  開始票選\n正在抓資料中...[公告] 2020 夏季徵文活動\n正在抓資料中...Fw: [公告] 請使用者多加注意我國保護兒少的法令\n正在抓資料中...[公告] 西斯板規 Ver 6.2.9\n正在抓資料中...[新聞] 桃園男叫小姐嘿咻完逼退費 拿熱水瓶敲暈\n正在抓資料中...[討論] 太陽花女神一次7萬?跟2.3千的感覺差在哪?\n正在抓資料中...[豪洨] 最近很想舔穴\n正在抓資料中...[討論] Telegram 的用途\n正在抓資料中...[新聞] 陸男「29顆磁力珠」塞尿道　10天後痛奔醫院...醫生驚：吸成\n正在抓資料中...[閒聊] 正妹的原味有比較香嗎?\n正在抓資料中...[閒聊] 吃掉處男續集\n正在抓資料中...[新聞] 深夜見美女等公車 老翁朝她抖鳥只為想勃起\n正在抓資料中...[新聞] 硬上女網友還辯「內射是懲罰」 惡男判刑4\n正在抓資料中...[討論] 從後背式來的時候也喜歡打屁屁嗎\n正在抓資料中...Re: [討論] 喜歡撕黑絲襪的人很多嗎\n正在抓資料中...Re: [討論] LINE的迷片群\n正在抓資料中...Fw: [新聞] 人夫中風！手機落入妻子手 驚覺「包養小\n正在抓資料中...[創作] 狂喜\n正在抓資料中...[閒聊] 口交硬頂女方會很不舒服嗎？\n正在抓資料中...[討論] 喜歡撕黑絲襪的人很多嗎\n正在抓資料中...Re: [討論] LINE的迷片群\n正在抓資料中...[創作] 原來都寂寞?\n正在抓資料中...[豪洨] 好久沒發廢文了\n正在抓資料中...[認真] (發錢) 這個女的在妓女當中算少見嗎?\n正在抓資料中...[公告] s9980608 / lai7232kimo水桶\n正在抓資料中...[閒聊] 這些吃魚喝茶的術語大家都知道？\n正在抓資料中...[創作] 好棒女孩 2 – Chapter 4\n"
    }
   ],
   "source": [
    "# 範例2:sex版爬取2頁\n",
    "sex = crawl_ptt_page_auto(Board_Name ='sex' ,\n",
    "                            page_num= 2)"
   ]
  },
  {
   "cell_type": "code",
   "execution_count": 5,
   "metadata": {},
   "outputs": [
    {
     "output_type": "execute_result",
     "data": {
      "text/plain": "                                      標題                   時間  \\\n0                   [公告] 2020 八月 西斯置底閒聊區  2020-08-01 13:47:21   \n1                  [公告] 夏季徵文 -- 禁慾  開始票選  2020-07-22 23:11:58   \n3             Fw: [公告] 請使用者多加注意我國保護兒少的法令  2019-07-29 22:03:19   \n5               [新聞] 桃園男叫小姐嘿咻完逼退費 拿熱水瓶敲暈  2020-08-04 10:17:55   \n6            [討論] 太陽花女神一次7萬?跟2.3千的感覺差在哪?  2020-08-04 10:17:47   \n7                            [豪洨] 最近很想舔穴  2020-08-03 23:42:17   \n8                      [討論] Telegram 的用途  2020-08-03 23:24:54   \n9   [新聞] 陸男「29顆磁力珠」塞尿道　10天後痛奔醫院...醫生驚：吸成  2020-08-03 23:01:47   \n0                       [閒聊] 正妹的原味有比較香嗎?  2020-08-03 22:56:22   \n1                             ［閒聊］吃掉處男續集  2020-08-03 22:52:06   \n2              [新聞] 深夜見美女等公車 老翁朝她抖鳥只為想勃起  2020-08-03 22:34:51   \n3              [新聞] 硬上女網友還辯「內射是懲罰」 惡男判刑4  2020-08-03 18:47:03   \n4                   [討論] 從後背式來的時候也喜歡打屁屁嗎  2020-08-03 18:25:37   \n5                   Re: [討論] 喜歡撕黑絲襪的人很多嗎  2020-08-03 17:57:47   \n6                      Re: [討論] LINE的迷片群  2020-08-03 17:54:02   \n7           Fw: [新聞] 人夫中風！手機落入妻子手 驚覺「包養小  2020-08-03 17:21:42   \n8                                [創作] 狂喜  2020-08-03 14:48:23   \n9                     [閒聊] 口交硬頂女方會很不舒服嗎？  2020-08-03 14:31:53   \n10                      [討論] 喜歡撕黑絲襪的人很多嗎  2020-08-03 12:51:10   \n11                     Re: [討論] LINE的迷片群  2020-08-03 12:14:55   \n12                           [創作] 原來都寂寞?  2020-08-03 11:29:44   \n13                          [豪洨] 好久沒發廢文了  2020-08-03 05:47:13   \n14              [認真] (發錢) 這個女的在妓女當中算少見嗎?  2020-08-03 02:37:48   \n15         [公告] s9980608 / lai7232kimo水桶  2020-08-02 23:36:58   \n16                  [閒聊] 這些吃魚喝茶的術語大家都知道？  2020-08-02 23:21:47   \n17               [創作] 好棒女孩 2 – Chapter 4  2020-08-02 22:59:19   \n\n                                                   內容  \n0   <a href=\"https://i.imgur.com/UMVMJug.jpg\" rel=...  \n1   \\n\\n空幫哇\\n\\n☺ ☺ ☺ ☺ ☺\\n\\n\\n\\n<a href=\"https://i...  \n3   \\n作者: longbow2 (踮起腳尖的親吻) 看板: SYSOP\\n標題: [公告] 請...  \n5   <a href=\"https://udn.com/news/story/7321/47536...  \n6   剛剛打開電腦要開始工作上班\\n\\n油土伯神奇的電腦計算法\\n\\n居然推薦整文專家車文晶我這一...  \n7   \\n但另一半不喜歡\\n而且她的b不夠有魅力\\n\\n喜歡就黑黑的一幅經驗豐富那種\\n不然就是幼...  \n8   是有人在Telegram 成功約炮嗎？\\n上面很多吃茶資訊有沒有人試過\\n還有很多上車群組\\...  \n9   陸男「29顆磁力珠」塞尿道　10天後痛奔醫院...醫生驚：吸成一團\\n\\n<a href=\"...  \n0   大家晚安大家好 今天又是痛苦的星期一\\n\\n大家平常都說正妹什麼都是香的\\n\\n\\n\\n想問...  \n1   這篇算是續集也是完結篇\\n想看文章的人麻煩看下去\\n想看圖可以滑到最後面有動圖\\n寄信我不會...  \n2   <a href=\"https://udn.com/news/story/7317/47511...  \n3   硬上女網友還辯「內射是懲罰」 惡男判刑4年\\n<a href=\"https://news.l...  \n4   本宅特愛從後背式\\n每次從後面來的時候都會故意撞很大力\\n也感覺可以比較深入\\n\\n但是不知...  \n5   我是沒有刻意去撕過\\n\\n女生的絲襪還是有分\\n\\n如果是那種要穿套裝上班的女生\\n\\n一定...  \n6   估計這篇逆風會被噓爆\\n肯定會有人說敢拍就不要怕外流之類的\\n\\n沒辦法 我小本製作\\n而且...  \n7   \\n作者: MissDoDo (嘟嘟) 看板: Gossiping\\n標題: [新聞] 人夫...  \n8   \\n\\n雨很大。\\n霹靂啪啦的雨聲砸在鐵皮屋簷上，\\n在千軍萬馬的踩踏聲裡夾雜著雷，\\n有時...  \n9   想請問大家\\n\\n上次跟固炮做的時候\\n\\n我們69互相幫對方舔\\n\\n舔到後來因為我處在一...  \n10  \\n昨天跟女友閒聊\\n\\n聽到她說她有個朋友在做專櫃的\\n\\n每次她的男友都會喜歡把她的絲襪...  \n11  <span class=\"f2\">※ 引述《mark1888 (馬克葛格)》之銘言：\\n</...  \n12  又是個下大雨的日子\\n想說跟老婆已經很久沒做了，鼓起勇氣再問一次..\\n老婆大人，那個已經超...  \n13  我覺得每個人心裡都住著變態\\n\\n如果不是道德約束\\n\\n這世界早就遍地驕奢淫亂了\\n\\n明...  \n14  每推文答主50P 給前30位\\n\\n我沒有嫖過妓\\n\\n想請問這段影片中女子的姿色\\n\\n<...  \n15  \\n    板友 s9980608發表文章\\n\\n┌────────────────────...  \n16  剛看雞排妹的節目談到養生館\\n<a href=\"https://lihi1.cc/1ZwmZ...  \n17  「不好意思，安莉姐，我覺得這份工作不適合我…」\\n\\n隔天上班前我就在電話中向安莉姐表達辭職...  ",
      "text/html": "<div>\n<style scoped>\n    .dataframe tbody tr th:only-of-type {\n        vertical-align: middle;\n    }\n\n    .dataframe tbody tr th {\n        vertical-align: top;\n    }\n\n    .dataframe thead th {\n        text-align: right;\n    }\n</style>\n<table border=\"1\" class=\"dataframe\">\n  <thead>\n    <tr style=\"text-align: right;\">\n      <th></th>\n      <th>標題</th>\n      <th>時間</th>\n      <th>內容</th>\n    </tr>\n  </thead>\n  <tbody>\n    <tr>\n      <th>0</th>\n      <td>[公告] 2020 八月 西斯置底閒聊區</td>\n      <td>2020-08-01 13:47:21</td>\n      <td>&lt;a href=\"https://i.imgur.com/UMVMJug.jpg\" rel=...</td>\n    </tr>\n    <tr>\n      <th>1</th>\n      <td>[公告] 夏季徵文 -- 禁慾  開始票選</td>\n      <td>2020-07-22 23:11:58</td>\n      <td>\\n\\n空幫哇\\n\\n☺ ☺ ☺ ☺ ☺\\n\\n\\n\\n&lt;a href=\"https://i...</td>\n    </tr>\n    <tr>\n      <th>3</th>\n      <td>Fw: [公告] 請使用者多加注意我國保護兒少的法令</td>\n      <td>2019-07-29 22:03:19</td>\n      <td>\\n作者: longbow2 (踮起腳尖的親吻) 看板: SYSOP\\n標題: [公告] 請...</td>\n    </tr>\n    <tr>\n      <th>5</th>\n      <td>[新聞] 桃園男叫小姐嘿咻完逼退費 拿熱水瓶敲暈</td>\n      <td>2020-08-04 10:17:55</td>\n      <td>&lt;a href=\"https://udn.com/news/story/7321/47536...</td>\n    </tr>\n    <tr>\n      <th>6</th>\n      <td>[討論] 太陽花女神一次7萬?跟2.3千的感覺差在哪?</td>\n      <td>2020-08-04 10:17:47</td>\n      <td>剛剛打開電腦要開始工作上班\\n\\n油土伯神奇的電腦計算法\\n\\n居然推薦整文專家車文晶我這一...</td>\n    </tr>\n    <tr>\n      <th>7</th>\n      <td>[豪洨] 最近很想舔穴</td>\n      <td>2020-08-03 23:42:17</td>\n      <td>\\n但另一半不喜歡\\n而且她的b不夠有魅力\\n\\n喜歡就黑黑的一幅經驗豐富那種\\n不然就是幼...</td>\n    </tr>\n    <tr>\n      <th>8</th>\n      <td>[討論] Telegram 的用途</td>\n      <td>2020-08-03 23:24:54</td>\n      <td>是有人在Telegram 成功約炮嗎？\\n上面很多吃茶資訊有沒有人試過\\n還有很多上車群組\\...</td>\n    </tr>\n    <tr>\n      <th>9</th>\n      <td>[新聞] 陸男「29顆磁力珠」塞尿道　10天後痛奔醫院...醫生驚：吸成</td>\n      <td>2020-08-03 23:01:47</td>\n      <td>陸男「29顆磁力珠」塞尿道　10天後痛奔醫院...醫生驚：吸成一團\\n\\n&lt;a href=\"...</td>\n    </tr>\n    <tr>\n      <th>0</th>\n      <td>[閒聊] 正妹的原味有比較香嗎?</td>\n      <td>2020-08-03 22:56:22</td>\n      <td>大家晚安大家好 今天又是痛苦的星期一\\n\\n大家平常都說正妹什麼都是香的\\n\\n\\n\\n想問...</td>\n    </tr>\n    <tr>\n      <th>1</th>\n      <td>［閒聊］吃掉處男續集</td>\n      <td>2020-08-03 22:52:06</td>\n      <td>這篇算是續集也是完結篇\\n想看文章的人麻煩看下去\\n想看圖可以滑到最後面有動圖\\n寄信我不會...</td>\n    </tr>\n    <tr>\n      <th>2</th>\n      <td>[新聞] 深夜見美女等公車 老翁朝她抖鳥只為想勃起</td>\n      <td>2020-08-03 22:34:51</td>\n      <td>&lt;a href=\"https://udn.com/news/story/7317/47511...</td>\n    </tr>\n    <tr>\n      <th>3</th>\n      <td>[新聞] 硬上女網友還辯「內射是懲罰」 惡男判刑4</td>\n      <td>2020-08-03 18:47:03</td>\n      <td>硬上女網友還辯「內射是懲罰」 惡男判刑4年\\n&lt;a href=\"https://news.l...</td>\n    </tr>\n    <tr>\n      <th>4</th>\n      <td>[討論] 從後背式來的時候也喜歡打屁屁嗎</td>\n      <td>2020-08-03 18:25:37</td>\n      <td>本宅特愛從後背式\\n每次從後面來的時候都會故意撞很大力\\n也感覺可以比較深入\\n\\n但是不知...</td>\n    </tr>\n    <tr>\n      <th>5</th>\n      <td>Re: [討論] 喜歡撕黑絲襪的人很多嗎</td>\n      <td>2020-08-03 17:57:47</td>\n      <td>我是沒有刻意去撕過\\n\\n女生的絲襪還是有分\\n\\n如果是那種要穿套裝上班的女生\\n\\n一定...</td>\n    </tr>\n    <tr>\n      <th>6</th>\n      <td>Re: [討論] LINE的迷片群</td>\n      <td>2020-08-03 17:54:02</td>\n      <td>估計這篇逆風會被噓爆\\n肯定會有人說敢拍就不要怕外流之類的\\n\\n沒辦法 我小本製作\\n而且...</td>\n    </tr>\n    <tr>\n      <th>7</th>\n      <td>Fw: [新聞] 人夫中風！手機落入妻子手 驚覺「包養小</td>\n      <td>2020-08-03 17:21:42</td>\n      <td>\\n作者: MissDoDo (嘟嘟) 看板: Gossiping\\n標題: [新聞] 人夫...</td>\n    </tr>\n    <tr>\n      <th>8</th>\n      <td>[創作] 狂喜</td>\n      <td>2020-08-03 14:48:23</td>\n      <td>\\n\\n雨很大。\\n霹靂啪啦的雨聲砸在鐵皮屋簷上，\\n在千軍萬馬的踩踏聲裡夾雜著雷，\\n有時...</td>\n    </tr>\n    <tr>\n      <th>9</th>\n      <td>[閒聊] 口交硬頂女方會很不舒服嗎？</td>\n      <td>2020-08-03 14:31:53</td>\n      <td>想請問大家\\n\\n上次跟固炮做的時候\\n\\n我們69互相幫對方舔\\n\\n舔到後來因為我處在一...</td>\n    </tr>\n    <tr>\n      <th>10</th>\n      <td>[討論] 喜歡撕黑絲襪的人很多嗎</td>\n      <td>2020-08-03 12:51:10</td>\n      <td>\\n昨天跟女友閒聊\\n\\n聽到她說她有個朋友在做專櫃的\\n\\n每次她的男友都會喜歡把她的絲襪...</td>\n    </tr>\n    <tr>\n      <th>11</th>\n      <td>Re: [討論] LINE的迷片群</td>\n      <td>2020-08-03 12:14:55</td>\n      <td>&lt;span class=\"f2\"&gt;※ 引述《mark1888 (馬克葛格)》之銘言：\\n&lt;/...</td>\n    </tr>\n    <tr>\n      <th>12</th>\n      <td>[創作] 原來都寂寞?</td>\n      <td>2020-08-03 11:29:44</td>\n      <td>又是個下大雨的日子\\n想說跟老婆已經很久沒做了，鼓起勇氣再問一次..\\n老婆大人，那個已經超...</td>\n    </tr>\n    <tr>\n      <th>13</th>\n      <td>[豪洨] 好久沒發廢文了</td>\n      <td>2020-08-03 05:47:13</td>\n      <td>我覺得每個人心裡都住著變態\\n\\n如果不是道德約束\\n\\n這世界早就遍地驕奢淫亂了\\n\\n明...</td>\n    </tr>\n    <tr>\n      <th>14</th>\n      <td>[認真] (發錢) 這個女的在妓女當中算少見嗎?</td>\n      <td>2020-08-03 02:37:48</td>\n      <td>每推文答主50P 給前30位\\n\\n我沒有嫖過妓\\n\\n想請問這段影片中女子的姿色\\n\\n&lt;...</td>\n    </tr>\n    <tr>\n      <th>15</th>\n      <td>[公告] s9980608 / lai7232kimo水桶</td>\n      <td>2020-08-02 23:36:58</td>\n      <td>\\n    板友 s9980608發表文章\\n\\n┌────────────────────...</td>\n    </tr>\n    <tr>\n      <th>16</th>\n      <td>[閒聊] 這些吃魚喝茶的術語大家都知道？</td>\n      <td>2020-08-02 23:21:47</td>\n      <td>剛看雞排妹的節目談到養生館\\n&lt;a href=\"https://lihi1.cc/1ZwmZ...</td>\n    </tr>\n    <tr>\n      <th>17</th>\n      <td>[創作] 好棒女孩 2 – Chapter 4</td>\n      <td>2020-08-02 22:59:19</td>\n      <td>「不好意思，安莉姐，我覺得這份工作不適合我…」\\n\\n隔天上班前我就在電話中向安莉姐表達辭職...</td>\n    </tr>\n  </tbody>\n</table>\n</div>"
     },
     "metadata": {},
     "execution_count": 5
    }
   ],
   "source": [
    "sex"
   ]
  },
  {
   "cell_type": "code",
   "execution_count": null,
   "metadata": {},
   "outputs": [],
   "source": [
    "# 要使用utf-8-sig存檔\n",
    "sex.to_csv('sex.csv',encoding = 'utf-8-sig') #存檔\n"
   ]
  }
 ]
}