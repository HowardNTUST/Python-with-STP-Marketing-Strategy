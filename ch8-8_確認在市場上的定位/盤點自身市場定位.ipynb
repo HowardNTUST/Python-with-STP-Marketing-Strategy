{
 "metadata": {
  "language_info": {
   "codemirror_mode": {
    "name": "ipython",
    "version": 3
   },
   "file_extension": ".py",
   "mimetype": "text/x-python",
   "name": "python",
   "nbconvert_exporter": "python",
   "pygments_lexer": "ipython3",
   "version": 3
  },
  "orig_nbformat": 2,
  "kernelspec": {
   "name": "python_defaultSpec_1596523673866",
   "display_name": "Python 3.7.7 64-bit ('anaconda3': virtualenv)"
  }
 },
 "nbformat": 4,
 "nbformat_minor": 2,
 "cells": [
  {
   "cell_type": "markdown",
   "metadata": {},
   "source": [
    "\n",
    "# 章節 8-2 到蝦皮網站爬文\n",
    "\n",
    "author: 楊超霆與鍾皓軒\n"
   ]
  },
  {
   "cell_type": "code",
   "execution_count": 1,
   "metadata": {},
   "outputs": [],
   "source": [
    "# 載入必要套件\n",
    "import requests\n",
    "from bs4 import BeautifulSoup\n",
    "import json\n",
    "import pandas as pd\n",
    "import time\n",
    "from tqdm import tqdm\n",
    "import time\n",
    "import re\n",
    "import random\n"
   ]
  },
  {
   "cell_type": "code",
   "execution_count": 4,
   "metadata": {},
   "outputs": [],
   "source": [
    "# 首先設定我們要的關鍵字\n",
    "keyword = '運動內衣'\n",
    "page = 1\n"
   ]
  },
  {
   "cell_type": "code",
   "execution_count": 7,
   "metadata": {},
   "outputs": [],
   "source": [
    "\n",
    "#封包標頭檔\n",
    "my_headers = {'authority' : 'shopee.tw',\n",
    "     'method': 'GET',\n",
    "     'path': '/api/v1/item_detail/?item_id=1147052312&shop_id=17400098',\n",
    "     'scheme': 'https',\n",
    "     'accept': '*/*',\n",
    "     'accept-encoding': 'gzip, deflate, br',\n",
    "     'accept-language': 'zh-TW,zh;q=0.9,en-US;q=0.8,en;q=0.7,ja;q=0.6',\n",
    "     'cookie': '_ga=GA1.2.1087113924.1519696808; SPC_IA=-1; SPC_F=SDsFai6wYMRFvHCNzyBRCvFIp92UnuU3; REC_T_ID=f2be85da-1b61-11e8-a60b-d09466041854; __BWfp=c1519696822183x3c2b15d09; __utmz=88845529.1521362936.1.1.utmcsr=(direct)|utmccn=(direct)|utmcmd=(none); _atrk_siteuid=HEgUlHUKcEXQZWpB; SPC_EC=-; SPC_U=-; SPC_T_ID=\"vBBUETICFqj4EWefxIdZzfzutfKhrgytH2wyevGxiObL3hFEfy0dpQSOM/yFzaGYQLUANrPe7QZ4hqLZotPs72MhLd8aK0qhIwD5fqDrlRs=\"; SPC_T_IV=\"IpxA2sGrOUQhMH4IaolDSA==\"; cto_lwid=2fc9d64c-3cfd-4cf9-9de7-a1516b03ed79; csrftoken=EDL9jQV76T97qmB7PaTPorKtfMlU7eUO; bannerShown=true; _gac_UA-61915057-6=1.1529645767.EAIaIQobChMIwvrkw8bm2wIVkBiPCh2bZAZgEAAYASAAEgIglPD_BwE; _gid=GA1.2.1275115921.1529896103; SPC_SI=2flgu0yh38oo0v2xyzns9a2sk6rz9ou8; __utma=88845529.1087113924.1519696808.1528465088.1529902919.7; __utmc=88845529; appier_utmz=%7B%22csr%22%3A%22(direct)%22%2C%22timestamp%22%3A1529902919%7D; _atrk_sync_cookie=true; _gat=1',\n",
    "     'if-none-match': \"55b03-9ff4fb127aff56426f5ec9022baec594\",\n",
    "     'referer': 'https://shopee.tw/6-9-%F0%9F%87%B0%F0%9F%87%B7%E9%9F%93%E5%9C%8B%E9%80%A3%E7%B7%9A-omg!%E6%96%B0%E8%89%B2%E7%99%BB%E5%A0%B4%F0%9F%94%A5%E4%BA%A4%E5%8F%89%E7%BE%8E%E8%83%8CBra%E5%BD%88%E5%8A%9B%E8%83%8C%E5%BF%83-i.17400098.1147052312',\n",
    "     'user-agent': 'Mozilla/5.0 (X11; Linux x86_64) AppleWebKit/537.36 (KHTML, like Gecko) Chrome/66.0.3359.139 Safari/537.36',\n",
    "     'x-api-source': 'pc',\n",
    "     'x-requested-with': 'XMLHttpRequest'\n",
    "      }   "
   ]
  },
  {
   "cell_type": "markdown",
   "metadata": {},
   "source": [
    "# 請求蝦皮的相關商品基本資料"
   ]
  },
  {
   "cell_type": "code",
   "execution_count": 8,
   "metadata": {},
   "outputs": [],
   "source": [
    "#專門用來請求蝦皮的相關商品基本資料\n",
    "def request_shopee(keyword, page):\n",
    "    url = 'https://shopee.tw/api/v2/search_items/?by=relevancy&keyword=' + keyword + '&limit=100&newest=' + str(page*100) + '&order=desc&page_type=search&version=2'\n",
    "    #開始請求\n",
    "    list_req = requests.get(url,headers = my_headers)\n",
    "    soup = BeautifulSoup(list_req.content, \"html.parser\")\n",
    "    #將扒下來的文字轉成Json\n",
    "    getjson=json.loads(soup.text)\n",
    "    \n",
    "    return getjson['items']\n"
   ]
  },
  {
   "cell_type": "markdown",
   "metadata": {},
   "source": [
    "## 首先設定我們要的關鍵字\n",
    "* keyword = '運動內衣'\n",
    "* page = 0 --> 代表第一頁的意思，會直接爬100項資料\n",
    "* 爬取頁面：讀者可以直接前往本網址 https://shopee.tw/search?keyword=運動內衣&page=1 ，爬得就是本頁的商品id與店家id\n"
   ]
  },
  {
   "cell_type": "code",
   "execution_count": 9,
   "metadata": {},
   "outputs": [],
   "source": [
    "# 使用方法\n",
    "items_json = request_shopee(keyword = '運動內衣', page = 0)\n"
   ]
  },
  {
   "cell_type": "code",
   "execution_count": 11,
   "metadata": {},
   "outputs": [],
   "source": [
    "# 轉換成data frame\n",
    "items=pd.DataFrame(items_json) \n"
   ]
  },
  {
   "cell_type": "code",
   "execution_count": 12,
   "metadata": {},
   "outputs": [
    {
     "output_type": "execute_result",
     "data": {
      "text/plain": "        itemid welcome_package_info  liked recommendation_info  \\\n0   3744389812                 None  False                None   \n1   2202650617                 None  False                None   \n2   2774394379                 None  False                None   \n3   7338111621                 None  False                None   \n4   1186073089                 None  False                None   \n..         ...                  ...    ...                 ...   \n95  3150023137                 None  False                None   \n96  4920016109                 None  False                None   \n97  5804980034                 None  False                None   \n98  4239353642                 None  False                None   \n99  6441263814                 None  False                None   \n\n   bundle_deal_info  price_max_before_discount tracking_info  \\\n0              None                   40500000          None   \n1              None                   32400000          None   \n2              None                         -1          None   \n3              None                         -1          None   \n4              None                   39900000          None   \n..              ...                        ...           ...   \n95             None                         -1          None   \n96             None                   32800000          None   \n97             None                   39800000          None   \n98             None                   12000000          None   \n99             None                   38000000          None   \n\n                               image recommendation_algorithm  \\\n0   06d9bb31a5518dc8d48de08610677555                     None   \n1   afd05b8d52ebbd6217cfcdd0b560e1f7                     None   \n2   532c7b2a4f49e0b70c27bcbb2416e1d2                     None   \n3   e4ef96c6ec2792c243b4e10636b6535d                     None   \n4   295d3877cd175781457e014ddb5987a9                     None   \n..                               ...                      ...   \n95  e94a74af81c6a2fc6e1b05bdd145b31b                     None   \n96  08e3167f571c8ca626223fbd66595819                     None   \n97  7562315a76064a2b328e3bb92529d87f                     None   \n98  75113611fa62ff8f041a2484bd397ae8                     None   \n99  a13637b63104bfbd8ccd72cf32c17a06                     None   \n\n    is_cc_installment_payment_eligible  ...  hidden_price_display  \\\n0                                False  ...                  None   \n1                                False  ...                  None   \n2                                False  ...                  None   \n3                                False  ...                  None   \n4                                False  ...                  None   \n..                                 ...  ...                   ...   \n95                                True  ...                  None   \n96                               False  ...                  None   \n97                               False  ...                  None   \n98                               False  ...                  None   \n99                               False  ...                  None   \n\n                          size_chart item_type shipping_icon_type  \\\n0                               None         0               None   \n1                               None         0               None   \n2   a8bbe7bd4f26879e1c1b795e315876e1         0               None   \n3   b71bde3d0ba8ae948ba0b0cf91c6a1fd         0               None   \n4   3872fa2124412b8af3e92c300b1a6706         0               None   \n..                               ...       ...                ...   \n95  2609d57908485f82429316f33c4c6786         0               None   \n96                              None         0               None   \n97                              None         0               None   \n98  127246af1097bb09e49d33383eb399c4         0               None   \n99  e47a40a75552f8104e49baafde1bbb66         0               None   \n\n   campaign_stock                                          label_ids  \\\n0            None                                                 []   \n1            None  [1000040, 1000138, 1000139, 1000140, 1000145, ...   \n2            None                                          [1000028]   \n3            None                                                 []   \n4            None                                                 []   \n..            ...                                                ...   \n95           None  [1000040, 1000138, 1000139, 1000140, 1000277, ...   \n96           None                                      [25, 1000140]   \n97           None                                      [25, 1000140]   \n98           None  [1000040, 1000138, 1000140, 1000277, 1000278, 25]   \n99           None  [1000040, 1000138, 1000140, 1000277, 1000278, 25]   \n\n    service_by_shopee_flag badge_icon_type historical_sold  \\\n0                        0               0               0   \n1                        0               0            4272   \n2                        0               0            1757   \n3                        0               0               0   \n4                        0               0             436   \n..                     ...             ...             ...   \n95                       0               0              17   \n96                       0               0            3751   \n97                       0               0            2390   \n98                       0               0              95   \n99                       0               0               1   \n\n   transparent_background_image  \n0                                \n1                                \n2                                \n3                                \n4                                \n..                          ...  \n95                               \n96                               \n97                               \n98                               \n99                               \n\n[100 rows x 82 columns]",
      "text/html": "<div>\n<style scoped>\n    .dataframe tbody tr th:only-of-type {\n        vertical-align: middle;\n    }\n\n    .dataframe tbody tr th {\n        vertical-align: top;\n    }\n\n    .dataframe thead th {\n        text-align: right;\n    }\n</style>\n<table border=\"1\" class=\"dataframe\">\n  <thead>\n    <tr style=\"text-align: right;\">\n      <th></th>\n      <th>itemid</th>\n      <th>welcome_package_info</th>\n      <th>liked</th>\n      <th>recommendation_info</th>\n      <th>bundle_deal_info</th>\n      <th>price_max_before_discount</th>\n      <th>tracking_info</th>\n      <th>image</th>\n      <th>recommendation_algorithm</th>\n      <th>is_cc_installment_payment_eligible</th>\n      <th>...</th>\n      <th>hidden_price_display</th>\n      <th>size_chart</th>\n      <th>item_type</th>\n      <th>shipping_icon_type</th>\n      <th>campaign_stock</th>\n      <th>label_ids</th>\n      <th>service_by_shopee_flag</th>\n      <th>badge_icon_type</th>\n      <th>historical_sold</th>\n      <th>transparent_background_image</th>\n    </tr>\n  </thead>\n  <tbody>\n    <tr>\n      <th>0</th>\n      <td>3744389812</td>\n      <td>None</td>\n      <td>False</td>\n      <td>None</td>\n      <td>None</td>\n      <td>40500000</td>\n      <td>None</td>\n      <td>06d9bb31a5518dc8d48de08610677555</td>\n      <td>None</td>\n      <td>False</td>\n      <td>...</td>\n      <td>None</td>\n      <td>None</td>\n      <td>0</td>\n      <td>None</td>\n      <td>None</td>\n      <td>[]</td>\n      <td>0</td>\n      <td>0</td>\n      <td>0</td>\n      <td></td>\n    </tr>\n    <tr>\n      <th>1</th>\n      <td>2202650617</td>\n      <td>None</td>\n      <td>False</td>\n      <td>None</td>\n      <td>None</td>\n      <td>32400000</td>\n      <td>None</td>\n      <td>afd05b8d52ebbd6217cfcdd0b560e1f7</td>\n      <td>None</td>\n      <td>False</td>\n      <td>...</td>\n      <td>None</td>\n      <td>None</td>\n      <td>0</td>\n      <td>None</td>\n      <td>None</td>\n      <td>[1000040, 1000138, 1000139, 1000140, 1000145, ...</td>\n      <td>0</td>\n      <td>0</td>\n      <td>4272</td>\n      <td></td>\n    </tr>\n    <tr>\n      <th>2</th>\n      <td>2774394379</td>\n      <td>None</td>\n      <td>False</td>\n      <td>None</td>\n      <td>None</td>\n      <td>-1</td>\n      <td>None</td>\n      <td>532c7b2a4f49e0b70c27bcbb2416e1d2</td>\n      <td>None</td>\n      <td>False</td>\n      <td>...</td>\n      <td>None</td>\n      <td>a8bbe7bd4f26879e1c1b795e315876e1</td>\n      <td>0</td>\n      <td>None</td>\n      <td>None</td>\n      <td>[1000028]</td>\n      <td>0</td>\n      <td>0</td>\n      <td>1757</td>\n      <td></td>\n    </tr>\n    <tr>\n      <th>3</th>\n      <td>7338111621</td>\n      <td>None</td>\n      <td>False</td>\n      <td>None</td>\n      <td>None</td>\n      <td>-1</td>\n      <td>None</td>\n      <td>e4ef96c6ec2792c243b4e10636b6535d</td>\n      <td>None</td>\n      <td>False</td>\n      <td>...</td>\n      <td>None</td>\n      <td>b71bde3d0ba8ae948ba0b0cf91c6a1fd</td>\n      <td>0</td>\n      <td>None</td>\n      <td>None</td>\n      <td>[]</td>\n      <td>0</td>\n      <td>0</td>\n      <td>0</td>\n      <td></td>\n    </tr>\n    <tr>\n      <th>4</th>\n      <td>1186073089</td>\n      <td>None</td>\n      <td>False</td>\n      <td>None</td>\n      <td>None</td>\n      <td>39900000</td>\n      <td>None</td>\n      <td>295d3877cd175781457e014ddb5987a9</td>\n      <td>None</td>\n      <td>False</td>\n      <td>...</td>\n      <td>None</td>\n      <td>3872fa2124412b8af3e92c300b1a6706</td>\n      <td>0</td>\n      <td>None</td>\n      <td>None</td>\n      <td>[]</td>\n      <td>0</td>\n      <td>0</td>\n      <td>436</td>\n      <td></td>\n    </tr>\n    <tr>\n      <th>...</th>\n      <td>...</td>\n      <td>...</td>\n      <td>...</td>\n      <td>...</td>\n      <td>...</td>\n      <td>...</td>\n      <td>...</td>\n      <td>...</td>\n      <td>...</td>\n      <td>...</td>\n      <td>...</td>\n      <td>...</td>\n      <td>...</td>\n      <td>...</td>\n      <td>...</td>\n      <td>...</td>\n      <td>...</td>\n      <td>...</td>\n      <td>...</td>\n      <td>...</td>\n      <td>...</td>\n    </tr>\n    <tr>\n      <th>95</th>\n      <td>3150023137</td>\n      <td>None</td>\n      <td>False</td>\n      <td>None</td>\n      <td>None</td>\n      <td>-1</td>\n      <td>None</td>\n      <td>e94a74af81c6a2fc6e1b05bdd145b31b</td>\n      <td>None</td>\n      <td>True</td>\n      <td>...</td>\n      <td>None</td>\n      <td>2609d57908485f82429316f33c4c6786</td>\n      <td>0</td>\n      <td>None</td>\n      <td>None</td>\n      <td>[1000040, 1000138, 1000139, 1000140, 1000277, ...</td>\n      <td>0</td>\n      <td>0</td>\n      <td>17</td>\n      <td></td>\n    </tr>\n    <tr>\n      <th>96</th>\n      <td>4920016109</td>\n      <td>None</td>\n      <td>False</td>\n      <td>None</td>\n      <td>None</td>\n      <td>32800000</td>\n      <td>None</td>\n      <td>08e3167f571c8ca626223fbd66595819</td>\n      <td>None</td>\n      <td>False</td>\n      <td>...</td>\n      <td>None</td>\n      <td>None</td>\n      <td>0</td>\n      <td>None</td>\n      <td>None</td>\n      <td>[25, 1000140]</td>\n      <td>0</td>\n      <td>0</td>\n      <td>3751</td>\n      <td></td>\n    </tr>\n    <tr>\n      <th>97</th>\n      <td>5804980034</td>\n      <td>None</td>\n      <td>False</td>\n      <td>None</td>\n      <td>None</td>\n      <td>39800000</td>\n      <td>None</td>\n      <td>7562315a76064a2b328e3bb92529d87f</td>\n      <td>None</td>\n      <td>False</td>\n      <td>...</td>\n      <td>None</td>\n      <td>None</td>\n      <td>0</td>\n      <td>None</td>\n      <td>None</td>\n      <td>[25, 1000140]</td>\n      <td>0</td>\n      <td>0</td>\n      <td>2390</td>\n      <td></td>\n    </tr>\n    <tr>\n      <th>98</th>\n      <td>4239353642</td>\n      <td>None</td>\n      <td>False</td>\n      <td>None</td>\n      <td>None</td>\n      <td>12000000</td>\n      <td>None</td>\n      <td>75113611fa62ff8f041a2484bd397ae8</td>\n      <td>None</td>\n      <td>False</td>\n      <td>...</td>\n      <td>None</td>\n      <td>127246af1097bb09e49d33383eb399c4</td>\n      <td>0</td>\n      <td>None</td>\n      <td>None</td>\n      <td>[1000040, 1000138, 1000140, 1000277, 1000278, 25]</td>\n      <td>0</td>\n      <td>0</td>\n      <td>95</td>\n      <td></td>\n    </tr>\n    <tr>\n      <th>99</th>\n      <td>6441263814</td>\n      <td>None</td>\n      <td>False</td>\n      <td>None</td>\n      <td>None</td>\n      <td>38000000</td>\n      <td>None</td>\n      <td>a13637b63104bfbd8ccd72cf32c17a06</td>\n      <td>None</td>\n      <td>False</td>\n      <td>...</td>\n      <td>None</td>\n      <td>e47a40a75552f8104e49baafde1bbb66</td>\n      <td>0</td>\n      <td>None</td>\n      <td>None</td>\n      <td>[1000040, 1000138, 1000140, 1000277, 1000278, 25]</td>\n      <td>0</td>\n      <td>0</td>\n      <td>1</td>\n      <td></td>\n    </tr>\n  </tbody>\n</table>\n<p>100 rows × 82 columns</p>\n</div>"
     },
     "metadata": {},
     "execution_count": 12
    }
   ],
   "source": [
    "items"
   ]
  },
  {
   "cell_type": "code",
   "execution_count": 13,
   "metadata": {},
   "outputs": [],
   "source": [
    "# 取出我們後續要進入每個商品，抓取賣家更細節資料（商品文案、SKU）的欄位\n",
    "items2 = items[['itemid','shopid','name', 'price']]"
   ]
  },
  {
   "cell_type": "code",
   "execution_count": 14,
   "metadata": {},
   "outputs": [
    {
     "output_type": "execute_result",
     "data": {
      "text/plain": "        itemid     shopid                                               name  \\\n0   3744389812  286072005  【日系小清新】U型無痕運動背心 無鋼圈內衣 美背聚攏抹胸 性感定型胸罩裹胸 學生文胸跑步防震...   \n1   2202650617   45686692  【碧影運動】易穿脫運動內衣女生跑步高強度防震內衣集中聚攏後四排搭扣可調節健身美背內衣速乾無鋼...   \n2   2774394379    3102283  206-【現貨+發票】【當天出貨! 34E也不用擔心 愛動女孩運動必備 !!! 大奶網眼 美...   \n3   7338111621   22497081         現貨供應充足 *正品回饋 [不必等當天出貨]🔥 Kissy 如吻內衣 💋  快速出貨   \n4   1186073089   44551604  【台灣出貨 高抗震 無鋼圈 運動內衣 送彈性髮帶】 可拆胸墊 運動上衣 運動上衣 美背內衣 ...   \n..         ...        ...                                                ...   \n95  3150023137  184701478  Sdare渲藍夏日夢運動小可愛 女 運動內衣 運動 健身 跑步 瑜珈 性感 集中 包覆  舒...   \n96  4920016109   51836194             💜戀愛物語💖日系安心無痕無鋼圈聚攏舒適大碼跑步背心瑜伽運動內衣女文胸C735   \n97  5804980034   51836194   💜戀愛物語💖日系無痕  多色輕運動內衣 降溫  V領  瑜伽  聚攏  一片式 睡眠內衣C641   \n98  4239353642  261888471                 【HER】韓版卡卡同款运动美背 大U型裹胸抹胸無鋼圈 運動背心女吊帶   \n99  6441263814  261888471               【HER】運動文胸女 歐美聚攏後背摺疊搭扣 防震跑步瑜伽健身背心美背內衣   \n\n        price  \n0     7900000  \n1    18700000  \n2    36900000  \n3    75000000  \n4    19900000  \n..        ...  \n95  128000000  \n96    1900000  \n97    7800000  \n98    5900000  \n99   24700000  \n\n[100 rows x 4 columns]",
      "text/html": "<div>\n<style scoped>\n    .dataframe tbody tr th:only-of-type {\n        vertical-align: middle;\n    }\n\n    .dataframe tbody tr th {\n        vertical-align: top;\n    }\n\n    .dataframe thead th {\n        text-align: right;\n    }\n</style>\n<table border=\"1\" class=\"dataframe\">\n  <thead>\n    <tr style=\"text-align: right;\">\n      <th></th>\n      <th>itemid</th>\n      <th>shopid</th>\n      <th>name</th>\n      <th>price</th>\n    </tr>\n  </thead>\n  <tbody>\n    <tr>\n      <th>0</th>\n      <td>3744389812</td>\n      <td>286072005</td>\n      <td>【日系小清新】U型無痕運動背心 無鋼圈內衣 美背聚攏抹胸 性感定型胸罩裹胸 學生文胸跑步防震...</td>\n      <td>7900000</td>\n    </tr>\n    <tr>\n      <th>1</th>\n      <td>2202650617</td>\n      <td>45686692</td>\n      <td>【碧影運動】易穿脫運動內衣女生跑步高強度防震內衣集中聚攏後四排搭扣可調節健身美背內衣速乾無鋼...</td>\n      <td>18700000</td>\n    </tr>\n    <tr>\n      <th>2</th>\n      <td>2774394379</td>\n      <td>3102283</td>\n      <td>206-【現貨+發票】【當天出貨! 34E也不用擔心 愛動女孩運動必備 !!! 大奶網眼 美...</td>\n      <td>36900000</td>\n    </tr>\n    <tr>\n      <th>3</th>\n      <td>7338111621</td>\n      <td>22497081</td>\n      <td>現貨供應充足 *正品回饋 [不必等當天出貨]🔥 Kissy 如吻內衣 💋  快速出貨</td>\n      <td>75000000</td>\n    </tr>\n    <tr>\n      <th>4</th>\n      <td>1186073089</td>\n      <td>44551604</td>\n      <td>【台灣出貨 高抗震 無鋼圈 運動內衣 送彈性髮帶】 可拆胸墊 運動上衣 運動上衣 美背內衣 ...</td>\n      <td>19900000</td>\n    </tr>\n    <tr>\n      <th>...</th>\n      <td>...</td>\n      <td>...</td>\n      <td>...</td>\n      <td>...</td>\n    </tr>\n    <tr>\n      <th>95</th>\n      <td>3150023137</td>\n      <td>184701478</td>\n      <td>Sdare渲藍夏日夢運動小可愛 女 運動內衣 運動 健身 跑步 瑜珈 性感 集中 包覆  舒...</td>\n      <td>128000000</td>\n    </tr>\n    <tr>\n      <th>96</th>\n      <td>4920016109</td>\n      <td>51836194</td>\n      <td>💜戀愛物語💖日系安心無痕無鋼圈聚攏舒適大碼跑步背心瑜伽運動內衣女文胸C735</td>\n      <td>1900000</td>\n    </tr>\n    <tr>\n      <th>97</th>\n      <td>5804980034</td>\n      <td>51836194</td>\n      <td>💜戀愛物語💖日系無痕  多色輕運動內衣 降溫  V領  瑜伽  聚攏  一片式 睡眠內衣C641</td>\n      <td>7800000</td>\n    </tr>\n    <tr>\n      <th>98</th>\n      <td>4239353642</td>\n      <td>261888471</td>\n      <td>【HER】韓版卡卡同款运动美背 大U型裹胸抹胸無鋼圈 運動背心女吊帶</td>\n      <td>5900000</td>\n    </tr>\n    <tr>\n      <th>99</th>\n      <td>6441263814</td>\n      <td>261888471</td>\n      <td>【HER】運動文胸女 歐美聚攏後背摺疊搭扣 防震跑步瑜伽健身背心美背內衣</td>\n      <td>24700000</td>\n    </tr>\n  </tbody>\n</table>\n<p>100 rows × 4 columns</p>\n</div>"
     },
     "metadata": {},
     "execution_count": 14
    }
   ],
   "source": [
    "items2"
   ]
  },
  {
   "cell_type": "markdown",
   "metadata": {},
   "source": [
    "# 抓取<mark>賣家</mark>細節的資料\n",
    "\n",
    "有了上述頁面商家的基本資料（商品ID與商品賣家ID），就可以開始深入每一個商品網頁，抓取欲求資料\n",
    "\n",
    "本處會使用到的goods_detail() 中有兩個必要的參數，分別是\n",
    "* item_id（商品ID）\n",
    "* shop_id（商品賣家ID）\n",
    "都是從request_shopee()的function中取得\n",
    "\n",
    "在原始內容中，這兩個參數都是8 到10 不等的亂數，而兩個數\n",
    "字可以在商品網頁中的網址末端找到，例如：-i.188645964.5015552783，其中\n",
    "shop_id 是188645964；item_id 是5015552783，如下圖最上面的id所示。\n",
    "\n",
    "\n",
    "![](https://imgur.com/fgBT5Rj.png)"
   ]
  },
  {
   "cell_type": "markdown",
   "metadata": {},
   "source": [
    "哈哈～ 順便工商一下\n",
    "\n",
    "# <mark>如果您對相關課程有興趣歡迎點擊查看： </mark>\n",
    "- [台科 EMBA 年年爆滿的一門 Word 課(A系列)](https://hahow.in/cr/tmr-word1)\n",
    "- [台科 EMBA 年年爆滿的一門 Word 課(B+C系列)](https://hahow.in/cr/tmr-word2)\n",
    "\n",
    "\n"
   ]
  },
  {
   "cell_type": "code",
   "execution_count": 16,
   "metadata": {},
   "outputs": [],
   "source": [
    "# 進入每個商品，抓取賣家更細節的資料（商品文案、SKU）\n",
    "def goods_detail(item_id, shop_id):\n",
    "    url = 'https://shopee.tw/api/v2/item/get?itemid=' + str(item_id) + '&shopid=' + str(shop_id)\n",
    "    r = requests.get(url,headers = my_headers)\n",
    "    st= r.text.replace(\"\\\\n\",\"^n\")\n",
    "    st=st.replace(\"\\\\t\",\"^t\")\n",
    "    st=st.replace(\"\\\\r\",\"^r\")\n",
    "    \n",
    "    gj=json.loads(st)\n",
    "    return gj\n"
   ]
  },
  {
   "cell_type": "code",
   "execution_count": 55,
   "metadata": {},
   "outputs": [],
   "source": [
    "#一個一個產品進去抓，但是讓我們先抓第2個來試試看\n",
    "product=goods_detail(item_id = items['itemid'].tolist()[1], shop_id = items['shopid'].tolist()[1])['item']"
   ]
  },
  {
   "cell_type": "code",
   "execution_count": 56,
   "metadata": {},
   "outputs": [],
   "source": [
    "# 讓我們將重要的SKU、articles與tags抓取出來\n",
    "articles = []\n",
    "SKU = []\n",
    "tags = []\n",
    "articles.append(product['description'])\n",
    "SKU.append(product['models'])\n",
    "tags.append(product['hashtag_list'])"
   ]
  },
  {
   "cell_type": "code",
   "execution_count": 57,
   "metadata": {},
   "outputs": [],
   "source": [
    "product = pd.DataFrame({'articles':articles, 'SKU':SKU, 'tags':tags})"
   ]
  },
  {
   "cell_type": "code",
   "execution_count": 58,
   "metadata": {},
   "outputs": [
    {
     "output_type": "execute_result",
     "data": {
      "text/plain": "                                            articles  \\\n0  🈵️299免運✈️ 更多優惠查看賣場首頁^n^n👗後四排搭扣內衣👗^n^n5月17日 現貨！...   \n\n                                                 SKU  tags  \n0  [{'itemid': 2202650617, 'status': 1, 'current_...  None  ",
      "text/html": "<div>\n<style scoped>\n    .dataframe tbody tr th:only-of-type {\n        vertical-align: middle;\n    }\n\n    .dataframe tbody tr th {\n        vertical-align: top;\n    }\n\n    .dataframe thead th {\n        text-align: right;\n    }\n</style>\n<table border=\"1\" class=\"dataframe\">\n  <thead>\n    <tr style=\"text-align: right;\">\n      <th></th>\n      <th>articles</th>\n      <th>SKU</th>\n      <th>tags</th>\n    </tr>\n  </thead>\n  <tbody>\n    <tr>\n      <th>0</th>\n      <td>🈵️299免運✈️ 更多優惠查看賣場首頁^n^n👗後四排搭扣內衣👗^n^n5月17日 現貨！...</td>\n      <td>[{'itemid': 2202650617, 'status': 1, 'current_...</td>\n      <td>None</td>\n    </tr>\n  </tbody>\n</table>\n</div>"
     },
     "metadata": {},
     "execution_count": 58
    }
   ],
   "source": [
    "# 查看product裏面的樣子\n",
    "product"
   ]
  },
  {
   "cell_type": "code",
   "execution_count": 59,
   "metadata": {},
   "outputs": [
    {
     "output_type": "execute_result",
     "data": {
      "text/plain": "{'itemid': 2202650617,\n 'status': 1,\n 'current_promotion_reserved_stock': 0,\n 'name': '黑色【現貨】,S',\n 'promotionid': 1029671143,\n 'price': 18700000,\n 'current_promotion_has_reserve_stock': False,\n 'currency': 'TWD',\n 'normal_stock': 785,\n 'extinfo': {'seller_promotion_limit': 0,\n  'has_shopee_promo': True,\n  'group_buy_info': None,\n  'holiday_mode_old_stock': None,\n  'tier_index': [0, 0],\n  'seller_promotion_refresh_time': 1598198400},\n 'price_before_discount': 32400000,\n 'modelid': 4942763549,\n 'sold': 344,\n 'stock': 785}"
     },
     "metadata": {},
     "execution_count": 59
    }
   ],
   "source": [
    "# 抓出第一個SKU的樣子～\n",
    "product['SKU'][0][0]"
   ]
  },
  {
   "cell_type": "markdown",
   "metadata": {},
   "source": [
    "# 爬取<mark>消費者</mark>資料\n",
    "\n",
    "本處使用goods_comments() 來爬取消費者資料，將買家的重要資料給爬取下來，每一列代表一位消費者，其中包含留言內容、商品規格等。"
   ]
  },
  {
   "cell_type": "code",
   "execution_count": 60,
   "metadata": {},
   "outputs": [],
   "source": [
    "# 進入每個商品，抓取買家留言\n",
    "def goods_comments(item_id, shop_id):\n",
    "    url = 'https://shopee.tw/api/v1/comment_list/?item_id='+ str(item_id) + '&shop_id=' + str(shop_id) + '&offset=0&limit=200&flag=1&filter=0'\n",
    "    r = requests.get(url,headers = my_headers)\n",
    "    st= r.text.replace(\"\\\\n\",\"^n\")\n",
    "    st=st.replace(\"\\\\t\",\"^t\")\n",
    "    st=st.replace(\"\\\\r\",\"^r\")\n",
    "    \n",
    "    gj=json.loads(st)\n",
    "    return gj['comments']"
   ]
  },
  {
   "cell_type": "code",
   "execution_count": 61,
   "metadata": {},
   "outputs": [],
   "source": [
    "iteComment = goods_comments(item_id = items['itemid'].tolist()[1], shop_id = items['shopid'].tolist()[1])"
   ]
  },
  {
   "cell_type": "code",
   "execution_count": 64,
   "metadata": {},
   "outputs": [],
   "source": [
    "userinfo = pd.DataFrame(iteComment)"
   ]
  },
  {
   "cell_type": "code",
   "execution_count": 63,
   "metadata": {},
   "outputs": [
    {
     "output_type": "execute_result",
     "data": {
      "text/plain": "        itemid  rating videos username    shopid author_name show_reply  \\\n0   2202650617       1     []  i*****7  45686692     i*****7       None   \n1   2202650617       1     []  f*****3  45686692     f*****3       None   \n2   2202650617       1     []  h*****3  45686692     h*****3       None   \n3   2202650617       1     []  k*****g  45686692     k*****g       None   \n4   2202650617       1     []  p*****7  45686692     p*****7       None   \n..         ...     ...    ...      ...       ...         ...        ...   \n95  2202650617       1     []  y*****8  45686692     y*****8       None   \n96  2202650617       0     []  e*****4  45686692     e*****4       None   \n97  2202650617       1     []  v*****u  45686692     v*****u       None   \n98  2202650617       1     []  g*****7  45686692     g*****7       None   \n99  2202650617       1     []  l*****u  45686692     l*****u       None   \n\n    rating_star  like_count       mtime  ... disputable status       ctime  \\\n0             5         NaN  1596452224  ...          1      2  1596452224   \n1             5         NaN  1596444420  ...          1      2  1596444420   \n2             5         NaN  1596384391  ...          1      2  1596384391   \n3             5         NaN  1596373951  ...          1      2  1596373951   \n4             5         NaN  1596338772  ...          1      2  1596338772   \n..          ...         ...         ...  ...        ...    ...         ...   \n95            5         NaN  1593926642  ...          1      2  1593926642   \n96            3         NaN  1593921183  ...          1      2  1593921183   \n97            5         NaN  1593915242  ...          1      2  1593915242   \n98            5         NaN  1593886819  ...          1      2  1593886819   \n99            5         NaN  1593874598  ...          1      2  1593874598   \n\n                                        product_items  author_shopid  \\\n0   [{'itemid': 2202650617, 'offer_count': 0, 'ite...        8509712   \n1   [{'itemid': 2202650617, 'offer_count': 0, 'ite...       10255512   \n2   [{'itemid': 2202650617, 'offer_count': 0, 'ite...        3736978   \n3   [{'itemid': 2202650617, 'offer_count': 0, 'ite...        2915387   \n4   [{'itemid': 2202650617, 'offer_count': 0, 'ite...       45060056   \n..                                                ...            ...   \n95  [{'itemid': 2202650617, 'offer_count': 0, 'ite...        4664568   \n96  [{'itemid': 2202650617, 'offer_count': 0, 'ite...        5954821   \n97  [{'itemid': 2202650617, 'offer_count': 0, 'ite...       98307398   \n98  [{'itemid': 2202650617, 'offer_count': 0, 'ite...       75581437   \n99  [{'itemid': 2202650617, 'offer_count': 0, 'ite...      242382437   \n\n       userid                                            comment filter  \\\n0     8511008                                                         0   \n1    10256809  7/22下標，7/30到貨，速度還行，158/52，大B小C，扣到最裡面有緊的感覺，副乳乖乖...      3   \n2     3738443                                                         0   \n3     2916761  購買N遍...無極限的好穿^n已經變成代購了~^n説穿運動內衣胸部會下垂...這款我覺的不會...      3   \n4    45061442                                                         0   \n..        ...                                                ...    ...   \n95    4665858                                        顏色比較像內衣的膚色！      1   \n96    5956125                                                         0   \n97   98308876                                                         0   \n98   75582909                                                         0   \n99  242388053                                                         0   \n\n                                        preview_items  \\\n0   [{'itemid': 6408035745, 'snapshotid': 19593825...   \n1   [{'itemid': 2137902538, 'snapshotid': 19332488...   \n2   [{'itemid': 2202650617, 'snapshotid': 19133185...   \n3   [{'itemid': 2191633772, 'snapshotid': 19307993...   \n4   [{'itemid': 2202650617, 'snapshotid': 19607291...   \n..                                                ...   \n95  [{'itemid': 2343797643, 'snapshotid': 19008784...   \n96  [{'itemid': 5420290880, 'snapshotid': 19146725...   \n97  [{'itemid': 2314561519, 'snapshotid': 19146725...   \n98  [{'itemid': 7336387870, 'snapshotid': 19133348...   \n99  [{'itemid': 2202650617, 'snapshotid': 19006363...   \n\n                                                 tags  \n0                                                 NaN  \n1                                                 NaN  \n2       [{'tag_description': '超讚的出貨速度', 'tag_id': 1}]  \n3   [{'tag_description': '超讚的商品品質', 'tag_id': 2}, ...  \n4                                                 NaN  \n..                                                ...  \n95                                                NaN  \n96                                                NaN  \n97                                                NaN  \n98  [{'tag_description': '超讚的出貨速度', 'tag_id': 1}, ...  \n99      [{'tag_description': '超讚的商品品質', 'tag_id': 2}]  \n\n[100 rows x 38 columns]",
      "text/html": "<div>\n<style scoped>\n    .dataframe tbody tr th:only-of-type {\n        vertical-align: middle;\n    }\n\n    .dataframe tbody tr th {\n        vertical-align: top;\n    }\n\n    .dataframe thead th {\n        text-align: right;\n    }\n</style>\n<table border=\"1\" class=\"dataframe\">\n  <thead>\n    <tr style=\"text-align: right;\">\n      <th></th>\n      <th>itemid</th>\n      <th>rating</th>\n      <th>videos</th>\n      <th>username</th>\n      <th>shopid</th>\n      <th>author_name</th>\n      <th>show_reply</th>\n      <th>rating_star</th>\n      <th>like_count</th>\n      <th>mtime</th>\n      <th>...</th>\n      <th>disputable</th>\n      <th>status</th>\n      <th>ctime</th>\n      <th>product_items</th>\n      <th>author_shopid</th>\n      <th>userid</th>\n      <th>comment</th>\n      <th>filter</th>\n      <th>preview_items</th>\n      <th>tags</th>\n    </tr>\n  </thead>\n  <tbody>\n    <tr>\n      <th>0</th>\n      <td>2202650617</td>\n      <td>1</td>\n      <td>[]</td>\n      <td>i*****7</td>\n      <td>45686692</td>\n      <td>i*****7</td>\n      <td>None</td>\n      <td>5</td>\n      <td>NaN</td>\n      <td>1596452224</td>\n      <td>...</td>\n      <td>1</td>\n      <td>2</td>\n      <td>1596452224</td>\n      <td>[{'itemid': 2202650617, 'offer_count': 0, 'ite...</td>\n      <td>8509712</td>\n      <td>8511008</td>\n      <td></td>\n      <td>0</td>\n      <td>[{'itemid': 6408035745, 'snapshotid': 19593825...</td>\n      <td>NaN</td>\n    </tr>\n    <tr>\n      <th>1</th>\n      <td>2202650617</td>\n      <td>1</td>\n      <td>[]</td>\n      <td>f*****3</td>\n      <td>45686692</td>\n      <td>f*****3</td>\n      <td>None</td>\n      <td>5</td>\n      <td>NaN</td>\n      <td>1596444420</td>\n      <td>...</td>\n      <td>1</td>\n      <td>2</td>\n      <td>1596444420</td>\n      <td>[{'itemid': 2202650617, 'offer_count': 0, 'ite...</td>\n      <td>10255512</td>\n      <td>10256809</td>\n      <td>7/22下標，7/30到貨，速度還行，158/52，大B小C，扣到最裡面有緊的感覺，副乳乖乖...</td>\n      <td>3</td>\n      <td>[{'itemid': 2137902538, 'snapshotid': 19332488...</td>\n      <td>NaN</td>\n    </tr>\n    <tr>\n      <th>2</th>\n      <td>2202650617</td>\n      <td>1</td>\n      <td>[]</td>\n      <td>h*****3</td>\n      <td>45686692</td>\n      <td>h*****3</td>\n      <td>None</td>\n      <td>5</td>\n      <td>NaN</td>\n      <td>1596384391</td>\n      <td>...</td>\n      <td>1</td>\n      <td>2</td>\n      <td>1596384391</td>\n      <td>[{'itemid': 2202650617, 'offer_count': 0, 'ite...</td>\n      <td>3736978</td>\n      <td>3738443</td>\n      <td></td>\n      <td>0</td>\n      <td>[{'itemid': 2202650617, 'snapshotid': 19133185...</td>\n      <td>[{'tag_description': '超讚的出貨速度', 'tag_id': 1}]</td>\n    </tr>\n    <tr>\n      <th>3</th>\n      <td>2202650617</td>\n      <td>1</td>\n      <td>[]</td>\n      <td>k*****g</td>\n      <td>45686692</td>\n      <td>k*****g</td>\n      <td>None</td>\n      <td>5</td>\n      <td>NaN</td>\n      <td>1596373951</td>\n      <td>...</td>\n      <td>1</td>\n      <td>2</td>\n      <td>1596373951</td>\n      <td>[{'itemid': 2202650617, 'offer_count': 0, 'ite...</td>\n      <td>2915387</td>\n      <td>2916761</td>\n      <td>購買N遍...無極限的好穿^n已經變成代購了~^n説穿運動內衣胸部會下垂...這款我覺的不會...</td>\n      <td>3</td>\n      <td>[{'itemid': 2191633772, 'snapshotid': 19307993...</td>\n      <td>[{'tag_description': '超讚的商品品質', 'tag_id': 2}, ...</td>\n    </tr>\n    <tr>\n      <th>4</th>\n      <td>2202650617</td>\n      <td>1</td>\n      <td>[]</td>\n      <td>p*****7</td>\n      <td>45686692</td>\n      <td>p*****7</td>\n      <td>None</td>\n      <td>5</td>\n      <td>NaN</td>\n      <td>1596338772</td>\n      <td>...</td>\n      <td>1</td>\n      <td>2</td>\n      <td>1596338772</td>\n      <td>[{'itemid': 2202650617, 'offer_count': 0, 'ite...</td>\n      <td>45060056</td>\n      <td>45061442</td>\n      <td></td>\n      <td>0</td>\n      <td>[{'itemid': 2202650617, 'snapshotid': 19607291...</td>\n      <td>NaN</td>\n    </tr>\n    <tr>\n      <th>...</th>\n      <td>...</td>\n      <td>...</td>\n      <td>...</td>\n      <td>...</td>\n      <td>...</td>\n      <td>...</td>\n      <td>...</td>\n      <td>...</td>\n      <td>...</td>\n      <td>...</td>\n      <td>...</td>\n      <td>...</td>\n      <td>...</td>\n      <td>...</td>\n      <td>...</td>\n      <td>...</td>\n      <td>...</td>\n      <td>...</td>\n      <td>...</td>\n      <td>...</td>\n      <td>...</td>\n    </tr>\n    <tr>\n      <th>95</th>\n      <td>2202650617</td>\n      <td>1</td>\n      <td>[]</td>\n      <td>y*****8</td>\n      <td>45686692</td>\n      <td>y*****8</td>\n      <td>None</td>\n      <td>5</td>\n      <td>NaN</td>\n      <td>1593926642</td>\n      <td>...</td>\n      <td>1</td>\n      <td>2</td>\n      <td>1593926642</td>\n      <td>[{'itemid': 2202650617, 'offer_count': 0, 'ite...</td>\n      <td>4664568</td>\n      <td>4665858</td>\n      <td>顏色比較像內衣的膚色！</td>\n      <td>1</td>\n      <td>[{'itemid': 2343797643, 'snapshotid': 19008784...</td>\n      <td>NaN</td>\n    </tr>\n    <tr>\n      <th>96</th>\n      <td>2202650617</td>\n      <td>0</td>\n      <td>[]</td>\n      <td>e*****4</td>\n      <td>45686692</td>\n      <td>e*****4</td>\n      <td>None</td>\n      <td>3</td>\n      <td>NaN</td>\n      <td>1593921183</td>\n      <td>...</td>\n      <td>1</td>\n      <td>2</td>\n      <td>1593921183</td>\n      <td>[{'itemid': 2202650617, 'offer_count': 0, 'ite...</td>\n      <td>5954821</td>\n      <td>5956125</td>\n      <td></td>\n      <td>0</td>\n      <td>[{'itemid': 5420290880, 'snapshotid': 19146725...</td>\n      <td>NaN</td>\n    </tr>\n    <tr>\n      <th>97</th>\n      <td>2202650617</td>\n      <td>1</td>\n      <td>[]</td>\n      <td>v*****u</td>\n      <td>45686692</td>\n      <td>v*****u</td>\n      <td>None</td>\n      <td>5</td>\n      <td>NaN</td>\n      <td>1593915242</td>\n      <td>...</td>\n      <td>1</td>\n      <td>2</td>\n      <td>1593915242</td>\n      <td>[{'itemid': 2202650617, 'offer_count': 0, 'ite...</td>\n      <td>98307398</td>\n      <td>98308876</td>\n      <td></td>\n      <td>0</td>\n      <td>[{'itemid': 2314561519, 'snapshotid': 19146725...</td>\n      <td>NaN</td>\n    </tr>\n    <tr>\n      <th>98</th>\n      <td>2202650617</td>\n      <td>1</td>\n      <td>[]</td>\n      <td>g*****7</td>\n      <td>45686692</td>\n      <td>g*****7</td>\n      <td>None</td>\n      <td>5</td>\n      <td>NaN</td>\n      <td>1593886819</td>\n      <td>...</td>\n      <td>1</td>\n      <td>2</td>\n      <td>1593886819</td>\n      <td>[{'itemid': 2202650617, 'offer_count': 0, 'ite...</td>\n      <td>75581437</td>\n      <td>75582909</td>\n      <td></td>\n      <td>0</td>\n      <td>[{'itemid': 7336387870, 'snapshotid': 19133348...</td>\n      <td>[{'tag_description': '超讚的出貨速度', 'tag_id': 1}, ...</td>\n    </tr>\n    <tr>\n      <th>99</th>\n      <td>2202650617</td>\n      <td>1</td>\n      <td>[]</td>\n      <td>l*****u</td>\n      <td>45686692</td>\n      <td>l*****u</td>\n      <td>None</td>\n      <td>5</td>\n      <td>NaN</td>\n      <td>1593874598</td>\n      <td>...</td>\n      <td>1</td>\n      <td>2</td>\n      <td>1593874598</td>\n      <td>[{'itemid': 2202650617, 'offer_count': 0, 'ite...</td>\n      <td>242382437</td>\n      <td>242388053</td>\n      <td></td>\n      <td>0</td>\n      <td>[{'itemid': 2202650617, 'snapshotid': 19006363...</td>\n      <td>[{'tag_description': '超讚的商品品質', 'tag_id': 2}]</td>\n    </tr>\n  </tbody>\n</table>\n<p>100 rows × 38 columns</p>\n</div>"
     },
     "metadata": {},
     "execution_count": 63
    }
   ],
   "source": [
    "# 找到消費者留言不同的資料！\n",
    "userinfo"
   ]
  },
  {
   "cell_type": "code",
   "execution_count": 66,
   "metadata": {},
   "outputs": [
    {
     "output_type": "execute_result",
     "data": {
      "text/plain": "Index(['itemid', 'rating', 'videos', 'username', 'shopid', 'author_name',\n       'show_reply', 'rating_star', 'like_count', 'mtime', 'mentioned',\n       'ItemRatingReply', 'is_hidden', 'author_portrait', 'modelid', 'orderid',\n       'cmtid', 'author_pic', 'editable_date', 'authorid', 'tagids',\n       'user_pic', 'UserRatingReply', 'opt', 'author_username', 'images',\n       'editable', 'anonymous', 'disputable', 'status', 'ctime',\n       'product_items', 'author_shopid', 'userid', 'comment', 'filter',\n       'preview_items', 'tags'],\n      dtype='object')"
     },
     "metadata": {},
     "execution_count": 66
    }
   ],
   "source": [
    "userinfo.columns"
   ]
  },
  {
   "cell_type": "markdown",
   "metadata": {},
   "source": [
    "# 將所有functions整合！ 產出後續分析報表\n",
    "* 先使用request_shopee() 快速取得（一頁）100 個商品的資料\n",
    "* 接著從賣家角度切入，使用goods_detail() 獲取商品文案、SKU、商品Tag\n",
    "* 再使用goods_comments() 來補足消費者購買的資料，即可進入我們後續的分析\n",
    "最後融合在一起！"
   ]
  },
  {
   "cell_type": "code",
   "execution_count": null,
   "metadata": {},
   "outputs": [],
   "source": [
    "# 讓我們試爬一頁\n",
    "container = pd.DataFrame()\n",
    "container_comm = pd.DataFrame()\n",
    "for i in tqdm(range(page)):\n",
    "    commentlist = pd.DataFrame()\n",
    "    articles = []\n",
    "    SKU = []\n",
    "    tags = []\n",
    "    items=pd.DataFrame(request_shopee(keyword='運動內衣', page=i)) #先取得100個產品\n",
    "    \n",
    "    # 查看request_shopee爬下來的資料\n",
    "    items2 = items[['itemid','shopid','name', 'price']]\n",
    "    \n",
    "    \n",
    "    #一個一個產品進去抓\n",
    "    # itemid = items['itemid'].tolist()[1]\n",
    "    # shopid = items['shopid'].tolist()[1] \n",
    "    # name = items['name'].tolist()[1] \n",
    "    # price = items['price'].tolist()[1]\n",
    "    for itemid, shopid, name, price in zip(items['itemid'].tolist(), items['shopid'].tolist(), items['name'].tolist(), items['price'].tolist()):\n",
    "        print('正在爬取商品： ' + name[:30] + '...')\n",
    "        product=goods_detail(item_id = itemid, shop_id = shopid)['item']\n",
    "        \n",
    "        \n",
    "        #取得資料\n",
    "        articles.append(product['description'])\n",
    "        SKU.append(product['models'])\n",
    "        tags.append(product['hashtag_list'])\n",
    "        \n",
    "\n",
    "        #評論詳細資料\n",
    "        iteComment = goods_comments(item_id = itemid, shop_id = shopid)\n",
    "\n",
    "        # 如果有comment再往下抓\n",
    "        if len(iteComment)!=0:\n",
    "\n",
    "            # 將留言資料變成data frame形式\n",
    "            user_comment = pd.DataFrame(iteComment)\n",
    "            \n",
    "            # 抓出細部的sku\n",
    "            product_SKU = []\n",
    "            p=[]\n",
    "            for pro in user_comment['product_items']:\n",
    "                p.append(pd.DataFrame(pro)['model_name'].tolist())\n",
    "            # product_SKU.append(p)\n",
    "\n",
    "            # 將後續所要的欄位抓出，並重新命名\n",
    "            user_comment = user_comment.rename(columns = {\n",
    "                'itemid':'商品ID',\n",
    "                'shopid':'賣家ID',\n",
    "                'userid':'使用者ID',\n",
    "                'ctime':'留言時間',\n",
    "                'is_hidden':'是否隱藏',\n",
    "                'orderid':'訂單編號',\n",
    "                'rating_star':'給星',\n",
    "                'comment':'留言內容',\n",
    "                'product_items':'商品規格'\n",
    "            })\n",
    "\n",
    "            # 將SKU放入\n",
    "            user_comment['商品規格']= p\n",
    "\n",
    "            # 將每一件商品存入\n",
    "            container_comm = pd.concat([container_comm, user_comment], axis= 0)\n",
    "\n",
    "\n",
    "    #做成欄位\n",
    "    items['articles'] = articles\n",
    "    items['SKU'] = SKU\n",
    "    items['hashtag_list'] = tags\n",
    "    \n",
    "    \n",
    "    container = pd.concat([container,items], axis=0)\n",
    "    time.sleep(random.randint(10,20))"
   ]
  },
  {
   "cell_type": "code",
   "execution_count": null,
   "metadata": {},
   "outputs": [],
   "source": []
  },
  {
   "cell_type": "code",
   "execution_count": null,
   "metadata": {},
   "outputs": [],
   "source": [
    "container.to_csv(keyword +'_商品資料.csv', encoding = 'utf-8-sig') #Mac使用utf-8   \n",
    "container_comm.to_csv(keyword +'_留言資料.csv', encoding = 'utf-8-sig') #Mac使用utf-8 \n",
    "\n"
   ]
  }
 ]
}